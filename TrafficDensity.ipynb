{
 "cells": [
  {
   "cell_type": "markdown",
   "metadata": {
    "tags": [
     "main.header"
    ]
   },
   "source": [
    "# `Midterm 2`: `Spring 2024`\n",
    "_Version 0.0.2_\n",
    "\n",
    "*All of the header information is important. Please read it..*\n",
    "\n",
    "**Topics number of exercises:** This problem builds on your knowledge of `['Working with relational data (SQL/Pandas)', 'Working with Numpy Arrays']`. It has **7** exercises numbered 0 to **6**. There are **13** available points. However to earn 100% the threshold is **11** points. (Therefore once you hit **11** points you can stop. There is no extra credit for exceeding this threshold.)\n",
    "\n",
    "**Exercise ordering:** Each exercise builds logically on previous exercises but you may solve them in any order. That is if you can't solve an exercise you can still move on and try the next one. Use this to your advantage as the exercises are **not** necessarily ordered in terms of difficulty. Higher point values generally indicate more difficult exercises. \n",
    "\n",
    "**Demo cells:** Code cells starting with the comment `### define demo inputs` load results from prior exercises applied to the entire data set and use those to build demo inputs. These must be run for subsequent demos to work properly but they do not affect the test cells. The data loaded in these cells may be rather large (at least in terms of human readability). You are free to print or otherwise use Python to explore them but we may not print them in the starter code.\n",
    "\n",
    "**Debugging you code:** Right before each exercise test cell there is a block of text explaining the variables available to you for debugging. You may use these to test your code and can print/display them as needed (careful when printing large objects you may want to print the head or chunks of rows at a time).\n",
    "\n",
    "**Exercise point breakdown:**\n",
    "\n",
    "\n",
    "- Exercise 0 - : **1** point(s)\n",
    "\n",
    "- Exercise 1 - : **1** point(s)\n",
    "\n",
    "- Exercise 2 - : **2** point(s)\n",
    "\n",
    "- Exercise 3 - : **2** point(s)\n",
    "\n",
    "- Exercise 4 - : **2** point(s)\n",
    "\n",
    "- Exercise 5 - : **2** point(s)\n",
    "\n",
    "- Exercise 6 - : **3** point(s)\n",
    "\n",
    "\n",
    "**Final reminders:** \n",
    "\n",
    "- Submit after **every exercise**\n",
    "- Review the generated grade report after you submit to see what errors were returned\n",
    "- Stay calm, skip problems as needed and take short breaks at your leisure"
   ]
  },
  {
   "cell_type": "code",
   "execution_count": 14,
   "metadata": {
    "collapsed": true
   },
   "outputs": [],
   "source": [
    "import re\n",
    "import pandas as pd\n",
    "import numpy as np\n",
    "import sqlite3\n",
    "\n",
    "conn = sqlite3.connect('file:resource/asnlib/publicdata/traffic.db?mode=ro', uri=True)"
   ]
  },
  {
   "cell_type": "markdown",
   "metadata": {
    "tags": [
     "get_table_cols.prompt"
    ]
   },
   "source": [
    "## Exercise 0: (1 points)\n",
    "**get_table_cols**  \n",
    "\n",
    "**Your task:** define `get_table_cols` as follows:\n",
    "\n"
   ]
  },
  {
   "cell_type": "markdown",
   "metadata": {},
   "source": [
    "Given a SQLite database connection and a table name determine the column names for that table. Return your result as a Python list sorted in alphabetical order.\n",
    "\n",
    "This solution most likely requires running a dynamically generated command against the database connection, however SQLite does not allow parameters in a FROM clause. For the sake of this exercise, the security team has magically given approval for self-validation. To meet the standard `get_table_cols` must verify that the `table_name` parameter only contains letters, numbers, or underscores. If that is not the case a ValueError must be raised."
   ]
  },
  {
   "cell_type": "code",
   "execution_count": 15,
   "metadata": {
    "tags": [
     "get_table_cols.solution"
    ]
   },
   "outputs": [
    {
     "name": "stdout",
     "output_type": "stream",
     "text": [
      "['COLLISION_ID', 'CONTRIBUTING_FACTOR_1', 'CONTRIBUTING_FACTOR_2', 'CRASH_DATE', 'CRASH_TIME', 'DRIVER_LICENSE_JURISDICTION', 'DRIVER_LICENSE_STATUS', 'DRIVER_SEX', 'POINT_OF_IMPACT', 'PRE_CRASH', 'PUBLIC_PROPERTY_DAMAGE', 'PUBLIC_PROPERTY_DAMAGE_TYPE', 'STATE_REGISTRATION', 'TRAVEL_DIRECTION', 'UNIQUE_ID', 'VEHICLE_DAMAGE', 'VEHICLE_DAMAGE_1', 'VEHICLE_DAMAGE_2', 'VEHICLE_DAMAGE_3', 'VEHICLE_ID', 'VEHICLE_MAKE', 'VEHICLE_MODEL', 'VEHICLE_OCCUPANTS', 'VEHICLE_TYPE', 'VEHICLE_YEAR']\n"
     ]
    }
   ],
   "source": [
    "### Solution - Exercise 0  \n",
    "\n",
    "def get_table_cols(table_name, conn):\n",
    "    ###\n",
    "    if re.search('\\W', table_name) is not None:\n",
    "        raise ValueError\n",
    "    return sorted(pd.read_sql(f'''SELECT * FROM {table_name} LIMIT 1''', conn).columns)\n",
    "    ###\n",
    "\n",
    "### Demo function call\n",
    "print(get_table_cols(table_name='vehicles', conn=conn))"
   ]
  },
  {
   "cell_type": "markdown",
   "metadata": {},
   "source": [
    "The demo above should display the following output:\n",
    "```\n",
    "['COLLISION_ID', 'CONTRIBUTING_FACTOR_1', 'CONTRIBUTING_FACTOR_2', 'CRASH_DATE', 'CRASH_TIME', 'DRIVER_LICENSE_JURISDICTION', 'DRIVER_LICENSE_STATUS', 'DRIVER_SEX', 'POINT_OF_IMPACT', 'PRE_CRASH', 'PUBLIC_PROPERTY_DAMAGE', 'PUBLIC_PROPERTY_DAMAGE_TYPE', 'STATE_REGISTRATION', 'TRAVEL_DIRECTION', 'UNIQUE_ID', 'VEHICLE_DAMAGE', 'VEHICLE_DAMAGE_1', 'VEHICLE_DAMAGE_2', 'VEHICLE_DAMAGE_3', 'VEHICLE_ID', 'VEHICLE_MAKE', 'VEHICLE_MODEL', 'VEHICLE_OCCUPANTS', 'VEHICLE_TYPE', 'VEHICLE_YEAR']\n",
    "\n",
    "```"
   ]
  },
  {
   "cell_type": "markdown",
   "metadata": {
    "tags": [
     "get_table_cols.test_boilerplate"
    ]
   },
   "source": [
    " <!-- Test Cell Boilerplate -->  \n",
    "The cell below will test your solution for get_table_cols (exercise 0). The testing variables will be available for debugging under the following names in a dictionary format.  \n",
    "- `input_vars` - Input variables for your solution.   \n",
    "- `original_input_vars` - Copy of input variables from prior to running your solution. Any `key:value` pair in `original_input_vars` should also exist in `input_vars` - otherwise the inputs were modified by your solution.  \n",
    "- `returned_output_vars` - Outputs returned by your solution.  \n",
    "- `true_output_vars` - The expected output. This _should_ \"match\" `returned_output_vars` based on the question requirements - otherwise, your solution is not returning the correct output. "
   ]
  },
  {
   "cell_type": "code",
   "execution_count": 16,
   "metadata": {
    "collapsed": true
   },
   "outputs": [],
   "source": [
    "def get_table_cols_wrapper(table_name, conn):\n",
    "    out = None\n",
    "    err = False\n",
    "    try:\n",
    "        out = get_table_cols(table_name, conn)\n",
    "    except ValueError:\n",
    "        err = True\n",
    "    finally:\n",
    "        return err, out"
   ]
  },
  {
   "cell_type": "code",
   "execution_count": 17,
   "metadata": {
    "deletable": false,
    "editable": false,
    "nbgrader": {
     "grade": true,
     "grade_id": "ex_0",
     "locked": true,
     "points": 1,
     "solution": false
    },
    "tags": [
     "get_table_cols.test"
    ]
   },
   "outputs": [
    {
     "name": "stdout",
     "output_type": "stream",
     "text": [
      "Passed! Please submit.\n"
     ]
    }
   ],
   "source": [
    "### Test Cell - Exercise 0  \n",
    "\n",
    "from cse6040_devkit.tester_fw.testers import Tester\n",
    "from yaml import safe_load\n",
    "\n",
    "with open('resource/asnlib/publicdata/assignment_config.yaml') as f:\n",
    "    ex_conf = safe_load(f)['exercises']['get_table_cols']['config']\n",
    "\n",
    "ex_conf['func'] = get_table_cols_wrapper\n",
    "\n",
    "tester = Tester(ex_conf, key=b'fnyLpMOE1kzPU139jnXiRzK8TQaOmdpujOXBA7ere7M=', path='resource/asnlib/publicdata/')\n",
    "for _ in range(100):\n",
    "    try:\n",
    "        tester.run_test()\n",
    "        (input_vars, original_input_vars, returned_output_vars, true_output_vars) = tester.get_test_vars()\n",
    "    except:\n",
    "        (input_vars, original_input_vars, returned_output_vars, true_output_vars) = tester.get_test_vars()\n",
    "        raise\n",
    "\n",
    "###\n",
    "### AUTOGRADER TEST - DO NOT REMOVE\n",
    "###\n",
    "\n",
    "print('Passed! Please submit.')"
   ]
  },
  {
   "cell_type": "markdown",
   "metadata": {
    "tags": [
     "intersection_of_cols.prompt"
    ]
   },
   "source": [
    "## Exercise 1: (1 points)\n",
    "**intersection_of_cols**  \n",
    "\n",
    "**Your task:** define `intersection_of_cols` as follows:\n",
    "\n"
   ]
  },
  {
   "cell_type": "markdown",
   "metadata": {},
   "source": [
    "Given a list (`lol`) containing sub-lists of table column names, identify all column names which are present in at least `num` sublists.  \n",
    "\n",
    "Return your result as a Python set."
   ]
  },
  {
   "cell_type": "code",
   "execution_count": 18,
   "metadata": {
    "tags": [
     "intersection_of_cols.solution"
    ]
   },
   "outputs": [
    {
     "name": "stdout",
     "output_type": "stream",
     "text": [
      "num=2; intersection={'oscar', 'paul', 'phyllis'}\n",
      "num=3; intersection={'phyllis'}\n"
     ]
    }
   ],
   "source": [
    "### Solution - Exercise 1  \n",
    "from collections import defaultdict\n",
    "def intersection_of_cols(lol: list, num=None) -> set:\n",
    "    assert len(lol) > 1, '`lol` must have at least 2 items'\n",
    "    if num is None:\n",
    "        num = len(lol)\n",
    "    ###\n",
    "    personDict = defaultdict(int)\n",
    "    for table in lol:\n",
    "        for person in table:\n",
    "            personDict[person]+=1\n",
    "    \n",
    "    finalSet = set()\n",
    "    for key in personDict:\n",
    "        if personDict[key] >= num:\n",
    "            finalSet.add(key)\n",
    "    return finalSet\n",
    "    ###\n",
    "\n",
    "### Demo function call\n",
    "for num in [2,3]:\n",
    "    demo_intersection = intersection_of_cols(\n",
    "        lol=[['ringo', 'phyllis', 'angela', 'paul'], \n",
    "             ['kevin', 'paul', 'oscar', 'kelly', 'phyllis'], \n",
    "             ['phyllis', 'oscar', 'ryan', 'john', 'toby']],\n",
    "        num=num)\n",
    "    print(f'num={num}; intersection={demo_intersection}')"
   ]
  },
  {
   "cell_type": "markdown",
   "metadata": {},
   "source": [
    "The demo above should display the following output:\n",
    "```\n",
    "num=2; intersection={'oscar', 'paul', 'phyllis'}\n",
    "num=3; intersection={'phyllis'}\n",
    "\n",
    "```"
   ]
  },
  {
   "cell_type": "markdown",
   "metadata": {
    "tags": [
     "intersection_of_cols.test_boilerplate"
    ]
   },
   "source": [
    " <!-- Test Cell Boilerplate -->  \n",
    "The cell below will test your solution for intersection_of_cols (exercise 1). The testing variables will be available for debugging under the following names in a dictionary format.  \n",
    "- `input_vars` - Input variables for your solution.   \n",
    "- `original_input_vars` - Copy of input variables from prior to running your solution. Any `key:value` pair in `original_input_vars` should also exist in `input_vars` - otherwise the inputs were modified by your solution.  \n",
    "- `returned_output_vars` - Outputs returned by your solution.  \n",
    "- `true_output_vars` - The expected output. This _should_ \"match\" `returned_output_vars` based on the question requirements - otherwise, your solution is not returning the correct output. "
   ]
  },
  {
   "cell_type": "code",
   "execution_count": 19,
   "metadata": {
    "deletable": false,
    "editable": false,
    "nbgrader": {
     "grade": true,
     "grade_id": "ex_1",
     "locked": true,
     "points": 1,
     "solution": false
    },
    "tags": [
     "intersection_of_cols.test"
    ]
   },
   "outputs": [
    {
     "name": "stdout",
     "output_type": "stream",
     "text": [
      "Passed! Please submit.\n"
     ]
    }
   ],
   "source": [
    "### Test Cell - Exercise 1  \n",
    "\n",
    "from cse6040_devkit.tester_fw.testers import Tester\n",
    "from yaml import safe_load\n",
    "\n",
    "with open('resource/asnlib/publicdata/assignment_config.yaml') as f:\n",
    "    ex_conf = safe_load(f)['exercises']['intersection_of_cols']['config']\n",
    "\n",
    "ex_conf['func'] = intersection_of_cols\n",
    "\n",
    "tester = Tester(ex_conf, key=b'raZA_h68J-9hTejHs20uHCC1YESrg7_SN5rqzwaaOHk=', path='resource/asnlib/publicdata/')\n",
    "for _ in range(100):\n",
    "    try:\n",
    "        tester.run_test()\n",
    "        (input_vars, original_input_vars, returned_output_vars, true_output_vars) = tester.get_test_vars()\n",
    "    except:\n",
    "        (input_vars, original_input_vars, returned_output_vars, true_output_vars) = tester.get_test_vars()\n",
    "        raise\n",
    "\n",
    "###\n",
    "### AUTOGRADER TEST - DO NOT REMOVE\n",
    "###\n",
    "\n",
    "print('Passed! Please submit.')"
   ]
  },
  {
   "cell_type": "markdown",
   "metadata": {
    "tags": [
     "summarize_person.prompt"
    ]
   },
   "source": [
    "## Exercise 2: (2 points)\n",
    "**summarize_person**  \n",
    "\n",
    "**Your task:** define `summarize_person` as follows:\n",
    "\n"
   ]
  },
  {
   "cell_type": "markdown",
   "metadata": {},
   "source": [
    "Given a SQLite database connection which contains the PERSON table provide a summary with these columns:\n",
    "- YEAR: Year for which summary stats are computed. (taken from the CRASH_DATE field)\n",
    "- INJURY_COUNT: Count of records with 'Injured' values in the PERSON_INJURY field for the same year.\n",
    "- DEATHS_COUNT: Count of records with 'Killed' values in the PERSON_INJURY field for the same year.\n",
    "- UNSPECIFIED_COUNT: Count of records with 'Unspecified' values in the PERSON_INJURY field for the same year.\n",
    "\n",
    "Return your result as a Pandas DataFrame."
   ]
  },
  {
   "cell_type": "code",
   "execution_count": 20,
   "metadata": {
    "tags": [
     "summarize_person.solution"
    ]
   },
   "outputs": [
    {
     "data": {
      "text/html": [
       "<div>\n",
       "<style scoped>\n",
       "    .dataframe tbody tr th:only-of-type {\n",
       "        vertical-align: middle;\n",
       "    }\n",
       "\n",
       "    .dataframe tbody tr th {\n",
       "        vertical-align: top;\n",
       "    }\n",
       "\n",
       "    .dataframe thead th {\n",
       "        text-align: right;\n",
       "    }\n",
       "</style>\n",
       "<table border=\"1\" class=\"dataframe\">\n",
       "  <thead>\n",
       "    <tr style=\"text-align: right;\">\n",
       "      <th></th>\n",
       "      <th>YEAR</th>\n",
       "      <th>INJURY_COUNT</th>\n",
       "      <th>DEATHS_COUNT</th>\n",
       "      <th>UNSPECIFIED_COUNT</th>\n",
       "    </tr>\n",
       "  </thead>\n",
       "  <tbody>\n",
       "    <tr>\n",
       "      <th>0</th>\n",
       "      <td>2012</td>\n",
       "      <td>27447</td>\n",
       "      <td>137</td>\n",
       "      <td>87</td>\n",
       "    </tr>\n",
       "    <tr>\n",
       "      <th>1</th>\n",
       "      <td>2013</td>\n",
       "      <td>55127</td>\n",
       "      <td>297</td>\n",
       "      <td>191</td>\n",
       "    </tr>\n",
       "    <tr>\n",
       "      <th>2</th>\n",
       "      <td>2014</td>\n",
       "      <td>51212</td>\n",
       "      <td>262</td>\n",
       "      <td>379</td>\n",
       "    </tr>\n",
       "    <tr>\n",
       "      <th>3</th>\n",
       "      <td>2015</td>\n",
       "      <td>51357</td>\n",
       "      <td>243</td>\n",
       "      <td>571</td>\n",
       "    </tr>\n",
       "    <tr>\n",
       "      <th>4</th>\n",
       "      <td>2016</td>\n",
       "      <td>60076</td>\n",
       "      <td>239</td>\n",
       "      <td>740038</td>\n",
       "    </tr>\n",
       "    <tr>\n",
       "      <th>5</th>\n",
       "      <td>2017</td>\n",
       "      <td>60655</td>\n",
       "      <td>261</td>\n",
       "      <td>900859</td>\n",
       "    </tr>\n",
       "    <tr>\n",
       "      <th>6</th>\n",
       "      <td>2018</td>\n",
       "      <td>61918</td>\n",
       "      <td>231</td>\n",
       "      <td>884054</td>\n",
       "    </tr>\n",
       "    <tr>\n",
       "      <th>7</th>\n",
       "      <td>2019</td>\n",
       "      <td>61388</td>\n",
       "      <td>244</td>\n",
       "      <td>792637</td>\n",
       "    </tr>\n",
       "    <tr>\n",
       "      <th>8</th>\n",
       "      <td>2020</td>\n",
       "      <td>44614</td>\n",
       "      <td>269</td>\n",
       "      <td>368310</td>\n",
       "    </tr>\n",
       "    <tr>\n",
       "      <th>9</th>\n",
       "      <td>2021</td>\n",
       "      <td>51782</td>\n",
       "      <td>296</td>\n",
       "      <td>333997</td>\n",
       "    </tr>\n",
       "    <tr>\n",
       "      <th>10</th>\n",
       "      <td>2022</td>\n",
       "      <td>51931</td>\n",
       "      <td>289</td>\n",
       "      <td>310335</td>\n",
       "    </tr>\n",
       "    <tr>\n",
       "      <th>11</th>\n",
       "      <td>2023</td>\n",
       "      <td>54230</td>\n",
       "      <td>273</td>\n",
       "      <td>284491</td>\n",
       "    </tr>\n",
       "    <tr>\n",
       "      <th>12</th>\n",
       "      <td>2024</td>\n",
       "      <td>8037</td>\n",
       "      <td>41</td>\n",
       "      <td>41617</td>\n",
       "    </tr>\n",
       "  </tbody>\n",
       "</table>\n",
       "</div>"
      ],
      "text/plain": [
       "    YEAR  INJURY_COUNT  DEATHS_COUNT  UNSPECIFIED_COUNT\n",
       "0   2012         27447           137                 87\n",
       "1   2013         55127           297                191\n",
       "2   2014         51212           262                379\n",
       "3   2015         51357           243                571\n",
       "4   2016         60076           239             740038\n",
       "5   2017         60655           261             900859\n",
       "6   2018         61918           231             884054\n",
       "7   2019         61388           244             792637\n",
       "8   2020         44614           269             368310\n",
       "9   2021         51782           296             333997\n",
       "10  2022         51931           289             310335\n",
       "11  2023         54230           273             284491\n",
       "12  2024          8037            41              41617"
      ]
     },
     "metadata": {},
     "output_type": "display_data"
    }
   ],
   "source": [
    "### Solution - Exercise 2  \n",
    "\n",
    "def summarize_person(conn):\n",
    "    ###\n",
    "    query = '''\n",
    "        SELECT SUBSTR(CRASH_DATE, 7) AS YEAR, \n",
    "            SUM(PERSON_INJURY=\"Injured\") AS INJURY_COUNT,\n",
    "            SUM(PERSON_INJURY=\"Killed\") AS DEATHS_COUNT,\n",
    "            SUM(PERSON_INJURY=\"Unspecified\") AS UNSPECIFIED_COUNT\n",
    "        FROM PERSON\n",
    "        GROUP BY 1\n",
    "'''\n",
    "    df = pd.read_sql_query(query, conn)\n",
    "    return df\n",
    "    ###\n",
    "\n",
    "### Demo function call\n",
    "demo_person_summary_df = summarize_person(conn)\n",
    "display(demo_person_summary_df)"
   ]
  },
  {
   "cell_type": "markdown",
   "metadata": {},
   "source": [
    "The demo above should display the following output:  \n",
    "\n",
    "|    |   YEAR |   INJURY_COUNT |   DEATHS_COUNT |   UNSPECIFIED_COUNT |\n",
    "|---:|-------:|---------------:|---------------:|--------------------:|\n",
    "|  0 |   2012 |          27447 |            137 |                  87 |\n",
    "|  1 |   2013 |          55127 |            297 |                 191 |\n",
    "|  2 |   2014 |          51212 |            262 |                 379 |\n",
    "|  3 |   2015 |          51357 |            243 |                 571 |\n",
    "|  4 |   2016 |          60076 |            239 |              740038 |\n",
    "|  5 |   2017 |          60655 |            261 |              900859 |\n",
    "|  6 |   2018 |          61918 |            231 |              884054 |\n",
    "|  7 |   2019 |          61388 |            244 |              792637 |\n",
    "|  8 |   2020 |          44614 |            269 |              368310 |\n",
    "|  9 |   2021 |          51782 |            296 |              333997 |\n",
    "| 10 |   2022 |          51931 |            289 |              310335 |\n",
    "| 11 |   2023 |          54230 |            273 |              284491 |\n",
    "| 12 |   2024 |           8037 |             41 |               41617 |"
   ]
  },
  {
   "cell_type": "markdown",
   "metadata": {
    "tags": [
     "summarize_person.test_boilerplate"
    ]
   },
   "source": [
    " <!-- Test Cell Boilerplate -->  \n",
    "The cell below will test your solution for summarize_person (exercise 2). The testing variables will be available for debugging under the following names in a dictionary format.  \n",
    "- `input_vars` - Input variables for your solution.   \n",
    "- `original_input_vars` - Copy of input variables from prior to running your solution. Any `key:value` pair in `original_input_vars` should also exist in `input_vars` - otherwise the inputs were modified by your solution.  \n",
    "- `returned_output_vars` - Outputs returned by your solution.  \n",
    "- `true_output_vars` - The expected output. This _should_ \"match\" `returned_output_vars` based on the question requirements - otherwise, your solution is not returning the correct output. "
   ]
  },
  {
   "cell_type": "code",
   "execution_count": 21,
   "metadata": {
    "deletable": false,
    "editable": false,
    "nbgrader": {
     "grade": true,
     "grade_id": "ex_2",
     "locked": true,
     "points": 2,
     "solution": false
    },
    "tags": [
     "summarize_person.test"
    ]
   },
   "outputs": [
    {
     "name": "stdout",
     "output_type": "stream",
     "text": [
      "Passed! Please submit.\n"
     ]
    }
   ],
   "source": [
    "### Test Cell - Exercise 2  \n",
    "\n",
    "from cse6040_devkit.tester_fw.testers import Tester\n",
    "from yaml import safe_load\n",
    "\n",
    "with open('resource/asnlib/publicdata/assignment_config.yaml') as f:\n",
    "    ex_conf = safe_load(f)['exercises']['summarize_person']['config']\n",
    "\n",
    "ex_conf['func'] = summarize_person\n",
    "\n",
    "tester = Tester(ex_conf, key=b'Dlr-TXAq3EljYXsnF0vtXoIhJ6PhRDCqW9-8sdTW5bo=', path='resource/asnlib/publicdata/')\n",
    "for _ in range(5):\n",
    "    try:\n",
    "        tester.run_test()\n",
    "        (input_vars, original_input_vars, returned_output_vars, true_output_vars) = tester.get_test_vars()\n",
    "    except:\n",
    "        (input_vars, original_input_vars, returned_output_vars, true_output_vars) = tester.get_test_vars()\n",
    "        raise\n",
    "\n",
    "###\n",
    "### AUTOGRADER TEST - DO NOT REMOVE\n",
    "###\n",
    "\n",
    "print('Passed! Please submit.')"
   ]
  },
  {
   "cell_type": "markdown",
   "metadata": {
    "tags": [
     "summarize_crashes.prompt"
    ]
   },
   "source": [
    "## Exercise 3: (2 points)\n",
    "**summarize_crashes**  \n",
    "\n",
    "**Your task:** define `summarize_crashes` as follows:\n",
    "\n"
   ]
  },
  {
   "cell_type": "markdown",
   "metadata": {},
   "source": [
    "Given a SQLite database connection which contains the CRASHES table provide a summary with these columns:\n",
    "- YEAR: Year for which summary stats are computed. (taken from the \"CRASH DATE\" field)\n",
    "- CRASH_COUNT: Count of crashes in the same year.\n",
    "- DEATHS: Sum of the \"NUMBER OF PERSONS KILLED\" values in the same year.\n",
    "- PEDESTRIAN_DEATHS: Sum of the \"NUMBER OF PEDESTRIANS KILLED\" values in the same year.\n",
    "- PEDESTRIAN_DEATH_SHARE: The quotient PEDESTRIAN_DEATHS/DEATHS\n",
    "- DEATHS_PER_CRASH: The quotient DEATHS/CRASH_COUNT\n",
    "\n",
    "Return your result as a Pandas DataFrame"
   ]
  },
  {
   "cell_type": "code",
   "execution_count": 42,
   "metadata": {
    "tags": [
     "summarize_crashes.solution"
    ]
   },
   "outputs": [
    {
     "data": {
      "text/html": [
       "<div>\n",
       "<style scoped>\n",
       "    .dataframe tbody tr th:only-of-type {\n",
       "        vertical-align: middle;\n",
       "    }\n",
       "\n",
       "    .dataframe tbody tr th {\n",
       "        vertical-align: top;\n",
       "    }\n",
       "\n",
       "    .dataframe thead th {\n",
       "        text-align: right;\n",
       "    }\n",
       "</style>\n",
       "<table border=\"1\" class=\"dataframe\">\n",
       "  <thead>\n",
       "    <tr style=\"text-align: right;\">\n",
       "      <th></th>\n",
       "      <th>YEAR</th>\n",
       "      <th>CRASH_COUNT</th>\n",
       "      <th>DEATHS</th>\n",
       "      <th>PEDESTRIAN_DEATHS</th>\n",
       "      <th>PEDESTRIAN_DEATH_SHARE</th>\n",
       "      <th>DEATHS_PER_CRASH</th>\n",
       "    </tr>\n",
       "  </thead>\n",
       "  <tbody>\n",
       "    <tr>\n",
       "      <th>0</th>\n",
       "      <td>2012</td>\n",
       "      <td>100545</td>\n",
       "      <td>137.0</td>\n",
       "      <td>72</td>\n",
       "      <td>0.525547</td>\n",
       "      <td>0.001363</td>\n",
       "    </tr>\n",
       "    <tr>\n",
       "      <th>1</th>\n",
       "      <td>2013</td>\n",
       "      <td>203742</td>\n",
       "      <td>297.0</td>\n",
       "      <td>176</td>\n",
       "      <td>0.592593</td>\n",
       "      <td>0.001458</td>\n",
       "    </tr>\n",
       "    <tr>\n",
       "      <th>2</th>\n",
       "      <td>2014</td>\n",
       "      <td>206033</td>\n",
       "      <td>262.0</td>\n",
       "      <td>133</td>\n",
       "      <td>0.507634</td>\n",
       "      <td>0.001272</td>\n",
       "    </tr>\n",
       "    <tr>\n",
       "      <th>3</th>\n",
       "      <td>2015</td>\n",
       "      <td>217694</td>\n",
       "      <td>243.0</td>\n",
       "      <td>133</td>\n",
       "      <td>0.547325</td>\n",
       "      <td>0.001116</td>\n",
       "    </tr>\n",
       "    <tr>\n",
       "      <th>4</th>\n",
       "      <td>2016</td>\n",
       "      <td>229831</td>\n",
       "      <td>246.0</td>\n",
       "      <td>149</td>\n",
       "      <td>0.605691</td>\n",
       "      <td>0.001070</td>\n",
       "    </tr>\n",
       "    <tr>\n",
       "      <th>5</th>\n",
       "      <td>2017</td>\n",
       "      <td>231007</td>\n",
       "      <td>256.0</td>\n",
       "      <td>127</td>\n",
       "      <td>0.496094</td>\n",
       "      <td>0.001108</td>\n",
       "    </tr>\n",
       "    <tr>\n",
       "      <th>6</th>\n",
       "      <td>2018</td>\n",
       "      <td>231564</td>\n",
       "      <td>231.0</td>\n",
       "      <td>123</td>\n",
       "      <td>0.532468</td>\n",
       "      <td>0.000998</td>\n",
       "    </tr>\n",
       "    <tr>\n",
       "      <th>7</th>\n",
       "      <td>2019</td>\n",
       "      <td>211486</td>\n",
       "      <td>244.0</td>\n",
       "      <td>131</td>\n",
       "      <td>0.536885</td>\n",
       "      <td>0.001154</td>\n",
       "    </tr>\n",
       "    <tr>\n",
       "      <th>8</th>\n",
       "      <td>2020</td>\n",
       "      <td>112915</td>\n",
       "      <td>269.0</td>\n",
       "      <td>101</td>\n",
       "      <td>0.375465</td>\n",
       "      <td>0.002382</td>\n",
       "    </tr>\n",
       "    <tr>\n",
       "      <th>9</th>\n",
       "      <td>2021</td>\n",
       "      <td>110549</td>\n",
       "      <td>296.0</td>\n",
       "      <td>131</td>\n",
       "      <td>0.442568</td>\n",
       "      <td>0.002678</td>\n",
       "    </tr>\n",
       "    <tr>\n",
       "      <th>10</th>\n",
       "      <td>2022</td>\n",
       "      <td>103881</td>\n",
       "      <td>289.0</td>\n",
       "      <td>134</td>\n",
       "      <td>0.463668</td>\n",
       "      <td>0.002782</td>\n",
       "    </tr>\n",
       "    <tr>\n",
       "      <th>11</th>\n",
       "      <td>2023</td>\n",
       "      <td>96563</td>\n",
       "      <td>273.0</td>\n",
       "      <td>104</td>\n",
       "      <td>0.380952</td>\n",
       "      <td>0.002827</td>\n",
       "    </tr>\n",
       "    <tr>\n",
       "      <th>12</th>\n",
       "      <td>2024</td>\n",
       "      <td>14259</td>\n",
       "      <td>41.0</td>\n",
       "      <td>17</td>\n",
       "      <td>0.414634</td>\n",
       "      <td>0.002875</td>\n",
       "    </tr>\n",
       "  </tbody>\n",
       "</table>\n",
       "</div>"
      ],
      "text/plain": [
       "    YEAR  CRASH_COUNT  DEATHS  PEDESTRIAN_DEATHS  PEDESTRIAN_DEATH_SHARE  \\\n",
       "0   2012       100545   137.0                 72                0.525547   \n",
       "1   2013       203742   297.0                176                0.592593   \n",
       "2   2014       206033   262.0                133                0.507634   \n",
       "3   2015       217694   243.0                133                0.547325   \n",
       "4   2016       229831   246.0                149                0.605691   \n",
       "5   2017       231007   256.0                127                0.496094   \n",
       "6   2018       231564   231.0                123                0.532468   \n",
       "7   2019       211486   244.0                131                0.536885   \n",
       "8   2020       112915   269.0                101                0.375465   \n",
       "9   2021       110549   296.0                131                0.442568   \n",
       "10  2022       103881   289.0                134                0.463668   \n",
       "11  2023        96563   273.0                104                0.380952   \n",
       "12  2024        14259    41.0                 17                0.414634   \n",
       "\n",
       "    DEATHS_PER_CRASH  \n",
       "0           0.001363  \n",
       "1           0.001458  \n",
       "2           0.001272  \n",
       "3           0.001116  \n",
       "4           0.001070  \n",
       "5           0.001108  \n",
       "6           0.000998  \n",
       "7           0.001154  \n",
       "8           0.002382  \n",
       "9           0.002678  \n",
       "10          0.002782  \n",
       "11          0.002827  \n",
       "12          0.002875  "
      ]
     },
     "metadata": {},
     "output_type": "display_data"
    }
   ],
   "source": [
    "### Solution - Exercise 3  \n",
    "\n",
    "def summarize_crashes(conn):\n",
    "    ###\n",
    "    query = '''\n",
    "        SELECT SUBSTR(\"CRASH DATE\", 7) AS YEAR, \n",
    "                COUNT(\"CRASH DATE\") AS CRASH_COUNT,\n",
    "                SUM(\"NUMBER OF PERSONS KILLED\") AS DEATHS,\n",
    "                SUM(\"NUMBER OF PEDESTRIANS KILLED\") AS PEDESTRIAN_DEATHS,\n",
    "                (SUM(\"NUMBER OF PEDESTRIANS KILLED\")/SUM(\"NUMBER OF PERSONS KILLED\")) AS PEDESTRIAN_DEATH_SHARE,\n",
    "                (SUM(\"NUMBER OF PERSONS KILLED\")/COUNT(\"CRASH DATE\")) AS DEATHS_PER_CRASH\n",
    "        FROM CRASHES\n",
    "        GROUP BY 1\n",
    "'''\n",
    "    df = pd.read_sql_query(query, conn)\n",
    "    return df\n",
    "    ###\n",
    "\n",
    "### Demo function call\n",
    "demo_crashes_summary = summarize_crashes(conn)\n",
    "display(demo_crashes_summary)"
   ]
  },
  {
   "cell_type": "markdown",
   "metadata": {},
   "source": [
    "The demo above should display the following output:  \n",
    "\n",
    "|    |   YEAR |   CRASH_COUNT |   DEATHS |   PEDESTRIAN_DEATHS |   PEDESTRIAN_DEATH_SHARE |   DEATHS_PER_CRASH |\n",
    "|---:|-------:|--------------:|---------:|--------------------:|-------------------------:|-------------------:|\n",
    "|  0 |   2012 |        100545 |      137 |                  72 |                 0.525547 |        0.00136257  |\n",
    "|  1 |   2013 |        203742 |      297 |                 176 |                 0.592593 |        0.00145773  |\n",
    "|  2 |   2014 |        206033 |      262 |                 133 |                 0.507634 |        0.00127164  |\n",
    "|  3 |   2015 |        217694 |      243 |                 133 |                 0.547325 |        0.00111625  |\n",
    "|  4 |   2016 |        229831 |      246 |                 149 |                 0.605691 |        0.00107035  |\n",
    "|  5 |   2017 |        231007 |      256 |                 127 |                 0.496094 |        0.00110819  |\n",
    "|  6 |   2018 |        231564 |      231 |                 123 |                 0.532468 |        0.000997564 |\n",
    "|  7 |   2019 |        211486 |      244 |                 131 |                 0.536885 |        0.00115374  |\n",
    "|  8 |   2020 |        112915 |      269 |                 101 |                 0.375465 |        0.00238232  |\n",
    "|  9 |   2021 |        110549 |      296 |                 131 |                 0.442568 |        0.00267755  |\n",
    "| 10 |   2022 |        103881 |      289 |                 134 |                 0.463668 |        0.00278203  |\n",
    "| 11 |   2023 |         96563 |      273 |                 104 |                 0.380952 |        0.00282717  |\n",
    "| 12 |   2024 |         14259 |       41 |                  17 |                 0.414634 |        0.00287538  |"
   ]
  },
  {
   "cell_type": "markdown",
   "metadata": {
    "tags": [
     "summarize_crashes.test_boilerplate"
    ]
   },
   "source": [
    " <!-- Test Cell Boilerplate -->  \n",
    "The cell below will test your solution for summarize_crashes (exercise 3). The testing variables will be available for debugging under the following names in a dictionary format.  \n",
    "- `input_vars` - Input variables for your solution.   \n",
    "- `original_input_vars` - Copy of input variables from prior to running your solution. Any `key:value` pair in `original_input_vars` should also exist in `input_vars` - otherwise the inputs were modified by your solution.  \n",
    "- `returned_output_vars` - Outputs returned by your solution.  \n",
    "- `true_output_vars` - The expected output. This _should_ \"match\" `returned_output_vars` based on the question requirements - otherwise, your solution is not returning the correct output. "
   ]
  },
  {
   "cell_type": "code",
   "execution_count": 43,
   "metadata": {
    "deletable": false,
    "editable": false,
    "nbgrader": {
     "grade": true,
     "grade_id": "ex_3",
     "locked": true,
     "points": 2,
     "solution": false
    },
    "tags": [
     "summarize_crashes.test"
    ]
   },
   "outputs": [
    {
     "name": "stdout",
     "output_type": "stream",
     "text": [
      "Passed! Please submit.\n"
     ]
    }
   ],
   "source": [
    "### Test Cell - Exercise 3  \n",
    "\n",
    "from cse6040_devkit.tester_fw.testers import Tester\n",
    "from yaml import safe_load\n",
    "\n",
    "with open('resource/asnlib/publicdata/assignment_config.yaml') as f:\n",
    "    ex_conf = safe_load(f)['exercises']['summarize_crashes']['config']\n",
    "\n",
    "ex_conf['func'] = summarize_crashes\n",
    "\n",
    "tester = Tester(ex_conf, key=b'y1po0pBiQV1sEYfgf-WpnO58_KnZX_Pob5d_nj8Zsz0=', path='resource/asnlib/publicdata/')\n",
    "for _ in range(100):\n",
    "    try:\n",
    "        tester.run_test()\n",
    "        (input_vars, original_input_vars, returned_output_vars, true_output_vars) = tester.get_test_vars()\n",
    "    except:\n",
    "        (input_vars, original_input_vars, returned_output_vars, true_output_vars) = tester.get_test_vars()\n",
    "        raise\n",
    "\n",
    "###\n",
    "### AUTOGRADER TEST - DO NOT REMOVE\n",
    "###\n",
    "\n",
    "print('Passed! Please submit.')"
   ]
  },
  {
   "cell_type": "markdown",
   "metadata": {
    "tags": [
     "summarize_vehicles.prompt"
    ]
   },
   "source": [
    "## Exercise 4: (2 points)\n",
    "**summarize_vehicles**  \n",
    "\n",
    "**Your task:** define `summarize_vehicles` as follows:\n",
    "\n"
   ]
  },
  {
   "cell_type": "markdown",
   "metadata": {},
   "source": [
    "Given a SQLite database connection which contains the VEHICLES and CRASHES tables provide a summary with these columns:\n",
    "- VEHICLE_TYPE: The upper-case VEHICLE_TYPE from VEHICLES for which summary stats are computed\n",
    "- COUNT: The number of records with the same VEHICLE_TYPE\n",
    "- OUT_OF_STATE: The number of records with the same VEHICLE_TYPE having upper-case STATE_REGISTRATION values in VEHICLES other than 'NY' \n",
    "- DEATHS: The sum of the \"NUMBER OF PERSONS KILLED\" values in CRASHES associated with the same VEHICLE_TYPE. \n",
    "  - You can relate VEHICLES to CRASHES by the COLLISION_ID column which is common to both tables.\n",
    "  \n",
    "Additionally,\n",
    "- The result should be sorted by COUNT in descending order then by VEHICLE_TYPE in ascending order.\n",
    "- The result should include at most 30 rows\n",
    "- Your result should only be derived from records which have a COLLISION_ID value present in both tables.\n",
    "  \n",
    "Return your result as a Pandas DataFrame"
   ]
  },
  {
   "cell_type": "code",
   "execution_count": 77,
   "metadata": {
    "tags": [
     "summarize_vehicles.solution"
    ]
   },
   "outputs": [
    {
     "data": {
      "text/html": [
       "<div>\n",
       "<style scoped>\n",
       "    .dataframe tbody tr th:only-of-type {\n",
       "        vertical-align: middle;\n",
       "    }\n",
       "\n",
       "    .dataframe tbody tr th {\n",
       "        vertical-align: top;\n",
       "    }\n",
       "\n",
       "    .dataframe thead th {\n",
       "        text-align: right;\n",
       "    }\n",
       "</style>\n",
       "<table border=\"1\" class=\"dataframe\">\n",
       "  <thead>\n",
       "    <tr style=\"text-align: right;\">\n",
       "      <th></th>\n",
       "      <th>VEHICLE_TYPE</th>\n",
       "      <th>COUNT</th>\n",
       "      <th>OUT_OF_STATE</th>\n",
       "      <th>DEATHS</th>\n",
       "    </tr>\n",
       "  </thead>\n",
       "  <tbody>\n",
       "    <tr>\n",
       "      <th>0</th>\n",
       "      <td>SEDAN</td>\n",
       "      <td>1035884</td>\n",
       "      <td>191291</td>\n",
       "      <td>1131.0</td>\n",
       "    </tr>\n",
       "    <tr>\n",
       "      <th>1</th>\n",
       "      <td>STATION WAGON/SPORT UTILITY VEHICLE</td>\n",
       "      <td>825981</td>\n",
       "      <td>126382</td>\n",
       "      <td>1115.0</td>\n",
       "    </tr>\n",
       "    <tr>\n",
       "      <th>2</th>\n",
       "      <td>PASSENGER VEHICLE</td>\n",
       "      <td>770753</td>\n",
       "      <td>110002</td>\n",
       "      <td>623.0</td>\n",
       "    </tr>\n",
       "    <tr>\n",
       "      <th>3</th>\n",
       "      <td>SPORT UTILITY / STATION WAGON</td>\n",
       "      <td>337927</td>\n",
       "      <td>38312</td>\n",
       "      <td>383.0</td>\n",
       "    </tr>\n",
       "    <tr>\n",
       "      <th>4</th>\n",
       "      <td>None</td>\n",
       "      <td>233393</td>\n",
       "      <td>10884</td>\n",
       "      <td>253.0</td>\n",
       "    </tr>\n",
       "    <tr>\n",
       "      <th>5</th>\n",
       "      <td>TAXI</td>\n",
       "      <td>152218</td>\n",
       "      <td>2326</td>\n",
       "      <td>97.0</td>\n",
       "    </tr>\n",
       "    <tr>\n",
       "      <th>6</th>\n",
       "      <td>UNKNOWN</td>\n",
       "      <td>105571</td>\n",
       "      <td>12853</td>\n",
       "      <td>79.0</td>\n",
       "    </tr>\n",
       "    <tr>\n",
       "      <th>7</th>\n",
       "      <td>PICK-UP TRUCK</td>\n",
       "      <td>91798</td>\n",
       "      <td>24261</td>\n",
       "      <td>118.0</td>\n",
       "    </tr>\n",
       "    <tr>\n",
       "      <th>8</th>\n",
       "      <td>4 DR SEDAN</td>\n",
       "      <td>73573</td>\n",
       "      <td>11448</td>\n",
       "      <td>58.0</td>\n",
       "    </tr>\n",
       "    <tr>\n",
       "      <th>9</th>\n",
       "      <td>VAN</td>\n",
       "      <td>68465</td>\n",
       "      <td>13626</td>\n",
       "      <td>72.0</td>\n",
       "    </tr>\n",
       "    <tr>\n",
       "      <th>10</th>\n",
       "      <td>BUS</td>\n",
       "      <td>67173</td>\n",
       "      <td>6527</td>\n",
       "      <td>147.0</td>\n",
       "    </tr>\n",
       "    <tr>\n",
       "      <th>11</th>\n",
       "      <td>BOX TRUCK</td>\n",
       "      <td>53364</td>\n",
       "      <td>23557</td>\n",
       "      <td>81.0</td>\n",
       "    </tr>\n",
       "    <tr>\n",
       "      <th>12</th>\n",
       "      <td>BIKE</td>\n",
       "      <td>46765</td>\n",
       "      <td>619</td>\n",
       "      <td>173.0</td>\n",
       "    </tr>\n",
       "    <tr>\n",
       "      <th>13</th>\n",
       "      <td>OTHER</td>\n",
       "      <td>45966</td>\n",
       "      <td>12336</td>\n",
       "      <td>40.0</td>\n",
       "    </tr>\n",
       "    <tr>\n",
       "      <th>14</th>\n",
       "      <td>LARGE COM VEH(6 OR MORE TIRES)</td>\n",
       "      <td>28604</td>\n",
       "      <td>12494</td>\n",
       "      <td>66.0</td>\n",
       "    </tr>\n",
       "    <tr>\n",
       "      <th>15</th>\n",
       "      <td>SMALL COM VEH(4 TIRES)</td>\n",
       "      <td>26683</td>\n",
       "      <td>7717</td>\n",
       "      <td>12.0</td>\n",
       "    </tr>\n",
       "    <tr>\n",
       "      <th>16</th>\n",
       "      <td>MOTORCYCLE</td>\n",
       "      <td>23321</td>\n",
       "      <td>2394</td>\n",
       "      <td>401.0</td>\n",
       "    </tr>\n",
       "    <tr>\n",
       "      <th>17</th>\n",
       "      <td>TRACTOR TRUCK DIESEL</td>\n",
       "      <td>20887</td>\n",
       "      <td>15208</td>\n",
       "      <td>77.0</td>\n",
       "    </tr>\n",
       "    <tr>\n",
       "      <th>18</th>\n",
       "      <td>LIVERY VEHICLE</td>\n",
       "      <td>19441</td>\n",
       "      <td>359</td>\n",
       "      <td>10.0</td>\n",
       "    </tr>\n",
       "    <tr>\n",
       "      <th>19</th>\n",
       "      <td>BICYCLE</td>\n",
       "      <td>19333</td>\n",
       "      <td>922</td>\n",
       "      <td>59.0</td>\n",
       "    </tr>\n",
       "    <tr>\n",
       "      <th>20</th>\n",
       "      <td>AMBULANCE</td>\n",
       "      <td>10991</td>\n",
       "      <td>141</td>\n",
       "      <td>7.0</td>\n",
       "    </tr>\n",
       "    <tr>\n",
       "      <th>21</th>\n",
       "      <td>E-BIKE</td>\n",
       "      <td>9055</td>\n",
       "      <td>198</td>\n",
       "      <td>73.0</td>\n",
       "    </tr>\n",
       "    <tr>\n",
       "      <th>22</th>\n",
       "      <td>DUMP</td>\n",
       "      <td>8122</td>\n",
       "      <td>1288</td>\n",
       "      <td>47.0</td>\n",
       "    </tr>\n",
       "    <tr>\n",
       "      <th>23</th>\n",
       "      <td>CONVERTIBLE</td>\n",
       "      <td>6470</td>\n",
       "      <td>1171</td>\n",
       "      <td>9.0</td>\n",
       "    </tr>\n",
       "    <tr>\n",
       "      <th>24</th>\n",
       "      <td>E-SCOOTER</td>\n",
       "      <td>5779</td>\n",
       "      <td>126</td>\n",
       "      <td>25.0</td>\n",
       "    </tr>\n",
       "    <tr>\n",
       "      <th>25</th>\n",
       "      <td>FLAT BED</td>\n",
       "      <td>5099</td>\n",
       "      <td>1728</td>\n",
       "      <td>26.0</td>\n",
       "    </tr>\n",
       "    <tr>\n",
       "      <th>26</th>\n",
       "      <td>MOPED</td>\n",
       "      <td>4842</td>\n",
       "      <td>208</td>\n",
       "      <td>17.0</td>\n",
       "    </tr>\n",
       "    <tr>\n",
       "      <th>27</th>\n",
       "      <td>PK</td>\n",
       "      <td>4838</td>\n",
       "      <td>1414</td>\n",
       "      <td>11.0</td>\n",
       "    </tr>\n",
       "    <tr>\n",
       "      <th>28</th>\n",
       "      <td>2 DR SEDAN</td>\n",
       "      <td>4833</td>\n",
       "      <td>940</td>\n",
       "      <td>9.0</td>\n",
       "    </tr>\n",
       "    <tr>\n",
       "      <th>29</th>\n",
       "      <td>GARBAGE OR REFUSE</td>\n",
       "      <td>4494</td>\n",
       "      <td>689</td>\n",
       "      <td>21.0</td>\n",
       "    </tr>\n",
       "  </tbody>\n",
       "</table>\n",
       "</div>"
      ],
      "text/plain": [
       "                           VEHICLE_TYPE    COUNT  OUT_OF_STATE  DEATHS\n",
       "0                                 SEDAN  1035884        191291  1131.0\n",
       "1   STATION WAGON/SPORT UTILITY VEHICLE   825981        126382  1115.0\n",
       "2                     PASSENGER VEHICLE   770753        110002   623.0\n",
       "3         SPORT UTILITY / STATION WAGON   337927         38312   383.0\n",
       "4                                  None   233393         10884   253.0\n",
       "5                                  TAXI   152218          2326    97.0\n",
       "6                               UNKNOWN   105571         12853    79.0\n",
       "7                         PICK-UP TRUCK    91798         24261   118.0\n",
       "8                            4 DR SEDAN    73573         11448    58.0\n",
       "9                                   VAN    68465         13626    72.0\n",
       "10                                  BUS    67173          6527   147.0\n",
       "11                            BOX TRUCK    53364         23557    81.0\n",
       "12                                 BIKE    46765           619   173.0\n",
       "13                                OTHER    45966         12336    40.0\n",
       "14       LARGE COM VEH(6 OR MORE TIRES)    28604         12494    66.0\n",
       "15               SMALL COM VEH(4 TIRES)    26683          7717    12.0\n",
       "16                           MOTORCYCLE    23321          2394   401.0\n",
       "17                 TRACTOR TRUCK DIESEL    20887         15208    77.0\n",
       "18                       LIVERY VEHICLE    19441           359    10.0\n",
       "19                              BICYCLE    19333           922    59.0\n",
       "20                            AMBULANCE    10991           141     7.0\n",
       "21                               E-BIKE     9055           198    73.0\n",
       "22                                 DUMP     8122          1288    47.0\n",
       "23                          CONVERTIBLE     6470          1171     9.0\n",
       "24                            E-SCOOTER     5779           126    25.0\n",
       "25                             FLAT BED     5099          1728    26.0\n",
       "26                                MOPED     4842           208    17.0\n",
       "27                                   PK     4838          1414    11.0\n",
       "28                           2 DR SEDAN     4833           940     9.0\n",
       "29                    GARBAGE OR REFUSE     4494           689    21.0"
      ]
     },
     "metadata": {},
     "output_type": "display_data"
    }
   ],
   "source": [
    "### Solution - Exercise 4  \n",
    "\n",
    "def summarize_vehicles(conn):\n",
    "    ###\n",
    "    query = '''\n",
    "            SELECT \n",
    "                UPPER(VEHICLE_TYPE) AS VEHICLE_TYPE,\n",
    "                COUNT(*) AS COUNT,\n",
    "                SUM(UPPER(STATE_REGISTRATION) != \"NY\") AS OUT_OF_STATE,\n",
    "                SUM(\"NUMBER OF PERSONS KILLED\") AS DEATHS\n",
    "            FROM \n",
    "                VEHICLES\n",
    "            INNER JOIN \n",
    "                CRASHES\n",
    "            ON\n",
    "                VEHICLES.COLLISION_ID = CRASHES.COLLISION_ID\n",
    "            GROUP BY \n",
    "                1\n",
    "            ORDER BY\n",
    "                2 DESC, 1 ASC\n",
    "            LIMIT 30\n",
    "'''\n",
    "    df = pd.read_sql_query(query, conn)\n",
    "    return df\n",
    "    ###\n",
    "\n",
    "### Demo function call\n",
    "demo_vehicle_summary = summarize_vehicles(conn)\n",
    "display(demo_vehicle_summary)"
   ]
  },
  {
   "cell_type": "markdown",
   "metadata": {},
   "source": [
    "The demo above should display the following output:  \n",
    "\n",
    "|    | VEHICLE_TYPE                        |   COUNT |   OUT_OF_STATE |   DEATHS |\n",
    "|---:|:------------------------------------|--------:|---------------:|---------:|\n",
    "|  0 | SEDAN                               | 1035884 |         191291 |     1131 |\n",
    "|  1 | STATION WAGON/SPORT UTILITY VEHICLE |  825981 |         126382 |     1115 |\n",
    "|  2 | PASSENGER VEHICLE                   |  770753 |         110002 |      623 |\n",
    "|  3 | SPORT UTILITY / STATION WAGON       |  337927 |          38312 |      383 |\n",
    "|  4 | None                                |  233393 |          10884 |      253 |\n",
    "|  5 | TAXI                                |  152218 |           2326 |       97 |\n",
    "|  6 | UNKNOWN                             |  105571 |          12853 |       79 |\n",
    "|  7 | PICK-UP TRUCK                       |   91798 |          24261 |      118 |\n",
    "|  8 | 4 DR SEDAN                          |   73573 |          11448 |       58 |\n",
    "|  9 | VAN                                 |   68465 |          13626 |       72 |\n",
    "| 10 | BUS                                 |   67173 |           6527 |      147 |\n",
    "| 11 | BOX TRUCK                           |   53364 |          23557 |       81 |\n",
    "| 12 | BIKE                                |   46765 |            619 |      173 |\n",
    "| 13 | OTHER                               |   45966 |          12336 |       40 |\n",
    "| 14 | LARGE COM VEH(6 OR MORE TIRES)      |   28604 |          12494 |       66 |\n",
    "| 15 | SMALL COM VEH(4 TIRES)              |   26683 |           7717 |       12 |\n",
    "| 16 | MOTORCYCLE                          |   23321 |           2394 |      401 |\n",
    "| 17 | TRACTOR TRUCK DIESEL                |   20887 |          15208 |       77 |\n",
    "| 18 | LIVERY VEHICLE                      |   19441 |            359 |       10 |\n",
    "| 19 | BICYCLE                             |   19333 |            922 |       59 |\n",
    "| 20 | AMBULANCE                           |   10991 |            141 |        7 |\n",
    "| 21 | E-BIKE                              |    9055 |            198 |       73 |\n",
    "| 22 | DUMP                                |    8122 |           1288 |       47 |\n",
    "| 23 | CONVERTIBLE                         |    6470 |           1171 |        9 |\n",
    "| 24 | E-SCOOTER                           |    5779 |            126 |       25 |\n",
    "| 25 | FLAT BED                            |    5099 |           1728 |       26 |\n",
    "| 26 | MOPED                               |    4842 |            208 |       17 |\n",
    "| 27 | PK                                  |    4838 |           1414 |       11 |\n",
    "| 28 | 2 DR SEDAN                          |    4833 |            940 |        9 |\n",
    "| 29 | GARBAGE OR REFUSE                   |    4494 |            689 |       21 |\n"
   ]
  },
  {
   "cell_type": "markdown",
   "metadata": {
    "tags": [
     "summarize_vehicles.test_boilerplate"
    ]
   },
   "source": [
    " <!-- Test Cell Boilerplate -->  \n",
    "The cell below will test your solution for summarize_vehicles (exercise 4). The testing variables will be available for debugging under the following names in a dictionary format.  \n",
    "- `input_vars` - Input variables for your solution.   \n",
    "- `original_input_vars` - Copy of input variables from prior to running your solution. Any `key:value` pair in `original_input_vars` should also exist in `input_vars` - otherwise the inputs were modified by your solution.  \n",
    "- `returned_output_vars` - Outputs returned by your solution.  \n",
    "- `true_output_vars` - The expected output. This _should_ \"match\" `returned_output_vars` based on the question requirements - otherwise, your solution is not returning the correct output. "
   ]
  },
  {
   "cell_type": "code",
   "execution_count": 78,
   "metadata": {
    "deletable": false,
    "editable": false,
    "nbgrader": {
     "grade": true,
     "grade_id": "ex_4",
     "locked": true,
     "points": 2,
     "solution": false
    },
    "tags": [
     "summarize_vehicles.test"
    ]
   },
   "outputs": [
    {
     "name": "stdout",
     "output_type": "stream",
     "text": [
      "Passed! Please submit.\n"
     ]
    }
   ],
   "source": [
    "### Test Cell - Exercise 4  \n",
    "\n",
    "from cse6040_devkit.tester_fw.testers import Tester\n",
    "from yaml import safe_load\n",
    "\n",
    "with open('resource/asnlib/publicdata/assignment_config.yaml') as f:\n",
    "    ex_conf = safe_load(f)['exercises']['summarize_vehicles']['config']\n",
    "\n",
    "ex_conf['func'] = summarize_vehicles\n",
    "\n",
    "tester = Tester(ex_conf, key=b'TGmAkxJCRpTcpTrGvsTDQUEK0II1XnNSOlzAHhB1Nmg=', path='resource/asnlib/publicdata/')\n",
    "for _ in range(5):\n",
    "    try:\n",
    "        tester.run_test()\n",
    "        (input_vars, original_input_vars, returned_output_vars, true_output_vars) = tester.get_test_vars()\n",
    "    except:\n",
    "        (input_vars, original_input_vars, returned_output_vars, true_output_vars) = tester.get_test_vars()\n",
    "        raise\n",
    "\n",
    "###\n",
    "### AUTOGRADER TEST - DO NOT REMOVE\n",
    "###\n",
    "\n",
    "print('Passed! Please submit.')"
   ]
  },
  {
   "cell_type": "markdown",
   "metadata": {
    "tags": [
     "geo_filter_crashes.prompt"
    ]
   },
   "source": [
    "## Exercise 5: (2 points)\n",
    "**geo_filter_crashes**  \n",
    "\n",
    "**Your task:** define `geo_filter_crashes` as follows:\n",
    "\n"
   ]
  },
  {
   "cell_type": "markdown",
   "metadata": {},
   "source": [
    "Given a SQL query, a connection, and a list of coordinate parameters your solution should:\n",
    "- Get the result of running the query against the connection using the coordinate parameters. This intermediate result should be a DataFrame.\n",
    "- Cast the CRASH_DATE column from a string (object) to datetime64.\n",
    "- Return the result."
   ]
  },
  {
   "cell_type": "code",
   "execution_count": 82,
   "metadata": {
    "tags": [
     "geo_filter_crashes.solution"
    ]
   },
   "outputs": [
    {
     "data": {
      "text/html": [
       "<div>\n",
       "<style scoped>\n",
       "    .dataframe tbody tr th:only-of-type {\n",
       "        vertical-align: middle;\n",
       "    }\n",
       "\n",
       "    .dataframe tbody tr th {\n",
       "        vertical-align: top;\n",
       "    }\n",
       "\n",
       "    .dataframe thead th {\n",
       "        text-align: right;\n",
       "    }\n",
       "</style>\n",
       "<table border=\"1\" class=\"dataframe\">\n",
       "  <thead>\n",
       "    <tr style=\"text-align: right;\">\n",
       "      <th></th>\n",
       "      <th>CRASH_DATE</th>\n",
       "      <th>LATITUDE</th>\n",
       "      <th>LONGITUDE</th>\n",
       "      <th>PERSONS_KILLED</th>\n",
       "    </tr>\n",
       "  </thead>\n",
       "  <tbody>\n",
       "    <tr>\n",
       "      <th>0</th>\n",
       "      <td>2021-07-09</td>\n",
       "      <td>40.720535</td>\n",
       "      <td>-73.888850</td>\n",
       "      <td>1.0</td>\n",
       "    </tr>\n",
       "    <tr>\n",
       "      <th>1</th>\n",
       "      <td>2021-12-12</td>\n",
       "      <td>40.840360</td>\n",
       "      <td>-73.918070</td>\n",
       "      <td>1.0</td>\n",
       "    </tr>\n",
       "    <tr>\n",
       "      <th>2</th>\n",
       "      <td>2021-04-15</td>\n",
       "      <td>40.620487</td>\n",
       "      <td>-74.029305</td>\n",
       "      <td>1.0</td>\n",
       "    </tr>\n",
       "    <tr>\n",
       "      <th>3</th>\n",
       "      <td>2021-04-17</td>\n",
       "      <td>40.782463</td>\n",
       "      <td>-73.978830</td>\n",
       "      <td>1.0</td>\n",
       "    </tr>\n",
       "    <tr>\n",
       "      <th>4</th>\n",
       "      <td>2021-07-08</td>\n",
       "      <td>40.721474</td>\n",
       "      <td>-73.983830</td>\n",
       "      <td>1.0</td>\n",
       "    </tr>\n",
       "  </tbody>\n",
       "</table>\n",
       "</div>"
      ],
      "text/plain": [
       "  CRASH_DATE   LATITUDE  LONGITUDE  PERSONS_KILLED\n",
       "0 2021-07-09  40.720535 -73.888850             1.0\n",
       "1 2021-12-12  40.840360 -73.918070             1.0\n",
       "2 2021-04-15  40.620487 -74.029305             1.0\n",
       "3 2021-04-17  40.782463 -73.978830             1.0\n",
       "4 2021-07-08  40.721474 -73.983830             1.0"
      ]
     },
     "metadata": {},
     "output_type": "display_data"
    }
   ],
   "source": [
    "### Solution - Exercise 5  \n",
    "\n",
    "def geo_filter_crashes(qry, conn, params):\n",
    "    ###\n",
    "    df = pd.read_sql_query(qry, conn, params=params)\n",
    "    df['CRASH_DATE'] = df[\"CRASH_DATE\"].astype(\"datetime64\")\n",
    "    return df\n",
    "    ###\n",
    "\n",
    "### Demo function call\n",
    "demo_qry = '''\n",
    "        select\n",
    "            \"CRASH DATE\" AS CRASH_DATE,\n",
    "            LATITUDE,\n",
    "            LONGITUDE,\n",
    "            \"NUMBER OF PERSONS KILLED\" AS PERSONS_KILLED\n",
    "        from\n",
    "            crashes\n",
    "        where\n",
    "            latitude is not null and latitude between ? and ?\n",
    "        and\n",
    "            longitude is not null and longitude between ? and ?\n",
    "        and\n",
    "            PERSONS_KILLED is not null and PERSONS_KILLED > 0\n",
    "    '''\n",
    "demo_df = geo_filter_crashes(demo_qry, conn, [40.5, 40.95, -74.1, -73.65])\n",
    "display(demo_df.head())"
   ]
  },
  {
   "cell_type": "markdown",
   "metadata": {},
   "source": [
    "The demo above should display the following output:  \n",
    "\n",
    "|    | CRASH_DATE          |   LATITUDE |   LONGITUDE |   PERSONS_KILLED |\n",
    "|---:|:--------------------|-----------:|------------:|-----------------:|\n",
    "|  0 | 2021-07-09 00:00:00 |    40.7205 |    -73.8889 |                1 |\n",
    "|  1 | 2021-12-12 00:00:00 |    40.8404 |    -73.9181 |                1 |\n",
    "|  2 | 2021-04-15 00:00:00 |    40.6205 |    -74.0293 |                1 |\n",
    "|  3 | 2021-04-17 00:00:00 |    40.7825 |    -73.9788 |                1 |\n",
    "|  4 | 2021-07-08 00:00:00 |    40.7215 |    -73.9838 |                1 |\n"
   ]
  },
  {
   "cell_type": "markdown",
   "metadata": {
    "tags": [
     "geo_filter_crashes.test_boilerplate"
    ]
   },
   "source": [
    " <!-- Test Cell Boilerplate -->  \n",
    "The cell below will test your solution for geo_filter_crashes (exercise 5). The testing variables will be available for debugging under the following names in a dictionary format.  \n",
    "- `input_vars` - Input variables for your solution.   \n",
    "- `original_input_vars` - Copy of input variables from prior to running your solution. Any `key:value` pair in `original_input_vars` should also exist in `input_vars` - otherwise the inputs were modified by your solution.  \n",
    "- `returned_output_vars` - Outputs returned by your solution.  \n",
    "- `true_output_vars` - The expected output. This _should_ \"match\" `returned_output_vars` based on the question requirements - otherwise, your solution is not returning the correct output. "
   ]
  },
  {
   "cell_type": "code",
   "execution_count": 83,
   "metadata": {
    "deletable": false,
    "editable": false,
    "nbgrader": {
     "grade": true,
     "grade_id": "ex_5",
     "locked": true,
     "points": 2,
     "solution": false
    },
    "tags": [
     "geo_filter_crashes.test"
    ]
   },
   "outputs": [
    {
     "name": "stdout",
     "output_type": "stream",
     "text": [
      "Passed! Please submit.\n"
     ]
    }
   ],
   "source": [
    "### Test Cell - Exercise 5  \n",
    "\n",
    "from cse6040_devkit.tester_fw.testers import Tester\n",
    "from yaml import safe_load\n",
    "\n",
    "with open('resource/asnlib/publicdata/assignment_config.yaml') as f:\n",
    "    ex_conf = safe_load(f)['exercises']['geo_filter_crashes']['config']\n",
    "\n",
    "ex_conf['func'] = geo_filter_crashes\n",
    "\n",
    "tester = Tester(ex_conf, key=b'o0dQd3ONb1-wrgcZ3gkzdjZEVx2I_lGP6Zjj8268qlY=', path='resource/asnlib/publicdata/')\n",
    "for _ in range(20):\n",
    "    try:\n",
    "        tester.run_test()\n",
    "        (input_vars, original_input_vars, returned_output_vars, true_output_vars) = tester.get_test_vars()\n",
    "    except:\n",
    "        (input_vars, original_input_vars, returned_output_vars, true_output_vars) = tester.get_test_vars()\n",
    "        raise\n",
    "\n",
    "###\n",
    "### AUTOGRADER TEST - DO NOT REMOVE\n",
    "###\n",
    "\n",
    "print('Passed! Please submit.')"
   ]
  },
  {
   "cell_type": "markdown",
   "metadata": {},
   "source": [
    "We used a solution for the prior exercise to query the CRASHES table to get the latitude, longitude, and number of fatalities for all crashes in our dataset. Then we fed that result into a KDE model. KDE is a non-parametric technique for estimating the PDF of a distribution given some samples drawn from it. The high level is that for every observation we place a Gaussian distribution centered at the coordinates. Once all the distributions are placed, the sum is proportional to the PDF estimate. For our use case the model estimates the density of fatal crashes over a geographic area - i.e. given that there was a fatal crash higher estimates for the PDF indicate a higher probability of the crash having occurred at those coordinates. \n",
    "\n",
    "```\n",
    "crash_density = stats.gaussian_kde(df[['LONGITUDE', 'LATITUDE']].values.T,\n",
    "                                  0.02,\n",
    "                                  weights=df['PERSONS_KILLED'].values)\n",
    "```\n",
    "\n",
    "The model outputs a function which takes a Numpy array as an input and returns a Numpy array of density estimates corresponding to the inputs. The input's shape is (# dimensions, # data points) and the output's shape in (# data points, )."
   ]
  },
  {
   "cell_type": "markdown",
   "metadata": {
    "tags": [
     "density_grid.prompt"
    ]
   },
   "source": [
    "## Exercise 6: (3 points)\n",
    "**density_grid**  \n",
    "\n",
    "**Your task:** define `density_grid` as follows:\n",
    "\n"
   ]
  },
  {
   "cell_type": "markdown",
   "metadata": {},
   "source": [
    "Given a bounding box of coordinates, a grid size, and an estimator.\n",
    "- Build an array (`x`) of `grid_size` evenly spaced numbers between and including the min and max x coordinates.\n",
    "    - The `np.linspace` function is useful here.\n",
    "- Build a similar array (`y`) for the y coordinates.\n",
    "- For every pair with one element chosen from `x` and one from `y` use the `estimator` to compute the PDF for the pair.\n",
    "    - You can use `np.meshgrid`, `np.vstack`, and `np.flatten` to compute a suitable input for the `estimator`.\n",
    "    - `estimator` expects an array with shape (2, # data points). The first row is the `x` values and the second row is the `y` values.\n",
    "- Return the result as a Numpy array.\n",
    "    - The array should have shape `(grid_size, grid_size)`.\n",
    "    - Each row in the array should be from the same `y` value. \n",
    "    - Each column in the array should be from the same `x` value.\n",
    "    - `y` and `x` values increase from the origin at the top-left. \n",
    "    \n",
    "**Note**: The bounds are given as a list `[xmin, xmax, ymin, ymax]`.  "
   ]
  },
  {
   "cell_type": "code",
   "execution_count": 138,
   "metadata": {
    "tags": [
     "density_grid.solution"
    ]
   },
   "outputs": [
    {
     "name": "stdout",
     "output_type": "stream",
     "text": [
      "[[ 0.  1.  2.  3.  4.  5.  6.  7.  8.  9.]\n",
      " [10. 11. 12. 13. 14. 15. 16. 17. 18. 19.]\n",
      " [20. 21. 22. 23. 24. 25. 26. 27. 28. 29.]\n",
      " [30. 31. 32. 33. 34. 35. 36. 37. 38. 39.]\n",
      " [40. 41. 42. 43. 44. 45. 46. 47. 48. 49.]\n",
      " [50. 51. 52. 53. 54. 55. 56. 57. 58. 59.]\n",
      " [60. 61. 62. 63. 64. 65. 66. 67. 68. 69.]\n",
      " [70. 71. 72. 73. 74. 75. 76. 77. 78. 79.]\n",
      " [80. 81. 82. 83. 84. 85. 86. 87. 88. 89.]\n",
      " [90. 91. 92. 93. 94. 95. 96. 97. 98. 99.]]\n"
     ]
    }
   ],
   "source": [
    "### Solution - Exercise 6  \n",
    "\n",
    "def density_grid(bounds, grid_size, estimator):\n",
    "    ###\n",
    "\n",
    "    arrayX = np.linspace(bounds[0], bounds[1], num=grid_size)\n",
    "    arrayY = np.linspace(bounds[2], bounds[3], num=grid_size)\n",
    "    meshGridX, meshGridY = np.meshgrid(arrayX, arrayY)\n",
    "\n",
    "    vstack = np.vstack((meshGridX.flatten(), meshGridY.flatten()))\n",
    "\n",
    "    est = estimator(vstack).reshape((grid_size, grid_size))\n",
    "    return est\n",
    "    ###\n",
    "\n",
    "### Demo function call\n",
    "demo_bounds = [0, 9, 0, 90]\n",
    "demo_grid_size = 10\n",
    "# estimator adds the x and y values\n",
    "demo_estimator = lambda a: a[0] + a[1]\n",
    "demo_grid = density_grid(demo_bounds, demo_grid_size, demo_estimator)\n",
    "print(demo_grid)"
   ]
  },
  {
   "cell_type": "markdown",
   "metadata": {},
   "source": [
    "The demo above should display the following output:  \n",
    "\n",
    "```\n",
    "[[ 0.  1.  2.  3.  4.  5.  6.  7.  8.  9.]\n",
    " [10. 11. 12. 13. 14. 15. 16. 17. 18. 19.]\n",
    " [20. 21. 22. 23. 24. 25. 26. 27. 28. 29.]\n",
    " [30. 31. 32. 33. 34. 35. 36. 37. 38. 39.]\n",
    " [40. 41. 42. 43. 44. 45. 46. 47. 48. 49.]\n",
    " [50. 51. 52. 53. 54. 55. 56. 57. 58. 59.]\n",
    " [60. 61. 62. 63. 64. 65. 66. 67. 68. 69.]\n",
    " [70. 71. 72. 73. 74. 75. 76. 77. 78. 79.]\n",
    " [80. 81. 82. 83. 84. 85. 86. 87. 88. 89.]\n",
    " [90. 91. 92. 93. 94. 95. 96. 97. 98. 99.]]\n",
    "```"
   ]
  },
  {
   "cell_type": "markdown",
   "metadata": {
    "tags": [
     "density_grid.test_boilerplate"
    ]
   },
   "source": [
    " <!-- Test Cell Boilerplate -->  \n",
    "The cell below will test your solution for density_grid (exercise 6). The testing variables will be available for debugging under the following names in a dictionary format.  \n",
    "- `input_vars` - Input variables for your solution.   \n",
    "- `original_input_vars` - Copy of input variables from prior to running your solution. Any `key:value` pair in `original_input_vars` should also exist in `input_vars` - otherwise the inputs were modified by your solution.  \n",
    "- `returned_output_vars` - Outputs returned by your solution.  \n",
    "- `true_output_vars` - The expected output. This _should_ \"match\" `returned_output_vars` based on the question requirements - otherwise, your solution is not returning the correct output. "
   ]
  },
  {
   "cell_type": "code",
   "execution_count": 139,
   "metadata": {
    "deletable": false,
    "editable": false,
    "nbgrader": {
     "grade": true,
     "grade_id": "ex_6",
     "locked": true,
     "points": 3,
     "solution": false
    },
    "tags": [
     "density_grid.test"
    ]
   },
   "outputs": [
    {
     "name": "stdout",
     "output_type": "stream",
     "text": [
      "Passed! Please submit.\n"
     ]
    }
   ],
   "source": [
    "### Test Cell - Exercise 6  \n",
    "\n",
    "from cse6040_devkit.tester_fw.testers import Tester\n",
    "from yaml import safe_load\n",
    "\n",
    "with open('resource/asnlib/publicdata/assignment_config.yaml') as f:\n",
    "    ex_conf = safe_load(f)['exercises']['density_grid']['config']\n",
    "\n",
    "ex_conf['func'] = density_grid\n",
    "\n",
    "tester = Tester(ex_conf, key=b'9Ca2cAl9o2HgD7GW4J_JZ6VJUOWHVyxxcPbfrflws2g=', path='resource/asnlib/publicdata/')\n",
    "for _ in range(20):\n",
    "    try:\n",
    "        tester.run_test()\n",
    "        (input_vars, original_input_vars, returned_output_vars, true_output_vars) = tester.get_test_vars()\n",
    "    except:\n",
    "        (input_vars, original_input_vars, returned_output_vars, true_output_vars) = tester.get_test_vars()\n",
    "        raise\n",
    "\n",
    "###\n",
    "### AUTOGRADER TEST - DO NOT REMOVE\n",
    "###\n",
    "\n",
    "print('Passed! Please submit.')"
   ]
  },
  {
   "cell_type": "markdown",
   "metadata": {},
   "source": [
    "**If you have reached this point, congratulations! Don't forget to submit your work!**\n",
    "\n",
    "The remaining content is informational only.\n",
    "\n",
    "We have filled in the gaps with the parameter values and used some reference map data to render the density of traffic collision fatalities over a road map of NYC. It takes a bit to render, so we're just providing the code for reference and showing the rendered image.\n",
    "\n",
    "```\n",
    "import geopandas\n",
    "from matplotlib import pyplot as plt\n",
    "from scipy import stats\n",
    "\n",
    "###\n",
    "### This query identifies the date and coordinates of all traffic collision fatalities available.\n",
    "###\n",
    "qry = '''\n",
    "        select\n",
    "            \"CRASH DATE\" AS CRASH_DATE,\n",
    "            LATITUDE,\n",
    "            LONGITUDE,\n",
    "            \"NUMBER OF PERSONS KILLED\" AS PERSONS_KILLED\n",
    "        from\n",
    "            crashes\n",
    "        where\n",
    "            latitude is not null and latitude between ? and ?\n",
    "        and\n",
    "            longitude is not null and longitude between ? and ?\n",
    "        and\n",
    "            PERSONS_KILLED is not null and PERSONS_KILLED > 0\n",
    "    '''\n",
    "    \n",
    "###\n",
    "### We feed the query into our geo_filter_crashes along with a bounding box for NYC and use \n",
    "### the result to define a KDE model.\n",
    "###\n",
    "df = geo_filter_crashes(qry, conn, [40.5, 40.95, -74.1, -73.65])\n",
    "crash_density = stats.gaussian_kde(df[['LONGITUDE', 'LATITUDE']].values.T,\n",
    "                                  0.02,\n",
    "                                  weights=df['PERSONS_KILLED'].values)\n",
    "###\n",
    "### Set a grid size and bounding box then build our density grid\n",
    "###\n",
    "grid_size = 800\n",
    "bounds = [df['LONGITUDE'].min(), \n",
    "          df['LONGITUDE'].max(),\n",
    "          df['LATITUDE'].min(), \n",
    "          df['LATITUDE'].max()]\n",
    "Z = density_grid(bounds, grid_size, crash_density)\n",
    "\n",
    "###\n",
    "### Set up some stuff with the plotting library, read the roadmap from a file and plot it.\n",
    "###\n",
    "plt.rcParams['figure.figsize'] = [40, 40]\n",
    "gdf=geopandas.read_file('resource/asnlib/publicdata/svwp-sbcd.geojson')\n",
    "gdf.plot(ax=ax, zorder=0)\n",
    "\n",
    "###\n",
    "### Plot the density over the map.\n",
    "###\n",
    "ax.imshow(Z, extent=bounds, cmap='plasma', alpha=.7*(Z > 20).astype(float), origin='lower')\n",
    "plt.show()\n",
    "```\n",
    "\n",
    "![NYC Roadmap with traffic fatality density overlay](resource/asnlib/publicdata/density_plot.png \"NYC Roadmap with traffic fatality density overlay\")"
   ]
  }
 ],
 "metadata": {
  "kernelspec": {
   "display_name": "Python 3.8",
   "language": "python",
   "name": "python38"
  },
  "language_info": {
   "codemirror_mode": {
    "name": "ipython",
    "version": 3
   },
   "file_extension": ".py",
   "mimetype": "text/x-python",
   "name": "python",
   "nbconvert_exporter": "python",
   "pygments_lexer": "ipython3",
   "version": "3.8.7"
  },
  "toc": {
   "base_numbering": 1,
   "nav_menu": {},
   "number_sections": true,
   "sideBar": true,
   "skip_h1_title": false,
   "title_cell": "Table of Contents",
   "title_sidebar": "Contents",
   "toc_cell": false,
   "toc_position": {},
   "toc_section_display": true,
   "toc_window_display": false
  }
 },
 "nbformat": 4,
 "nbformat_minor": 5
}
