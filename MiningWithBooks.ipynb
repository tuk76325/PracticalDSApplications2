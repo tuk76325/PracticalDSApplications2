{
 "cells": [
  {
   "cell_type": "markdown",
   "metadata": {
    "deletable": false,
    "editable": false,
    "nbgrader": {
     "grade": false,
     "locked": true,
     "solution": false
    },
    "tags": [
     "notebook_header"
    ]
   },
   "source": [
    "# Midterm 2, Spring 2023: Better Reads\n",
    "\n",
    "_Version history:_\n",
    "- 1.0.1 (Sun Apr 2): Corrected typo in Ex. 7 demo\n",
    "- 1.0: Initial release\n",
    "\n",
    "*All of the header information is important. Please read it.*\n",
    "\n",
    "**Topics, number of exercises:** This problem builds on your knowledge of Numpy, pandas, database organization, graph abstractions, and basic Python (for interfacing with other Python libraries). It has **11** exercises, numbered 0 to **10**. There are **21** available points. However, to earn 100% the threshold is **12** points. (Therefore, once you hit **12** points, you can stop. There is no extra credit for exceeding this threshold.)\n",
    "\n",
    "**Free points!** This exam includes one exercise, Exercise 3, whose points are \"**free**.\" However, to get these points you need to read some text and _submit the notebook to the autograder at least once_.\n",
    "\n",
    "**Exercise ordering:** Each exercise builds logically on previous exercises, but you may solve them in any order. Exercises are **not** necessarily ordered by difficulty, but higher point values usually imply more difficult tasks.\n",
    "\n",
    "**Demo cells:** Code cells that start with the comment `### define demo inputs` will load results from prior exercises applied to the entire data set and use those to build demo inputs. These must be run for later demos to work properly but they do not affect the test cells. The data loaded by these cells may be large (at least in terms of human readability). You are free to inspect them, but we did not print them in the starter code.\n",
    "\n",
    "**Debugging you code:** Right before each exercise test cell, there is a block of text explaining the variables available to you for debugging. You may use these to test your code and can print/display them as needed (careful when printing large objects, you may want to print the head or chunks of rows at a time).\n",
    "\n",
    "**Exercise point breakdown:**\n",
    "\n",
    "- Exercise 0: **2** points\n",
    "- Exercise 1: **1** point\n",
    "- Exercise 2: **3** points\n",
    "- Exercise 3: **2** point **FREEBIE! Submit to record them**\n",
    "- Exercise 4: **1** point\n",
    "- Exercise 5: **2** points\n",
    "- Exercise 6: **2** points\n",
    "- Exercise 7: **1** point\n",
    "- Exercise 8: **3** points\n",
    "- Exercise 9: **2** points\n",
    "- Exercise 10: **2** points\n",
    "\n",
    "**Final reminders:** \n",
    "\n",
    "- Submit after **every exercise**\n",
    "- Review the generated grade report after you submit to see what errors were returned\n",
    "- Stay calm, skip problems as needed, and take short breaks at your leisure"
   ]
  },
  {
   "cell_type": "markdown",
   "metadata": {
    "deletable": false,
    "editable": false,
    "nbgrader": {
     "grade": false,
     "locked": true,
     "solution": false
    },
    "tags": [
     "topic_intro"
    ]
   },
   "source": [
    "# Background: Better Reads #\n",
    "\n",
    "[Goodreads](https://www.goodreads.com/) is a website devoted to curating user-generated book reviews. You'll do some elementary data-mining to uncover \"communities\" of users who like the same books. Such insights might help users find like-minded communities and generate better book recommendations."
   ]
  },
  {
   "cell_type": "markdown",
   "metadata": {
    "ExecuteTime": {
     "end_time": "2023-03-29T13:30:23.592700Z",
     "start_time": "2023-03-29T13:30:23.585568Z"
    },
    "deletable": false,
    "editable": false,
    "nbgrader": {
     "grade": false,
     "locked": true,
     "solution": false
    }
   },
   "source": [
    "**Overall workflow.** This notebook has six (6) parts with about 1-3 exercises each.\n",
    "* **Part A:** Analyze user-book interactions [SQL, pandas]\n",
    "* **Part B:** Power-law analysis [pandas, Numpy]\n",
    "* **Part C:** Edge lists, NetworkX, and graph clusters [Python, graphs]\n",
    "* **Part D:** Finding communities via graph clustering [SQL, pandas]\n",
    "* **Part E:** Identifying \"top reads\" by community [pandas]\n",
    "* **Part F:** Merging inventory metadata [pandas]"
   ]
  },
  {
   "cell_type": "markdown",
   "metadata": {
    "deletable": false,
    "editable": false,
    "nbgrader": {
     "grade": false,
     "locked": true,
     "solution": false
    }
   },
   "source": [
    "# Getting started (modules) #\n",
    "\n",
    "Skim the code cell below and then run it. Take note of the standard preloaded modules, `numpy as np`, `pandas as pd`, and `sqlite3 as db`, any or all of which you may need to construct your solutions.\n",
    "\n",
    "The other functions are used by our demo and testing code. You can ignore them unless an exercise asks you to do otherwise."
   ]
  },
  {
   "cell_type": "code",
   "execution_count": 1,
   "metadata": {
    "ExecuteTime": {
     "end_time": "2023-03-30T22:24:11.441029Z",
     "start_time": "2023-03-30T22:24:11.074402Z"
    },
    "collapsed": true,
    "deletable": false,
    "editable": false,
    "nbgrader": {
     "grade": false,
     "locked": true,
     "solution": false
    },
    "tags": [
     "global_imports"
    ]
   },
   "outputs": [],
   "source": [
    "### Global Imports\n",
    "###\n",
    "### AUTOGRADER TEST - DO NOT REMOVE\n",
    "###\n",
    "\n",
    "# Standard Python modules\n",
    "import sys\n",
    "import numpy as np\n",
    "import pandas as pd\n",
    "import sqlite3 as db\n",
    "\n",
    "# Extra functions this notebook needs. Ignore these unless\n",
    "# an exercise asks you to do otherwise.\n",
    "import networkx as nx\n",
    "import cse6040\n",
    "from cse6040.utils import load_text_from_file, load_df_from_file, load_obj_from_file, load_table_from_db"
   ]
  },
  {
   "cell_type": "markdown",
   "metadata": {
    "deletable": false,
    "editable": false,
    "nbgrader": {
     "grade": false,
     "locked": true,
     "solution": false
    }
   },
   "source": [
    "In case it's helpful, here are the versions of Python and standard modules you are using:"
   ]
  },
  {
   "cell_type": "code",
   "execution_count": 2,
   "metadata": {
    "ExecuteTime": {
     "end_time": "2023-03-30T22:24:11.460183Z",
     "start_time": "2023-03-30T22:24:11.442572Z"
    },
    "deletable": false,
    "editable": false,
    "nbgrader": {
     "grade": false,
     "locked": true,
     "solution": false
    }
   },
   "outputs": [
    {
     "name": "stdout",
     "output_type": "stream",
     "text": [
      "* Python version: 3.8.7 (default, Jan 25 2021, 11:14:52)  [GCC 5.5.0 20171010]\n",
      "* Numpy version: 1.22.1\n",
      "* pandas version: 1.4.0\n",
      "* sqlite3 version: 2.6.0\n"
     ]
    }
   ],
   "source": [
    "print(\"* Python version: {}\".format(sys.version.replace('\\n', ' ')))\n",
    "print(f\"* Numpy version: {np.__version__}\")\n",
    "print(f\"* pandas version: {pd.__version__}\")\n",
    "print(f\"* sqlite3 version: {db.version}\")"
   ]
  },
  {
   "cell_type": "markdown",
   "metadata": {
    "deletable": false,
    "editable": false,
    "nbgrader": {
     "grade": false,
     "locked": true,
     "solution": false
    }
   },
   "source": [
    "## pandas versus SQL ##\n",
    "\n",
    "The actual Goodreads data is provided via a SQLite3 database. However, only some exercises _require_ SQL; most exercises were designed with pandas in mind.\n",
    "\n",
    "Nevertheless, even some of the pandas exercises can be solved using SQL. The cell below defines the function, `dfs_to_conn`, which can be used to create in-memory database connections. If you pass in a dictionary mapping table names to pandas `DataFrame` objects, then `dfs_to_conn` will return a `sqlite3` connection with all of the data in the `DataFrame` objects available under the names given as keys. You are also free to write to the in-memory database by creating tables, inserting, deleting, updating records, etc. Anything that SQLite3 allows should work."
   ]
  },
  {
   "cell_type": "markdown",
   "metadata": {
    "deletable": false,
    "editable": false,
    "nbgrader": {
     "grade": false,
     "locked": true,
     "solution": false
    }
   },
   "source": [
    "**Example:**\n",
    "\n",
    "```python\n",
    "    my_df = pd.DataFrame({'A':[1,2,3], 'B': [4,5,6], 'C':['x', 'y', 'z']})\n",
    "    print(my_df)\n",
    "    #    A  B  C\n",
    "    # 0  1  4  x\n",
    "    # 1  2  5  y\n",
    "    # 2  3  6  z\n",
    "    conn = dfs_to_conn({'my_table': my_df})\n",
    "    cur = conn.cursor()\n",
    "    cur.execute('select A, B, C from my_table')\n",
    "    result = cur.fetchall()\n",
    "    conn.close() \n",
    "    print(result) # list of tuples, each tuple is a row\n",
    "    #[(1, 4, 'x'), (2, 5, 'y'), (3, 6, 'z')]\n",
    "```"
   ]
  },
  {
   "cell_type": "code",
   "execution_count": 3,
   "metadata": {
    "ExecuteTime": {
     "end_time": "2023-03-30T22:24:11.482085Z",
     "start_time": "2023-03-30T22:24:11.463647Z"
    },
    "collapsed": true,
    "deletable": false,
    "editable": false,
    "nbgrader": {
     "grade": false,
     "locked": true,
     "solution": false
    }
   },
   "outputs": [],
   "source": [
    "def dfs_to_conn(conn_dfs, index=False):\n",
    "    import sqlite3\n",
    "    conn = sqlite3.connect(':memory:')\n",
    "    for table_name, df in conn_dfs.items():\n",
    "        df.to_sql(table_name, conn, if_exists='replace', index=index)\n",
    "    return conn"
   ]
  },
  {
   "cell_type": "markdown",
   "metadata": {
    "deletable": false,
    "editable": false,
    "nbgrader": {
     "grade": false,
     "locked": true,
     "solution": false
    }
   },
   "source": [
    "# Goodreads Data (`grdbconn`) #"
   ]
  },
  {
   "cell_type": "markdown",
   "metadata": {
    "deletable": false,
    "editable": false,
    "nbgrader": {
     "grade": false,
     "locked": true,
     "solution": false
    }
   },
   "source": [
    "Some of the Goodreads data is stored in a SQLite3 database. The code cell below opens a read-only connection to it named **`grdbconn`**.\n",
    "\n",
    "For now, don't worry about what's there. We will explain any tables you need in the exercises that use them."
   ]
  },
  {
   "cell_type": "code",
   "execution_count": 4,
   "metadata": {
    "ExecuteTime": {
     "end_time": "2023-03-30T22:24:11.501956Z",
     "start_time": "2023-03-30T22:24:11.483569Z"
    },
    "collapsed": true,
    "deletable": false,
    "editable": false,
    "nbgrader": {
     "grade": false,
     "locked": true,
     "solution": false
    }
   },
   "outputs": [],
   "source": [
    "# Goodreads database connection:\n",
    "grdbconn = db.connect('file:resource/asnlib/publicdata/goodreads.db?mode=ro', uri=True)"
   ]
  },
  {
   "cell_type": "markdown",
   "metadata": {
    "deletable": false,
    "editable": false,
    "nbgrader": {
     "grade": false,
     "locked": true,
     "solution": false
    }
   },
   "source": [
    "# Part A: Analyzing user-book interactions #\n",
    "\n",
    "> Includes Exercise 0 (2 points) and Exercise 1 (1 point)."
   ]
  },
  {
   "cell_type": "markdown",
   "metadata": {
    "deletable": false,
    "editable": false,
    "nbgrader": {
     "grade": false,
     "locked": true,
     "solution": false
    }
   },
   "source": [
    "The Goodreads dataset includes **user-book interactions.** An \"user-book interaction\" means the user \"did something\" with the book on the Goodreads website:\n",
    "\n",
    "- _Viewed_: The user looked at a book description and saved it to their personal library.\n",
    "- _Read_: The user marked the book as \"read.\"\n",
    "- _Rated_: The user gave the book a rating, from 1 to 5 stars.\n",
    "- _Reviewed_: The user wrote a public review of the book on the website."
   ]
  },
  {
   "cell_type": "markdown",
   "metadata": {
    "deletable": false,
    "editable": false,
    "nbgrader": {
     "grade": false,
     "locked": true,
     "solution": false
    }
   },
   "source": [
    "These interactions are recorded in a SQL table called `Interactions`. Let's have a quick look for one of the users whose integer ID is `840218`:"
   ]
  },
  {
   "cell_type": "code",
   "execution_count": 5,
   "metadata": {
    "ExecuteTime": {
     "end_time": "2023-03-30T22:24:11.555813Z",
     "start_time": "2023-03-30T22:24:11.503006Z"
    },
    "deletable": false,
    "editable": false,
    "nbgrader": {
     "grade": false,
     "locked": true,
     "solution": false
    }
   },
   "outputs": [
    {
     "data": {
      "text/html": [
       "<div>\n",
       "<style scoped>\n",
       "    .dataframe tbody tr th:only-of-type {\n",
       "        vertical-align: middle;\n",
       "    }\n",
       "\n",
       "    .dataframe tbody tr th {\n",
       "        vertical-align: top;\n",
       "    }\n",
       "\n",
       "    .dataframe thead th {\n",
       "        text-align: right;\n",
       "    }\n",
       "</style>\n",
       "<table border=\"1\" class=\"dataframe\">\n",
       "  <thead>\n",
       "    <tr style=\"text-align: right;\">\n",
       "      <th></th>\n",
       "      <th>user_id</th>\n",
       "      <th>book_id</th>\n",
       "      <th>is_read</th>\n",
       "      <th>rating</th>\n",
       "      <th>is_reviewed</th>\n",
       "    </tr>\n",
       "  </thead>\n",
       "  <tbody>\n",
       "    <tr>\n",
       "      <th>0</th>\n",
       "      <td>840218</td>\n",
       "      <td>1012</td>\n",
       "      <td>1</td>\n",
       "      <td>5</td>\n",
       "      <td>0</td>\n",
       "    </tr>\n",
       "    <tr>\n",
       "      <th>1</th>\n",
       "      <td>840218</td>\n",
       "      <td>838000</td>\n",
       "      <td>0</td>\n",
       "      <td>0</td>\n",
       "      <td>0</td>\n",
       "    </tr>\n",
       "    <tr>\n",
       "      <th>2</th>\n",
       "      <td>840218</td>\n",
       "      <td>38884</td>\n",
       "      <td>1</td>\n",
       "      <td>4</td>\n",
       "      <td>0</td>\n",
       "    </tr>\n",
       "    <tr>\n",
       "      <th>3</th>\n",
       "      <td>840218</td>\n",
       "      <td>49559</td>\n",
       "      <td>1</td>\n",
       "      <td>4</td>\n",
       "      <td>0</td>\n",
       "    </tr>\n",
       "  </tbody>\n",
       "</table>\n",
       "</div>"
      ],
      "text/plain": [
       "   user_id  book_id  is_read  rating  is_reviewed\n",
       "0   840218     1012        1       5            0\n",
       "1   840218   838000        0       0            0\n",
       "2   840218    38884        1       4            0\n",
       "3   840218    49559        1       4            0"
      ]
     },
     "execution_count": 5,
     "metadata": {},
     "output_type": "execute_result"
    }
   ],
   "source": [
    "pd.read_sql(r\"SELECT * FROM Interactions WHERE user_id=840218\", grdbconn)"
   ]
  },
  {
   "cell_type": "markdown",
   "metadata": {
    "deletable": false,
    "editable": false,
    "nbgrader": {
     "grade": false,
     "locked": true,
     "solution": false
    }
   },
   "source": [
    "Each row shows how this user interacted with some book. This user interacted with four books. However, they saved book `838000` (row 1) but did nothing else with it—that is, they did not read it, rate it, or review it.\n",
    "\n",
    "They did rate books `1012`, giving it `5` stars, as well as `38884` and `49559`, giving both `4` stars. They did not review any book (`is_reviewed=0`). Had they done so, `is_reviewed` would be `1`. All values are integers."
   ]
  },
  {
   "cell_type": "markdown",
   "metadata": {
    "deletable": false,
    "editable": false,
    "nbgrader": {
     "grade": false,
     "locked": true,
     "solution": false
    },
    "tags": [
     "exercise_text"
    ]
   },
   "source": [
    "## **Ex. 0 (2 pts)**: `summarize_interactions_str` ##\n",
    "\n",
    "You are asked to write a summary report of the overall interactions. Complete the function\n",
    "```python\n",
    "def summarize_interactions_str(conn):\n",
    "    ...\n",
    "```\n",
    "so that it does the following.\n",
    "\n",
    "**Inputs:** The input is a SQLite3 database connection containing a table named `Interactions` with the fields `user_id`, `book_id`, `is_read`, `rating`, and `is_reviewed`, all containing integer values.\n",
    "\n",
    "**Your task:** Calculate the following:\n",
    "\n",
    "- The total number of interactions\n",
    "- The number of _unique_ user IDs\n",
    "- The number of _unique_ book IDs\n",
    "- The number of interactions where the user ...\n",
    "  - read the book, i.e., where `is_read` equals `1`;\n",
    "  - rated the book, i.e., where `rating` is _greater than_ `0`;\n",
    "  - reviewed the book, i.e., where `is_review` equals `1`.\n",
    "\n",
    "**Output:** Generate and **return a string** that reports these results. The string should be formatted as follows:\n",
    "```\n",
    "There are 370,818 interactions.\n",
    "- Unique users: 2,000\n",
    "- Unique books: 138,633\n",
    "- Number of reads: 208,701 (56.3% of all interactions)\n",
    "- Number of ratings: 194,243 (52.4%)\n",
    "- Number of reviews: 23,720 (6.4%)\n",
    "```\n",
    "In particular:\n",
    "- Commas should be used every three digits to make the numbers more readable.\n",
    "- The percentages should be reported to one digit after the decimal place (even if that digit is `0`, e.g., `37.0%`).\n",
    "- Newlines should appear between lines as shown in the example. However, there should be _no_ leading or trailing whitespace.\n",
    "\n",
    "**Additional notes and hints:**\n",
    "1. The function predefines a string template for the report. It's probably easiest to **modify** this template to achieve the desired result.\n",
    "2. You may assume that there are no duplicate (`user_id`, `book_id`) pairs.\n",
    "3. Recall that Python f-strings can help format numbers. See the demo cell below."
   ]
  },
  {
   "cell_type": "code",
   "execution_count": 6,
   "metadata": {
    "ExecuteTime": {
     "end_time": "2023-03-30T22:24:11.573787Z",
     "start_time": "2023-03-30T22:24:11.556746Z"
    },
    "deletable": false,
    "editable": false,
    "nbgrader": {
     "grade": false,
     "locked": true,
     "solution": false
    }
   },
   "outputs": [
    {
     "name": "stdout",
     "output_type": "stream",
     "text": [
      "`pi` to 2 decimal digits: `3.14`\n",
      "Behold: `1,234,567,890` -- neat!\n"
     ]
    }
   ],
   "source": [
    "### Demo: Recall Python's f-strings\n",
    "\n",
    "print(f\"`pi` to 2 decimal digits: `{3.14159265358979:0.2f}`\")\n",
    "print(f\"Behold: `{1234567890:,}` -- neat!\")"
   ]
  },
  {
   "cell_type": "code",
   "execution_count": 7,
   "metadata": {
    "ExecuteTime": {
     "end_time": "2023-03-30T22:24:11.594447Z",
     "start_time": "2023-03-30T22:24:11.574690Z"
    },
    "deletable": false,
    "editable": false,
    "nbgrader": {
     "grade": false,
     "locked": true,
     "solution": false
    },
    "tags": [
     "demo_data"
    ]
   },
   "outputs": [
    {
     "name": "stdout",
     "output_type": "stream",
     "text": [
      "First five rows of the demo database:\n"
     ]
    },
    {
     "data": {
      "text/html": [
       "<div>\n",
       "<style scoped>\n",
       "    .dataframe tbody tr th:only-of-type {\n",
       "        vertical-align: middle;\n",
       "    }\n",
       "\n",
       "    .dataframe tbody tr th {\n",
       "        vertical-align: top;\n",
       "    }\n",
       "\n",
       "    .dataframe thead th {\n",
       "        text-align: right;\n",
       "    }\n",
       "</style>\n",
       "<table border=\"1\" class=\"dataframe\">\n",
       "  <thead>\n",
       "    <tr style=\"text-align: right;\">\n",
       "      <th></th>\n",
       "      <th>user_id</th>\n",
       "      <th>book_id</th>\n",
       "      <th>is_read</th>\n",
       "      <th>rating</th>\n",
       "      <th>is_reviewed</th>\n",
       "    </tr>\n",
       "  </thead>\n",
       "  <tbody>\n",
       "    <tr>\n",
       "      <th>0</th>\n",
       "      <td>344083</td>\n",
       "      <td>1050</td>\n",
       "      <td>1</td>\n",
       "      <td>3</td>\n",
       "      <td>0</td>\n",
       "    </tr>\n",
       "    <tr>\n",
       "      <th>1</th>\n",
       "      <td>47457</td>\n",
       "      <td>210745</td>\n",
       "      <td>0</td>\n",
       "      <td>0</td>\n",
       "      <td>0</td>\n",
       "    </tr>\n",
       "    <tr>\n",
       "      <th>2</th>\n",
       "      <td>159681</td>\n",
       "      <td>51033</td>\n",
       "      <td>0</td>\n",
       "      <td>0</td>\n",
       "      <td>0</td>\n",
       "    </tr>\n",
       "    <tr>\n",
       "      <th>3</th>\n",
       "      <td>226106</td>\n",
       "      <td>175390</td>\n",
       "      <td>0</td>\n",
       "      <td>0</td>\n",
       "      <td>0</td>\n",
       "    </tr>\n",
       "    <tr>\n",
       "      <th>4</th>\n",
       "      <td>41825</td>\n",
       "      <td>528</td>\n",
       "      <td>1</td>\n",
       "      <td>4</td>\n",
       "      <td>0</td>\n",
       "    </tr>\n",
       "  </tbody>\n",
       "</table>\n",
       "</div>"
      ],
      "text/plain": [
       "   user_id  book_id  is_read  rating  is_reviewed\n",
       "0   344083     1050        1       3            0\n",
       "1    47457   210745        0       0            0\n",
       "2   159681    51033        0       0            0\n",
       "3   226106   175390        0       0            0\n",
       "4    41825      528        1       4            0"
      ]
     },
     "execution_count": 7,
     "metadata": {},
     "output_type": "execute_result"
    }
   ],
   "source": [
    "### Define demo inputs\n",
    "\n",
    "demo_conn_ex0 = db.connect(f'file:resource/asnlib/publicdata/demo_ex0.db?mode=ro', uri=True)\n",
    "print(\"First five rows of the demo database:\")\n",
    "pd.read_sql(r\"SELECT * FROM Interactions LIMIT 5\", demo_conn_ex0)"
   ]
  },
  {
   "cell_type": "markdown",
   "metadata": {
    "deletable": false,
    "editable": false,
    "nbgrader": {
     "grade": false,
     "locked": true,
     "solution": false
    },
    "tags": [
     "demo_output_md"
    ]
   },
   "source": [
    "The demo included in the solution cell below should display the following output:\n",
    "```\n",
    "There are 12,345 interactions.\n",
    "- Unique users: 1,766\n",
    "- Unique books: 9,348\n",
    "- Number of reads: 6,844 (55.4% of all interactions)\n",
    "- Number of ratings: 6,389 (51.8%)\n",
    "- Number of reviews: 744 (6.0%)\n",
    "```"
   ]
  },
  {
   "cell_type": "code",
   "execution_count": 8,
   "metadata": {
    "ExecuteTime": {
     "end_time": "2023-03-30T22:24:11.657103Z",
     "start_time": "2023-03-30T22:24:11.595539Z"
    },
    "tags": [
     "exercise_solution"
    ]
   },
   "outputs": [
    {
     "name": "stdout",
     "output_type": "stream",
     "text": [
      "There are 12,345 interactions.\n",
      "- Unique users: 1,766\n",
      "- Unique books: 9,348\n",
      "- Number of reads: 6,844 (55.4% of all interactions)\n",
      "- Number of ratings: 6,389 (51.8%)\n",
      "- Number of reviews: 744 (6.0%)\n"
     ]
    }
   ],
   "source": [
    "### Exercise 0 solution ###\n",
    "def summarize_interactions_str(conn):\n",
    "    # Use or adapt this template as you see fit:\n",
    "    ###\n",
    "    query = '''\n",
    "            SELECT \n",
    "                COUNT(user_id) AS interactions,\n",
    "                COUNT(DISTINCT user_id) AS users,\n",
    "                COUNT(DISTINCT book_id) AS books,\n",
    "                COUNT(CASE WHEN is_read = 1 THEN 1 END) AS numReads,\n",
    "                COUNT(CASE WHEN rating > 0 THEN 1 END) AS numRatings,\n",
    "                COUNT(CASE WHEN is_reviewed = 1 THEN 1 END) AS numReviewed\n",
    "            FROM\n",
    "                Interactions\n",
    "    '''\n",
    "    df = pd.read_sql_query(query, conn)\n",
    "    \n",
    "    x = df.to_dict(orient='list')\n",
    "    for key in x:\n",
    "        x[key] = int(x[key][0])\n",
    "    readInter = round(x['numReads']/x['interactions'] * 100, 1)\n",
    "    ratingsInter = round(x['numRatings']/x['interactions'] * 100, 1)\n",
    "    reviewedInter = round(x['numReviewed']/ x['interactions'] * 100, 1)\n",
    "\n",
    "    for key in x:\n",
    "        if len(str(x[key])) > 3:\n",
    "            x[key] = '{:,}'.format(x[key])\n",
    "\n",
    "    template = \"\"\"There are {} interactions.\n",
    "- Unique users: {}\n",
    "- Unique books: {}\n",
    "- Number of reads: {} ({}% of all interactions)\n",
    "- Number of ratings: {} ({}%)\n",
    "- Number of reviews: {} ({}%)\"\"\".format(x['interactions'], x['users'], x['books'], x['numReads'], readInter, x['numRatings'],\n",
    "                                        ratingsInter, x['numReviewed'], reviewedInter)\n",
    "    return template\n",
    "    \n",
    "    ###\n",
    "    \n",
    "### demo function call\n",
    "print(summarize_interactions_str(demo_conn_ex0))\n",
    "# print(returned_output_vars['output_0'])\n",
    "# print(true_output_vars['output_0'])"
   ]
  },
  {
   "cell_type": "markdown",
   "metadata": {
    "deletable": false,
    "editable": false,
    "nbgrader": {
     "grade": false,
     "locked": true,
     "solution": false
    },
    "tags": [
     "test_data_boilerplate"
    ]
   },
   "source": [
    "<!-- Test Cell Boilerplate -->\n",
    "The cell below will test your solution for Exercise 0. The testing variables will be available for debugging under the following names in a dictionary format.\n",
    "- `input_vars` - Input variables for your solution. \n",
    "- `original_input_vars` - Copy of input variables from prior to running your solution. These _should_ be the same as `input_vars` - otherwise the inputs were modified by your solution.\n",
    "- `returned_output_vars` - Outputs returned by your solution.\n",
    "- `true_output_vars` - The expected output. This _should_ \"match\" `returned_output_vars` based on the question requirements - otherwise, your solution is not returning the correct output. "
   ]
  },
  {
   "cell_type": "code",
   "execution_count": 9,
   "metadata": {
    "ExecuteTime": {
     "end_time": "2023-03-30T22:24:20.200194Z",
     "start_time": "2023-03-30T22:24:19.730749Z"
    },
    "deletable": false,
    "editable": false,
    "nbgrader": {
     "grade": true,
     "grade_id": "ex0",
     "locked": true,
     "points": "2",
     "solution": false
    },
    "tags": []
   },
   "outputs": [
    {
     "name": "stdout",
     "output_type": "stream",
     "text": [
      "Passed! Please submit.\n"
     ]
    }
   ],
   "source": [
    "### test_cell_ex0\n",
    "###\n",
    "### AUTOGRADER TEST - DO NOT REMOVE\n",
    "###\n",
    "from tester_fw.testers import Tester\n",
    "\n",
    "conf = {\n",
    "    'case_file':'tc_0', \n",
    "    'func': summarize_interactions_str, # replace this with the function defined above\n",
    "    'inputs':{ # input config dict. keys are parameter names\n",
    "        'conn':{\n",
    "            'dtype': 'db', # data type of param.\n",
    "            'check_modified': False,\n",
    "        }\n",
    "    },\n",
    "    'outputs':{\n",
    "        'output_0': {\n",
    "            'index': 0,\n",
    "            'dtype': 'str',\n",
    "            'check_dtype': True,\n",
    "            'check_col_dtypes': True, # Ignored if dtype is not df\n",
    "            'check_col_order': True, # Ignored if dtype is not df\n",
    "            'check_row_order': True, # Ignored if dtype is not df\n",
    "            'check_column_type': True, # Ignored if dtype is not df\n",
    "            'float_tolerance': 10 ** (-6)\n",
    "        }\n",
    "    }\n",
    "}\n",
    "tester = Tester(conf, key=b'jpS7W-CpqAQfuITMEQZL-yVXfhIaCkSaei-emnyRtrI=', path='resource/asnlib/publicdata/')\n",
    "for _ in range(10):\n",
    "    try:\n",
    "        tester.run_test()\n",
    "        (input_vars, original_input_vars, returned_output_vars, true_output_vars) = tester.get_test_vars()\n",
    "    except:\n",
    "        (input_vars, original_input_vars, returned_output_vars, true_output_vars) = tester.get_test_vars()\n",
    "        raise\n",
    "\n",
    "###\n",
    "### AUTOGRADER TEST - DO NOT REMOVE\n",
    "###\n",
    "print('Passed! Please submit.')"
   ]
  },
  {
   "cell_type": "markdown",
   "metadata": {
    "deletable": false,
    "editable": false,
    "nbgrader": {
     "grade": false,
     "locked": true,
     "solution": false
    }
   },
   "source": [
    "**RUN ME:** A correct implementation of `summarize_interactions_str`, when run on the full Goodreads dataset, would produce the following report:"
   ]
  },
  {
   "cell_type": "code",
   "execution_count": 10,
   "metadata": {
    "ExecuteTime": {
     "end_time": "2023-03-30T22:24:20.221162Z",
     "start_time": "2023-03-30T22:24:20.201178Z"
    },
    "deletable": false,
    "editable": false,
    "nbgrader": {
     "grade": false,
     "locked": true,
     "solution": false
    }
   },
   "outputs": [
    {
     "name": "stdout",
     "output_type": "stream",
     "text": [
      "\n",
      "=== Report on the full dataset ===\n",
      "\n",
      "There are 370,818 interactions.\n",
      "- Unique users: 2,000\n",
      "- Unique books: 138,633\n",
      "- Number of reads: 208,701 (56.3% of all interactions)\n",
      "- Number of ratings: 194,243 (52.4%)\n",
      "- Number of reviews: 23,720 (6.4%)\n"
     ]
    }
   ],
   "source": [
    "print(f\"\\n=== Report on the full dataset ===\\n\\n{load_text_from_file('ex0.txt')}\")"
   ]
  },
  {
   "cell_type": "markdown",
   "metadata": {
    "deletable": false,
    "editable": false,
    "nbgrader": {
     "grade": false,
     "locked": true,
     "solution": false
    },
    "tags": [
     "exercise_text"
    ]
   },
   "source": [
    "## **Ex. 1 (1 pt)**: `count_interactions_by` ##\n",
    "\n",
    "Suppose we want to group the interactions and count the number by group. For example, we might want to know, for each unique user ID, how many interactions there are. Complete the function\n",
    "```python\n",
    "def count_interactions_by(col, conn):\n",
    "    ...\n",
    "```\n",
    "so that it does the following.\n",
    "\n",
    "**Inputs:**\n",
    "- `col`: The name of a column\n",
    "- `conn`: A database connection containing a table named `Interactions`\n",
    "\n",
    "**Your task:** For each unique value in column `'col'` of the `Interactions` table, count how many interactions (rows) there are.\n",
    "\n",
    "**Output:** Return a dataframe with two columns:\n",
    "- `col`: A column with the **same name** as the given input column holding the unique values\n",
    "- `'count'`: A column with the number of interactions for each unique value\n",
    "\n",
    "Refer to the demo cell below for an example of this output.\n",
    "\n",
    "**Additional notes and hints:** You may assume that `col` holds a valid column name. The exact order of rows and columns in your output does not matter.\n",
    "\n",
    "**Example:**"
   ]
  },
  {
   "cell_type": "code",
   "execution_count": 11,
   "metadata": {
    "ExecuteTime": {
     "end_time": "2023-03-30T22:24:20.243973Z",
     "start_time": "2023-03-30T22:24:20.222115Z"
    },
    "deletable": false,
    "editable": false,
    "nbgrader": {
     "grade": false,
     "locked": true,
     "solution": false
    },
    "tags": [
     "demo_data"
    ]
   },
   "outputs": [
    {
     "data": {
      "text/html": [
       "<div>\n",
       "<style scoped>\n",
       "    .dataframe tbody tr th:only-of-type {\n",
       "        vertical-align: middle;\n",
       "    }\n",
       "\n",
       "    .dataframe tbody tr th {\n",
       "        vertical-align: top;\n",
       "    }\n",
       "\n",
       "    .dataframe thead th {\n",
       "        text-align: right;\n",
       "    }\n",
       "</style>\n",
       "<table border=\"1\" class=\"dataframe\">\n",
       "  <thead>\n",
       "    <tr style=\"text-align: right;\">\n",
       "      <th></th>\n",
       "      <th>user_id</th>\n",
       "      <th>book_id</th>\n",
       "      <th>is_read</th>\n",
       "      <th>rating</th>\n",
       "      <th>is_reviewed</th>\n",
       "    </tr>\n",
       "  </thead>\n",
       "  <tbody>\n",
       "    <tr>\n",
       "      <th>0</th>\n",
       "      <td>569241</td>\n",
       "      <td>208373</td>\n",
       "      <td>0</td>\n",
       "      <td>0</td>\n",
       "      <td>0</td>\n",
       "    </tr>\n",
       "    <tr>\n",
       "      <th>1</th>\n",
       "      <td>569241</td>\n",
       "      <td>47199</td>\n",
       "      <td>1</td>\n",
       "      <td>5</td>\n",
       "      <td>1</td>\n",
       "    </tr>\n",
       "    <tr>\n",
       "      <th>2</th>\n",
       "      <td>607817</td>\n",
       "      <td>40293</td>\n",
       "      <td>0</td>\n",
       "      <td>0</td>\n",
       "      <td>0</td>\n",
       "    </tr>\n",
       "    <tr>\n",
       "      <th>3</th>\n",
       "      <td>569241</td>\n",
       "      <td>47383</td>\n",
       "      <td>1</td>\n",
       "      <td>5</td>\n",
       "      <td>1</td>\n",
       "    </tr>\n",
       "    <tr>\n",
       "      <th>4</th>\n",
       "      <td>607817</td>\n",
       "      <td>7984</td>\n",
       "      <td>0</td>\n",
       "      <td>0</td>\n",
       "      <td>0</td>\n",
       "    </tr>\n",
       "    <tr>\n",
       "      <th>5</th>\n",
       "      <td>607817</td>\n",
       "      <td>792</td>\n",
       "      <td>0</td>\n",
       "      <td>0</td>\n",
       "      <td>0</td>\n",
       "    </tr>\n",
       "    <tr>\n",
       "      <th>6</th>\n",
       "      <td>604656</td>\n",
       "      <td>2345195</td>\n",
       "      <td>1</td>\n",
       "      <td>5</td>\n",
       "      <td>1</td>\n",
       "    </tr>\n",
       "    <tr>\n",
       "      <th>7</th>\n",
       "      <td>607817</td>\n",
       "      <td>128860</td>\n",
       "      <td>1</td>\n",
       "      <td>0</td>\n",
       "      <td>0</td>\n",
       "    </tr>\n",
       "  </tbody>\n",
       "</table>\n",
       "</div>"
      ],
      "text/plain": [
       "   user_id  book_id  is_read  rating  is_reviewed\n",
       "0   569241   208373        0       0            0\n",
       "1   569241    47199        1       5            1\n",
       "2   607817    40293        0       0            0\n",
       "3   569241    47383        1       5            1\n",
       "4   607817     7984        0       0            0\n",
       "5   607817      792        0       0            0\n",
       "6   604656  2345195        1       5            1\n",
       "7   607817   128860        1       0            0"
      ]
     },
     "metadata": {},
     "output_type": "display_data"
    }
   ],
   "source": [
    "### Define demo inputs ###\n",
    "\n",
    "demo_col_ex1 = 'user_id'\n",
    "demo_conn_ex1 = db.connect(f'file:resource/asnlib/publicdata/demo_ex1.db?mode=ro', uri=True)\n",
    "display(pd.read_sql(\"SELECT * FROM Interactions\", demo_conn_ex1))"
   ]
  },
  {
   "cell_type": "markdown",
   "metadata": {
    "deletable": false,
    "editable": false,
    "nbgrader": {
     "grade": false,
     "locked": true,
     "solution": false
    },
    "tags": [
     "demo_output_md"
    ]
   },
   "source": [
    "Calling `count_interactions_by(demo_col_ex1, demo_conn_ex1)` should produce the following output:\n",
    "\n",
    "|   user_id |   count |\n",
    "|----------:|--------:|\n",
    "|    569241 |       3 |\n",
    "|    604656 |       1 |\n",
    "|    607817 |       4 |\n",
    "\n",
    "However, calling `count_interactions_by('is_read', demo_conn_ex1)` would return a two-row `DataFrame` where the count of `0` and `1` values is `4` each."
   ]
  },
  {
   "cell_type": "code",
   "execution_count": 12,
   "metadata": {
    "ExecuteTime": {
     "end_time": "2023-03-30T22:24:20.270275Z",
     "start_time": "2023-03-30T22:24:20.245024Z"
    },
    "tags": [
     "exercise_solution"
    ]
   },
   "outputs": [
    {
     "data": {
      "text/html": [
       "<div>\n",
       "<style scoped>\n",
       "    .dataframe tbody tr th:only-of-type {\n",
       "        vertical-align: middle;\n",
       "    }\n",
       "\n",
       "    .dataframe tbody tr th {\n",
       "        vertical-align: top;\n",
       "    }\n",
       "\n",
       "    .dataframe thead th {\n",
       "        text-align: right;\n",
       "    }\n",
       "</style>\n",
       "<table border=\"1\" class=\"dataframe\">\n",
       "  <thead>\n",
       "    <tr style=\"text-align: right;\">\n",
       "      <th></th>\n",
       "      <th>user_id</th>\n",
       "      <th>count</th>\n",
       "    </tr>\n",
       "  </thead>\n",
       "  <tbody>\n",
       "    <tr>\n",
       "      <th>0</th>\n",
       "      <td>569241</td>\n",
       "      <td>3</td>\n",
       "    </tr>\n",
       "    <tr>\n",
       "      <th>1</th>\n",
       "      <td>604656</td>\n",
       "      <td>1</td>\n",
       "    </tr>\n",
       "    <tr>\n",
       "      <th>2</th>\n",
       "      <td>607817</td>\n",
       "      <td>4</td>\n",
       "    </tr>\n",
       "  </tbody>\n",
       "</table>\n",
       "</div>"
      ],
      "text/plain": [
       "   user_id  count\n",
       "0   569241      3\n",
       "1   604656      1\n",
       "2   607817      4"
      ]
     },
     "metadata": {},
     "output_type": "display_data"
    },
    {
     "data": {
      "text/html": [
       "<div>\n",
       "<style scoped>\n",
       "    .dataframe tbody tr th:only-of-type {\n",
       "        vertical-align: middle;\n",
       "    }\n",
       "\n",
       "    .dataframe tbody tr th {\n",
       "        vertical-align: top;\n",
       "    }\n",
       "\n",
       "    .dataframe thead th {\n",
       "        text-align: right;\n",
       "    }\n",
       "</style>\n",
       "<table border=\"1\" class=\"dataframe\">\n",
       "  <thead>\n",
       "    <tr style=\"text-align: right;\">\n",
       "      <th></th>\n",
       "      <th>is_read</th>\n",
       "      <th>count</th>\n",
       "    </tr>\n",
       "  </thead>\n",
       "  <tbody>\n",
       "    <tr>\n",
       "      <th>0</th>\n",
       "      <td>0</td>\n",
       "      <td>4</td>\n",
       "    </tr>\n",
       "    <tr>\n",
       "      <th>1</th>\n",
       "      <td>1</td>\n",
       "      <td>4</td>\n",
       "    </tr>\n",
       "  </tbody>\n",
       "</table>\n",
       "</div>"
      ],
      "text/plain": [
       "   is_read  count\n",
       "0        0      4\n",
       "1        1      4"
      ]
     },
     "metadata": {},
     "output_type": "display_data"
    }
   ],
   "source": [
    "### Exercise 1 solution\n",
    "def count_interactions_by(col, conn):\n",
    "    ###\n",
    "    query = f'''\n",
    "            SELECT \n",
    "                {col},\n",
    "                COUNT(*) AS count\n",
    "            FROM Interactions\n",
    "            GROUP BY {col}\n",
    "    '''\n",
    "    df = pd.read_sql_query(query, conn)\n",
    "    return (df)\n",
    "    ###\n",
    "\n",
    "### demo function calls ###\n",
    "display(count_interactions_by(demo_col_ex1, demo_conn_ex1))\n",
    "display(count_interactions_by('is_read', demo_conn_ex1))\n",
    "# print(returned_output_vars['output_0'])\n",
    "# print(true_output_vars['output_0'])"
   ]
  },
  {
   "cell_type": "markdown",
   "metadata": {
    "deletable": false,
    "editable": false,
    "nbgrader": {
     "grade": false,
     "locked": true,
     "solution": false
    },
    "tags": [
     "test_data_boilerplate"
    ]
   },
   "source": [
    "<!-- Test Cell Boilerplate -->\n",
    "The cell below will test your solution for Exercise 1. The testing variables will be available for debugging under the following names in a dictionary format.\n",
    "- `input_vars` - Input variables for your solution. \n",
    "- `original_input_vars` - Copy of input variables from prior to running your solution. These _should_ be the same as `input_vars` - otherwise the inputs were modified by your solution.\n",
    "- `returned_output_vars` - Outputs returned by your solution.\n",
    "- `true_output_vars` - The expected output. This _should_ \"match\" `returned_output_vars` based on the question requirements - otherwise, your solution is not returning the correct output. "
   ]
  },
  {
   "cell_type": "code",
   "execution_count": 13,
   "metadata": {
    "ExecuteTime": {
     "end_time": "2023-03-30T22:24:21.216618Z",
     "start_time": "2023-03-30T22:24:21.020646Z"
    },
    "deletable": false,
    "editable": false,
    "nbgrader": {
     "grade": true,
     "grade_id": "ex1",
     "locked": true,
     "points": "1",
     "solution": false
    },
    "tags": []
   },
   "outputs": [
    {
     "name": "stdout",
     "output_type": "stream",
     "text": [
      "Passed! Please submit.\n"
     ]
    }
   ],
   "source": [
    "### test_cell_ex1\n",
    "###\n",
    "### AUTOGRADER TEST - DO NOT REMOVE\n",
    "###\n",
    "from tester_fw.testers import Tester\n",
    "\n",
    "conf = {\n",
    "    'case_file':'tc_1', \n",
    "    'func': count_interactions_by, # replace this with the function defined above\n",
    "    'inputs':{ # input config dict. keys are parameter names\n",
    "        'col': {\n",
    "            'dtype': 'str', # data type of param.\n",
    "            'check_modified': False,\n",
    "        },\n",
    "        'conn': {\n",
    "            'dtype': 'db',\n",
    "            'check_modified': False\n",
    "        }\n",
    "    },\n",
    "    'outputs':{\n",
    "        'output_0':{\n",
    "            'index':0,\n",
    "            'dtype':'df',\n",
    "            'check_dtype': True,\n",
    "            'check_col_dtypes': True, # Ignored if dtype is not df\n",
    "            'check_col_order': False, # Ignored if dtype is not df\n",
    "            'check_row_order': False, # Ignored if dtype is not df\n",
    "#            'check_column_type': True, # Ignored if dtype is not df\n",
    "            'float_tolerance': 10 ** (-6)\n",
    "        }\n",
    "    }\n",
    "}\n",
    "tester = Tester(conf, key=b'jpS7W-CpqAQfuITMEQZL-yVXfhIaCkSaei-emnyRtrI=', path='resource/asnlib/publicdata/')\n",
    "for _ in range(70):\n",
    "    try:\n",
    "        tester.run_test()\n",
    "        (input_vars, original_input_vars, returned_output_vars, true_output_vars) = tester.get_test_vars()\n",
    "    except:\n",
    "        (input_vars, original_input_vars, returned_output_vars, true_output_vars) = tester.get_test_vars()\n",
    "        raise\n",
    "\n",
    "###\n",
    "### AUTOGRADER TEST - DO NOT REMOVE\n",
    "###\n",
    "print('Passed! Please submit.')"
   ]
  },
  {
   "cell_type": "markdown",
   "metadata": {
    "deletable": false,
    "editable": false,
    "nbgrader": {
     "grade": false,
     "locked": true,
     "solution": false
    }
   },
   "source": [
    "**RUN ME:** A correct implementation of `count_interactions_by`, when run on the full Goodreads dataset for the columns `is_read`, `rating`, and `is_reviewed`, would produce the following:"
   ]
  },
  {
   "cell_type": "code",
   "execution_count": 14,
   "metadata": {
    "ExecuteTime": {
     "end_time": "2023-03-30T22:24:21.242951Z",
     "start_time": "2023-03-30T22:24:21.217668Z"
    },
    "deletable": false,
    "editable": false,
    "nbgrader": {
     "grade": false,
     "locked": true,
     "solution": false
    }
   },
   "outputs": [
    {
     "name": "stdout",
     "output_type": "stream",
     "text": [
      "\n",
      "=== `count_interactions_by` on the full dataset ===\n",
      "\n"
     ]
    },
    {
     "data": {
      "text/html": [
       "<div>\n",
       "<style scoped>\n",
       "    .dataframe tbody tr th:only-of-type {\n",
       "        vertical-align: middle;\n",
       "    }\n",
       "\n",
       "    .dataframe tbody tr th {\n",
       "        vertical-align: top;\n",
       "    }\n",
       "\n",
       "    .dataframe thead th {\n",
       "        text-align: right;\n",
       "    }\n",
       "</style>\n",
       "<table border=\"1\" class=\"dataframe\">\n",
       "  <thead>\n",
       "    <tr style=\"text-align: right;\">\n",
       "      <th></th>\n",
       "      <th>is_read</th>\n",
       "      <th>count</th>\n",
       "    </tr>\n",
       "  </thead>\n",
       "  <tbody>\n",
       "    <tr>\n",
       "      <th>0</th>\n",
       "      <td>0</td>\n",
       "      <td>162117</td>\n",
       "    </tr>\n",
       "    <tr>\n",
       "      <th>1</th>\n",
       "      <td>1</td>\n",
       "      <td>208701</td>\n",
       "    </tr>\n",
       "  </tbody>\n",
       "</table>\n",
       "</div>"
      ],
      "text/plain": [
       "   is_read   count\n",
       "0        0  162117\n",
       "1        1  208701"
      ]
     },
     "metadata": {},
     "output_type": "display_data"
    },
    {
     "data": {
      "text/html": [
       "<div>\n",
       "<style scoped>\n",
       "    .dataframe tbody tr th:only-of-type {\n",
       "        vertical-align: middle;\n",
       "    }\n",
       "\n",
       "    .dataframe tbody tr th {\n",
       "        vertical-align: top;\n",
       "    }\n",
       "\n",
       "    .dataframe thead th {\n",
       "        text-align: right;\n",
       "    }\n",
       "</style>\n",
       "<table border=\"1\" class=\"dataframe\">\n",
       "  <thead>\n",
       "    <tr style=\"text-align: right;\">\n",
       "      <th></th>\n",
       "      <th>rating</th>\n",
       "      <th>count</th>\n",
       "    </tr>\n",
       "  </thead>\n",
       "  <tbody>\n",
       "    <tr>\n",
       "      <th>0</th>\n",
       "      <td>0</td>\n",
       "      <td>176575</td>\n",
       "    </tr>\n",
       "    <tr>\n",
       "      <th>1</th>\n",
       "      <td>1</td>\n",
       "      <td>3821</td>\n",
       "    </tr>\n",
       "    <tr>\n",
       "      <th>2</th>\n",
       "      <td>2</td>\n",
       "      <td>10545</td>\n",
       "    </tr>\n",
       "    <tr>\n",
       "      <th>3</th>\n",
       "      <td>3</td>\n",
       "      <td>40965</td>\n",
       "    </tr>\n",
       "    <tr>\n",
       "      <th>4</th>\n",
       "      <td>4</td>\n",
       "      <td>67534</td>\n",
       "    </tr>\n",
       "    <tr>\n",
       "      <th>5</th>\n",
       "      <td>5</td>\n",
       "      <td>71378</td>\n",
       "    </tr>\n",
       "  </tbody>\n",
       "</table>\n",
       "</div>"
      ],
      "text/plain": [
       "   rating   count\n",
       "0       0  176575\n",
       "1       1    3821\n",
       "2       2   10545\n",
       "3       3   40965\n",
       "4       4   67534\n",
       "5       5   71378"
      ]
     },
     "metadata": {},
     "output_type": "display_data"
    },
    {
     "data": {
      "text/html": [
       "<div>\n",
       "<style scoped>\n",
       "    .dataframe tbody tr th:only-of-type {\n",
       "        vertical-align: middle;\n",
       "    }\n",
       "\n",
       "    .dataframe tbody tr th {\n",
       "        vertical-align: top;\n",
       "    }\n",
       "\n",
       "    .dataframe thead th {\n",
       "        text-align: right;\n",
       "    }\n",
       "</style>\n",
       "<table border=\"1\" class=\"dataframe\">\n",
       "  <thead>\n",
       "    <tr style=\"text-align: right;\">\n",
       "      <th></th>\n",
       "      <th>is_reviewed</th>\n",
       "      <th>count</th>\n",
       "    </tr>\n",
       "  </thead>\n",
       "  <tbody>\n",
       "    <tr>\n",
       "      <th>0</th>\n",
       "      <td>0</td>\n",
       "      <td>347098</td>\n",
       "    </tr>\n",
       "    <tr>\n",
       "      <th>1</th>\n",
       "      <td>1</td>\n",
       "      <td>23720</td>\n",
       "    </tr>\n",
       "  </tbody>\n",
       "</table>\n",
       "</div>"
      ],
      "text/plain": [
       "   is_reviewed   count\n",
       "0            0  347098\n",
       "1            1   23720"
      ]
     },
     "metadata": {},
     "output_type": "display_data"
    }
   ],
   "source": [
    "print(f\"\\n=== `count_interactions_by` on the full dataset ===\\n\")\n",
    "for col_ in ['is_read', 'rating', 'is_reviewed']:\n",
    "    display(load_df_from_file(f\"ex1-{col_}.df\"))"
   ]
  },
  {
   "cell_type": "markdown",
   "metadata": {
    "deletable": false,
    "editable": false,
    "nbgrader": {
     "grade": false,
     "locked": true,
     "solution": false
    }
   },
   "source": [
    "> **Aside (skip if pressed for time)**: From these results, you might observe a _hint_ at a phenomenon known as a [_monotonic behavior chain_](https://dl.acm.org/doi/10.1145/3240323.3240369): the total number of interactions > the number who read > the number who rate > the number who review. Such phenomena have been used to improve automatic generation of item recommendations."
   ]
  },
  {
   "cell_type": "markdown",
   "metadata": {
    "deletable": false,
    "editable": false,
    "nbgrader": {
     "grade": false,
     "locked": true,
     "solution": false
    }
   },
   "source": [
    "# Part B: Power laws #\n",
    "\n",
    "> Includes Exercise 2 (3 points).\n",
    "\n",
    "Many types of real-world data have _**power law distributions**_. Roughly speaking, a probability density $f(x)$ is a power law if it behaves like $\\dfrac{1}{x^d}$ for some constant $d$ when $x$ is \"large,\" i.e., as one approaches the tail of the distribution. Let's see if there are any power laws in our data."
   ]
  },
  {
   "cell_type": "markdown",
   "metadata": {
    "deletable": false,
    "editable": false,
    "nbgrader": {
     "grade": false,
     "locked": true,
     "solution": false
    }
   },
   "source": [
    "For instance, suppose you have a pandas `Series` that shows, for each user, how many books they interacted with:"
   ]
  },
  {
   "cell_type": "code",
   "execution_count": 15,
   "metadata": {
    "ExecuteTime": {
     "end_time": "2023-03-30T22:24:21.266041Z",
     "start_time": "2023-03-30T22:24:21.243821Z"
    },
    "deletable": false,
    "editable": false,
    "nbgrader": {
     "grade": false,
     "locked": true,
     "solution": false
    }
   },
   "outputs": [
    {
     "data": {
      "text/plain": [
       "user_id\n",
       "175       349\n",
       "1251      146\n",
       "1369      127\n",
       "1764      278\n",
       "1773      225\n",
       "         ... \n",
       "874199     12\n",
       "874412     93\n",
       "874916     87\n",
       "875838     55\n",
       "876114     57\n",
       "Name: count, Length: 2000, dtype: int64"
      ]
     },
     "execution_count": 15,
     "metadata": {},
     "output_type": "execute_result"
    }
   ],
   "source": [
    "ux_counts = load_df_from_file(f\"ex1-user_id.df\").set_index('user_id')['count']\n",
    "ux_counts"
   ]
  },
  {
   "cell_type": "markdown",
   "metadata": {
    "deletable": false,
    "editable": false,
    "nbgrader": {
     "grade": false,
     "locked": true,
     "solution": false
    }
   },
   "source": [
    "The index is a user ID and the value is an integer count of how many interaction-rows are associated with them."
   ]
  },
  {
   "cell_type": "markdown",
   "metadata": {
    "deletable": false,
    "editable": false,
    "nbgrader": {
     "grade": false,
     "locked": true,
     "solution": false
    },
    "tags": [
     "exercise_text"
    ]
   },
   "source": [
    "## **Ex. 2 (3 pts)**: `log2bin_count` ##\n",
    "\n",
    "Given a `Series` object holding values that can range from 1 to $n$, inclusive, we wish to count how many of those integers lie within the _log-two bins_,\n",
    "\n",
    "* $[1, 2)$: that is, starting at one up to but _excluding_ 2;\n",
    "* $[2, 4)$: starting at two up to but _excluding_ 4;\n",
    "* $[4, 8)$: starting at 4 up to but _excluding_ 8;\n",
    "* ...\n",
    "* and $\\left[ 2^{k-1}, 2^k \\right)$: starting at $2^{k-1}$ up to but excluding $2^k$, where $2^k$ is the first power of two greater than $n$.\n",
    "\n",
    "Complete the function,\n",
    "```python\n",
    "def log2bin_count(series):\n",
    "    ...\n",
    "```\n",
    "to compute these counts.\n",
    "\n",
    "**Inputs:** The input `series` is a pandas `Series`-object holding the values.\n",
    "\n",
    "**Your tasks** will involve, most likely, these steps:\n",
    "- Determine what the bins need to be.\n",
    "- Count the number of values in each bin.\n",
    "- Exclude any empty bins, i.e., those with _no_ values.\n",
    "\n",
    "**Outputs:** Your function should return a `DataFrame` with two columns:\n",
    "1. `bin_start`: The value of the left edge of a bin, which are integers starting at 1 and all of the form $2^i$.\n",
    "2. `count`: The number of values in `series` that lie in $\\left[ 2^i, 2^{i+1} \\right)$, also an integer.\n",
    "\n",
    "See the demo below for an example.\n",
    "\n",
    "**Additional notes and hints.**\n",
    "1. You may assume all input values are integers greater than or equal to 1.\n",
    "1. Given a value $x$, the next largest power of two is $2^k$ where $k = \\lceil \\log_2 x \\rceil + 1$.\n",
    "1. A helpful function is [`pandas.cut` (`pd.cut`)](https://pandas.pydata.org/docs/reference/api/pandas.cut.html), but you certainly do not have to use it.\n",
    "1. Recall that you should _omit_ empty bins.\n",
    "\n",
    "**Example/demo:** Suppose the input `Series` looks like the following:"
   ]
  },
  {
   "cell_type": "code",
   "execution_count": 16,
   "metadata": {
    "ExecuteTime": {
     "end_time": "2023-03-30T22:24:21.289819Z",
     "start_time": "2023-03-30T22:24:21.267798Z"
    },
    "deletable": false,
    "editable": false,
    "nbgrader": {
     "grade": false,
     "locked": true,
     "solution": false
    },
    "tags": [
     "demo_data"
    ]
   },
   "outputs": [
    {
     "data": {
      "text/plain": [
       "user_id\n",
       "752564     76\n",
       "365745    373\n",
       "405247    385\n",
       "83287     142\n",
       "363597    133\n",
       "676898     49\n",
       "795294     78\n",
       "736928     19\n",
       "594854     37\n",
       "62913     119\n",
       "Name: count, dtype: int64"
      ]
     },
     "metadata": {},
     "output_type": "display_data"
    }
   ],
   "source": [
    "### Define demo inputs ###\n",
    "\n",
    "demo_series_ex2 = load_df_from_file('demo_ex2.df').set_index('user_id')['count']\n",
    "display(demo_series_ex2)"
   ]
  },
  {
   "cell_type": "markdown",
   "metadata": {
    "deletable": false,
    "editable": false,
    "nbgrader": {
     "grade": false,
     "locked": true,
     "solution": false
    },
    "tags": [
     "demo_output_md"
    ]
   },
   "source": [
    "Then a correct solution would produce:\n",
    "\n",
    "|   bin_start |   count |\n",
    "|------------:|--------:|\n",
    "|          64 |       3 |\n",
    "|         256 |       2 |\n",
    "|         128 |       2 |\n",
    "|          32 |       2 |\n",
    "|          16 |       1 |\n",
    "\n",
    "There is just one input value in $[16, 32)$, namely, the value `49`. But in the bin $[64, 128)$, there are three input values: `76`, `78`, and `119`."
   ]
  },
  {
   "cell_type": "code",
   "execution_count": 17,
   "metadata": {
    "ExecuteTime": {
     "end_time": "2023-03-30T22:24:21.316308Z",
     "start_time": "2023-03-30T22:24:21.290740Z"
    },
    "tags": [
     "exercise_solution"
    ]
   },
   "outputs": [
    {
     "data": {
      "text/html": [
       "<div>\n",
       "<style scoped>\n",
       "    .dataframe tbody tr th:only-of-type {\n",
       "        vertical-align: middle;\n",
       "    }\n",
       "\n",
       "    .dataframe tbody tr th {\n",
       "        vertical-align: top;\n",
       "    }\n",
       "\n",
       "    .dataframe thead th {\n",
       "        text-align: right;\n",
       "    }\n",
       "</style>\n",
       "<table border=\"1\" class=\"dataframe\">\n",
       "  <thead>\n",
       "    <tr style=\"text-align: right;\">\n",
       "      <th></th>\n",
       "      <th>bin_start</th>\n",
       "      <th>count</th>\n",
       "    </tr>\n",
       "  </thead>\n",
       "  <tbody>\n",
       "    <tr>\n",
       "      <th>0</th>\n",
       "      <td>64</td>\n",
       "      <td>3</td>\n",
       "    </tr>\n",
       "    <tr>\n",
       "      <th>1</th>\n",
       "      <td>256</td>\n",
       "      <td>2</td>\n",
       "    </tr>\n",
       "    <tr>\n",
       "      <th>2</th>\n",
       "      <td>128</td>\n",
       "      <td>2</td>\n",
       "    </tr>\n",
       "    <tr>\n",
       "      <th>3</th>\n",
       "      <td>32</td>\n",
       "      <td>2</td>\n",
       "    </tr>\n",
       "    <tr>\n",
       "      <th>4</th>\n",
       "      <td>16</td>\n",
       "      <td>1</td>\n",
       "    </tr>\n",
       "  </tbody>\n",
       "</table>\n",
       "</div>"
      ],
      "text/plain": [
       "   bin_start  count\n",
       "0         64      3\n",
       "1        256      2\n",
       "2        128      2\n",
       "3         32      2\n",
       "4         16      1"
      ]
     },
     "execution_count": 17,
     "metadata": {},
     "output_type": "execute_result"
    }
   ],
   "source": [
    "### Exercise 2 solution\n",
    "import math\n",
    "from collections import defaultdict\n",
    "def log2bin_count(series):\n",
    "    ###\n",
    "    k = (int(math.log(max(series))/math.log(2))+1) #closing value\n",
    "    \n",
    "    lst = []\n",
    "    for i in range(1, k+1):\n",
    "        lst.append((2**(i-1), 2**i))\n",
    "#     print(lst)\n",
    "    \n",
    "    binDict = defaultdict(int)\n",
    "#     print(i in range(lst[4][0], lst[4][1]))\n",
    "    for value in series:\n",
    "        for j in range(len(lst)):\n",
    "            if (value in range(lst[j][0], lst[j][1])):\n",
    "                binDict[lst[j][0]]+=1\n",
    "    df = pd.DataFrame({'bin_start':list(binDict.keys()), 'count':list(binDict.values())})\n",
    "    return (df)\n",
    "    ###\n",
    "\n",
    "### demo function call ###\n",
    "log2bin_count(demo_series_ex2)"
   ]
  },
  {
   "cell_type": "markdown",
   "metadata": {
    "deletable": false,
    "editable": false,
    "nbgrader": {
     "grade": false,
     "locked": true,
     "solution": false
    },
    "tags": [
     "test_data_boilerplate"
    ]
   },
   "source": [
    "<!-- Test Cell Boilerplate -->\n",
    "The cell below will test your solution for Exercise 2. The testing variables will be available for debugging under the following names in a dictionary format.\n",
    "- `input_vars` - Input variables for your solution. \n",
    "- `original_input_vars` - Copy of input variables from prior to running your solution. These _should_ be the same as `input_vars` - otherwise the inputs were modified by your solution.\n",
    "- `returned_output_vars` - Outputs returned by your solution.\n",
    "- `true_output_vars` - The expected output. This _should_ \"match\" `returned_output_vars` based on the question requirements - otherwise, your solution is not returning the correct output. "
   ]
  },
  {
   "cell_type": "code",
   "execution_count": 18,
   "metadata": {
    "ExecuteTime": {
     "end_time": "2023-03-30T22:24:21.829191Z",
     "start_time": "2023-03-30T22:24:21.591120Z"
    },
    "deletable": false,
    "editable": false,
    "nbgrader": {
     "grade": true,
     "grade_id": "ex2",
     "locked": true,
     "points": "3",
     "solution": false
    },
    "tags": []
   },
   "outputs": [
    {
     "name": "stdout",
     "output_type": "stream",
     "text": [
      "Passed! Please submit.\n"
     ]
    }
   ],
   "source": [
    "### test_cell_ex2\n",
    "###\n",
    "### AUTOGRADER TEST - DO NOT REMOVE\n",
    "###\n",
    "from tester_fw.testers import Tester\n",
    "\n",
    "conf = {\n",
    "    'case_file':'tc_2', \n",
    "    'func': log2bin_count, # replace this with the function defined above\n",
    "    'inputs':{ # input config dict. keys are parameter names\n",
    "        'series': {\n",
    "            'dtype': 'series',\n",
    "            'check_modified': True,\n",
    "        }\n",
    "    },\n",
    "    'outputs':{\n",
    "        'output_0':{\n",
    "            'index': 0,\n",
    "            'dtype': 'df',\n",
    "            'check_dtype': True,\n",
    "            'check_col_dtypes': True, # Ignored if dtype is not df\n",
    "            'check_col_order': False, # Ignored if dtype is not df\n",
    "            'check_row_order': False, # Ignored if dtype is not df\n",
    "            'float_tolerance': 10 ** (-6)\n",
    "        }\n",
    "    }\n",
    "}\n",
    "tester = Tester(conf, key=b'jpS7W-CpqAQfuITMEQZL-yVXfhIaCkSaei-emnyRtrI=', path='resource/asnlib/publicdata/')\n",
    "for _ in range(70):\n",
    "    try:\n",
    "        tester.run_test()\n",
    "        (input_vars, original_input_vars, returned_output_vars, true_output_vars) = tester.get_test_vars()\n",
    "    except:\n",
    "        (input_vars, original_input_vars, returned_output_vars, true_output_vars) = tester.get_test_vars()\n",
    "        raise\n",
    "\n",
    "###\n",
    "### AUTOGRADER TEST - DO NOT REMOVE\n",
    "###\n",
    "print('Passed! Please submit.')"
   ]
  },
  {
   "cell_type": "markdown",
   "metadata": {
    "deletable": false,
    "editable": false,
    "nbgrader": {
     "grade": false,
     "locked": true,
     "solution": false
    }
   },
   "source": [
    "**RUN ME:** A correct implementation of `log2bin_count`, when run on `ux_counts` from the full Goodreads dataset, would produce the following:"
   ]
  },
  {
   "cell_type": "code",
   "execution_count": 19,
   "metadata": {
    "ExecuteTime": {
     "end_time": "2023-03-30T22:24:21.849726Z",
     "start_time": "2023-03-30T22:24:21.830317Z"
    },
    "deletable": false,
    "editable": false,
    "nbgrader": {
     "grade": false,
     "locked": true,
     "solution": false
    }
   },
   "outputs": [
    {
     "data": {
      "text/plain": [
       "user_id\n",
       "175       349\n",
       "1251      146\n",
       "1369      127\n",
       "1764      278\n",
       "1773      225\n",
       "         ... \n",
       "874199     12\n",
       "874412     93\n",
       "874916     87\n",
       "875838     55\n",
       "876114     57\n",
       "Name: count, Length: 2000, dtype: int64"
      ]
     },
     "execution_count": 19,
     "metadata": {},
     "output_type": "execute_result"
    }
   ],
   "source": [
    "ux_counts"
   ]
  },
  {
   "cell_type": "code",
   "execution_count": 20,
   "metadata": {
    "ExecuteTime": {
     "end_time": "2023-03-30T22:24:22.299509Z",
     "start_time": "2023-03-30T22:24:21.850818Z"
    },
    "deletable": false,
    "editable": false,
    "nbgrader": {
     "grade": false,
     "locked": true,
     "solution": false
    }
   },
   "outputs": [
    {
     "data": {
      "image/png": "[encoded data removed]",
      "text/plain": [
       "<Figure size 576x324 with 1 Axes>"
      ]
     },
     "metadata": {
      "needs_background": "light"
     },
     "output_type": "display_data"
    }
   ],
   "source": [
    "ux_counts_log2bins = load_df_from_file('ex2-log2bin_count.df')\n",
    "ax = cse6040.utils.plot_series_loglog(ux_counts_log2bins.set_index('bin_start')['count'], base=2)\n",
    "ax.set_xlabel('# book interactions (binned)')\n",
    "ax.set_ylabel('fraction of users', rotation=0, horizontalalignment='right')\n",
    "ax.set_title('Are sampled user-book interactions power-law-like?')\n",
    "ax.set_aspect(1.0)"
   ]
  },
  {
   "cell_type": "markdown",
   "metadata": {
    "deletable": false,
    "editable": false,
    "nbgrader": {
     "grade": false,
     "locked": true,
     "solution": false
    }
   },
   "source": [
    "> **Aside (skip if pressed for time):** These interactions do, indeed, appear to follow a power law in the tail of the distribution. In fact, the data in this notebook is a relatively small sample of the full dataset, which consists of hundreds of millions of interactions and has an even longer tail consistent with a power law."
   ]
  },
  {
   "cell_type": "markdown",
   "metadata": {
    "deletable": false,
    "editable": false,
    "nbgrader": {
     "grade": false,
     "locked": true,
     "solution": false
    }
   },
   "source": [
    "# Part C: NetworkX 101 #\n",
    "\n",
    "> Includes Exercise 3 (the **freebie**; 2 points)."
   ]
  },
  {
   "cell_type": "markdown",
   "metadata": {
    "deletable": false,
    "editable": false,
    "nbgrader": {
     "grade": false,
     "locked": true,
     "solution": false
    },
    "tags": [
     "exercise_text"
    ]
   },
   "source": [
    "Your next major task is to learn a little bit about **NetworkX**, a popular Python package for analyzing relational data (graphs with vertices and edges).\n",
    "\n",
    "**You do not have to write any code in this part; just read, learn, and enjoy! However, you do need to run Exercise 3's test cell and submit the exam to get its \"free\" points.**\n",
    "\n",
    "Also, do pay attention: subsequent exercises will use some of these concepts."
   ]
  },
  {
   "cell_type": "markdown",
   "metadata": {
    "deletable": false,
    "editable": false,
    "nbgrader": {
     "grade": false,
     "locked": true,
     "solution": false
    },
    "tags": [
     "exercise_text"
    ]
   },
   "source": [
    "## **Ex. 3 (_FREE_ 2 pts)**: Edge lists ##\n",
    "\n",
    "One way to use NetworkX is to create your graph as an **edge list**, which is a Python list of tuples. Each tuple `(u, v, w)` means that vertex `u` connects to vertex `v` and that this edge from `u` to `v` has a weight `w`.\n",
    "\n",
    "For example, here are the first five elements of an edge list for a randomly generated graph."
   ]
  },
  {
   "cell_type": "code",
   "execution_count": 21,
   "metadata": {
    "ExecuteTime": {
     "end_time": "2023-03-30T22:24:22.325971Z",
     "start_time": "2023-03-30T22:24:22.300848Z"
    },
    "deletable": false,
    "editable": false,
    "nbgrader": {
     "grade": false,
     "locked": true,
     "solution": false
    }
   },
   "outputs": [
    {
     "name": "stdout",
     "output_type": "stream",
     "text": [
      "Constructing a vertex-clustered graph with these properties:\n",
      "- Number of clusters: nc=4\n",
      "- Vertices per cluster: nvc=6\n",
      "- Number of intra-cluster edges per vertex: 4 (p_intra=0.5)\n",
      "- Number of inter-cluster edges per vertex: 2 (p_inter=0.1)\n",
      "- RNG: Generator(PCG64)\n",
      "\n",
      "The `demo_edge_list` has 144 tuples. The first ten are:\n"
     ]
    },
    {
     "data": {
      "text/plain": [
       "[(0, 2, 0.31909705841419755),\n",
       " (0, 3, 0.11809123296664281),\n",
       " (0, 4, 0.2417662932527851),\n",
       " (0, 5, 0.3185339287822264),\n",
       " (0, 10, 0.026364980427509378),\n",
       " (0, 20, 0.04410061220535114),\n",
       " (1, 0, 0.6598743479594311),\n",
       " (1, 2, 0.7357576983159544),\n",
       " (1, 4, 0.22275365813138726),\n",
       " (1, 5, 0.17206618466113854)]"
      ]
     },
     "execution_count": 21,
     "metadata": {},
     "output_type": "execute_result"
    }
   ],
   "source": [
    "demo_edge_list = cse6040.utils.random_clusters(4, 6, rng_or_seed=1_234, verbose=True) \n",
    "\n",
    "print(f\"\\nThe `demo_edge_list` has {len(demo_edge_list)} tuples. The first ten are:\")\n",
    "demo_edge_list[:10]"
   ]
  },
  {
   "cell_type": "markdown",
   "metadata": {
    "deletable": false,
    "editable": false,
    "nbgrader": {
     "grade": false,
     "locked": true,
     "solution": false
    }
   },
   "source": [
    "Let's use NetworkX to draw the graph that this edge list represents.\n",
    "\n",
    "> (We've written wrappers around the corresponding NetworkX routines to hide some unnecessary detail.)"
   ]
  },
  {
   "cell_type": "code",
   "execution_count": 22,
   "metadata": {
    "ExecuteTime": {
     "end_time": "2023-03-30T22:24:22.775017Z",
     "start_time": "2023-03-30T22:24:22.327274Z"
    },
    "deletable": false,
    "editable": false,
    "nbgrader": {
     "grade": false,
     "locked": true,
     "solution": false
    }
   },
   "outputs": [
    {
     "data": {
      "image/png": "[encoded data removed]",
      "text/plain": [
       "<Figure size 360x360 with 1 Axes>"
      ]
     },
     "metadata": {},
     "output_type": "display_data"
    }
   ],
   "source": [
    "from cse6040.utils import to_nx, graph_spy\n",
    "\n",
    "demo_G = to_nx(demo_edge_list) # Convert edge list to NetworkX graph\n",
    "graph_spy(demo_G, style='graph', with_labels=True, figsize=(5, 5)); # Draw a picture"
   ]
  },
  {
   "cell_type": "markdown",
   "metadata": {
    "deletable": false,
    "editable": false,
    "nbgrader": {
     "grade": false,
     "locked": true,
     "solution": false
    }
   },
   "source": [
    "In this picture, the numbered circles are vertices and arrows indicate edges that go from one vertex to another. The edges are weighted, so in the picture, edges with \"large\" or \"heavy\" weights are darker and thicker than \"small\" or \"light\" weights.\n",
    "\n",
    "The picture shows clear structure: there appear to be four **clusters** of vertices connected by heavy edges, and between these clusters there are only light edges."
   ]
  },
  {
   "cell_type": "markdown",
   "metadata": {
    "deletable": false,
    "editable": false,
    "nbgrader": {
     "grade": false,
     "locked": true,
     "solution": false
    }
   },
   "source": [
    "To summarize, the NetworkX concepts you just saw are:\n",
    "\n",
    "1. To use NetworkX, we need to construct **edge lists**, which are lists of tuples, `(u, v, w)`, where each tuple represents a weighted directed edge from `u` to `v` with weight `w`.\n",
    "2. Our later analysis will look for **clusters** in a given network, which we will build from our data.\n",
    "\n",
    "When you are ready, execute the cell below and submit to be sure your free points for Exercise 3 are recorded."
   ]
  },
  {
   "cell_type": "code",
   "execution_count": 23,
   "metadata": {
    "ExecuteTime": {
     "end_time": "2023-03-30T22:24:22.796984Z",
     "start_time": "2023-03-30T22:24:22.775908Z"
    },
    "deletable": false,
    "editable": false,
    "nbgrader": {
     "grade": true,
     "grade_id": "ex3",
     "locked": true,
     "points": "2",
     "solution": false
    },
    "tags": []
   },
   "outputs": [
    {
     "name": "stdout",
     "output_type": "stream",
     "text": [
      "Passed! Please submit.\n"
     ]
    }
   ],
   "source": [
    "### test_cell_ex3 — a freebie ###\n",
    "\n",
    "pass\n",
    "\n",
    "print('Passed! Please submit.')"
   ]
  },
  {
   "cell_type": "markdown",
   "metadata": {
    "deletable": false,
    "editable": false,
    "nbgrader": {
     "grade": false,
     "locked": true,
     "solution": false
    }
   },
   "source": [
    "# Part D: Finding communities via graph clustering #\n",
    "\n",
    "> Includes Exercise 4 (1 point) and Exercise 5 (2 points).\n",
    "\n",
    "**User-user interactions.** Our dataset tells us which users have viewed, read, rated, and/or reviewed the same books. We will use this fact to \"connect\" users to one another in a graph, and then use NetworkX to find clusters (\"communities\") of users."
   ]
  },
  {
   "cell_type": "markdown",
   "metadata": {
    "deletable": false,
    "editable": false,
    "nbgrader": {
     "grade": false,
     "locked": true,
     "solution": false
    },
    "tags": [
     "exercise_text"
    ]
   },
   "source": [
    "## **Ex. 4 (1 pt)**: `form_analysis_sample` ##\n",
    "\n",
    "If a user gave a book a rating of 4 stars or more, that is a strong signal of interest in the book. Let's start by focusing on those interactions. Complete the following function as specified.\n",
    "\n",
    "```python\n",
    "def form_analysis_sample(conn):\n",
    "    ...\n",
    "```\n",
    "\n",
    "**Inputs:** `conn` is a database connection to a database with an `Interactions` table, as used in Exercises 0 and 1.\n",
    "\n",
    "**Your task:** Return the subset of interactions where the rating is 4 or more.\n",
    "\n",
    "**Outputs:** Return the subset of rows of `Interactions` as a pandas `DataFrame`.\n",
    "\n",
    "**Example.** Recall the demo `Interactions` table from Exercise 1:"
   ]
  },
  {
   "cell_type": "code",
   "execution_count": 24,
   "metadata": {
    "ExecuteTime": {
     "end_time": "2023-03-30T22:24:22.825729Z",
     "start_time": "2023-03-30T22:24:22.802919Z"
    },
    "deletable": false,
    "editable": false,
    "nbgrader": {
     "grade": false,
     "locked": true,
     "solution": false
    },
    "tags": [
     "demo_data"
    ]
   },
   "outputs": [
    {
     "data": {
      "text/html": [
       "<div>\n",
       "<style scoped>\n",
       "    .dataframe tbody tr th:only-of-type {\n",
       "        vertical-align: middle;\n",
       "    }\n",
       "\n",
       "    .dataframe tbody tr th {\n",
       "        vertical-align: top;\n",
       "    }\n",
       "\n",
       "    .dataframe thead th {\n",
       "        text-align: right;\n",
       "    }\n",
       "</style>\n",
       "<table border=\"1\" class=\"dataframe\">\n",
       "  <thead>\n",
       "    <tr style=\"text-align: right;\">\n",
       "      <th></th>\n",
       "      <th>user_id</th>\n",
       "      <th>book_id</th>\n",
       "      <th>is_read</th>\n",
       "      <th>rating</th>\n",
       "      <th>is_reviewed</th>\n",
       "    </tr>\n",
       "  </thead>\n",
       "  <tbody>\n",
       "    <tr>\n",
       "      <th>0</th>\n",
       "      <td>569241</td>\n",
       "      <td>208373</td>\n",
       "      <td>0</td>\n",
       "      <td>0</td>\n",
       "      <td>0</td>\n",
       "    </tr>\n",
       "    <tr>\n",
       "      <th>1</th>\n",
       "      <td>569241</td>\n",
       "      <td>47199</td>\n",
       "      <td>1</td>\n",
       "      <td>5</td>\n",
       "      <td>1</td>\n",
       "    </tr>\n",
       "    <tr>\n",
       "      <th>2</th>\n",
       "      <td>607817</td>\n",
       "      <td>40293</td>\n",
       "      <td>0</td>\n",
       "      <td>0</td>\n",
       "      <td>0</td>\n",
       "    </tr>\n",
       "    <tr>\n",
       "      <th>3</th>\n",
       "      <td>569241</td>\n",
       "      <td>47383</td>\n",
       "      <td>1</td>\n",
       "      <td>5</td>\n",
       "      <td>1</td>\n",
       "    </tr>\n",
       "    <tr>\n",
       "      <th>4</th>\n",
       "      <td>607817</td>\n",
       "      <td>7984</td>\n",
       "      <td>0</td>\n",
       "      <td>0</td>\n",
       "      <td>0</td>\n",
       "    </tr>\n",
       "    <tr>\n",
       "      <th>5</th>\n",
       "      <td>607817</td>\n",
       "      <td>792</td>\n",
       "      <td>0</td>\n",
       "      <td>0</td>\n",
       "      <td>0</td>\n",
       "    </tr>\n",
       "    <tr>\n",
       "      <th>6</th>\n",
       "      <td>604656</td>\n",
       "      <td>2345195</td>\n",
       "      <td>1</td>\n",
       "      <td>5</td>\n",
       "      <td>1</td>\n",
       "    </tr>\n",
       "    <tr>\n",
       "      <th>7</th>\n",
       "      <td>607817</td>\n",
       "      <td>128860</td>\n",
       "      <td>1</td>\n",
       "      <td>0</td>\n",
       "      <td>0</td>\n",
       "    </tr>\n",
       "  </tbody>\n",
       "</table>\n",
       "</div>"
      ],
      "text/plain": [
       "   user_id  book_id  is_read  rating  is_reviewed\n",
       "0   569241   208373        0       0            0\n",
       "1   569241    47199        1       5            1\n",
       "2   607817    40293        0       0            0\n",
       "3   569241    47383        1       5            1\n",
       "4   607817     7984        0       0            0\n",
       "5   607817      792        0       0            0\n",
       "6   604656  2345195        1       5            1\n",
       "7   607817   128860        1       0            0"
      ]
     },
     "metadata": {},
     "output_type": "display_data"
    }
   ],
   "source": [
    "### Define demo inputs ###\n",
    "\n",
    "demo_conn_ex4 = db.connect(f'file:resource/asnlib/publicdata/demo_ex1.db?mode=ro', uri=True)\n",
    "display(pd.read_sql(\"SELECT * FROM Interactions\", demo_conn_ex4))\n",
    "\n",
    "# use the naming convention `demo_<parameter name>_ex<exercise number>`\n",
    "# for example if the function for exercise 3 has a parameter `df`, the demo variable should be named `demo_df_ex3`"
   ]
  },
  {
   "cell_type": "markdown",
   "metadata": {
    "deletable": false,
    "editable": false,
    "nbgrader": {
     "grade": false,
     "locked": true,
     "solution": false
    },
    "tags": [
     "demo_output_md"
    ]
   },
   "source": [
    "A correct implementation of `form_analysis_sample` should return the following `DataFrame`:\n",
    "\n",
    "|   user_id |        book_id |   is_read |   rating |   is_reviewed |\n",
    "|----------:|---------------:|----------:|---------:|--------------:|\n",
    "|    569241 | 47199          |         1 |        5 |             1 |\n",
    "|    569241 | 47383          |         1 |        5 |             1 |\n",
    "|    604656 | 2345195        |         1 |        5 |             1 |\n",
    "\n",
    "This output includes just the three rows where `rating` is `5`.\n",
    "\n",
    "> **Note:** Although this example does not contain ratings with the value `4`, if it did, they would be included in the output."
   ]
  },
  {
   "cell_type": "code",
   "execution_count": 25,
   "metadata": {
    "ExecuteTime": {
     "end_time": "2023-03-30T22:24:22.851333Z",
     "start_time": "2023-03-30T22:24:22.826778Z"
    },
    "tags": [
     "exercise_solution"
    ]
   },
   "outputs": [
    {
     "data": {
      "text/html": [
       "<div>\n",
       "<style scoped>\n",
       "    .dataframe tbody tr th:only-of-type {\n",
       "        vertical-align: middle;\n",
       "    }\n",
       "\n",
       "    .dataframe tbody tr th {\n",
       "        vertical-align: top;\n",
       "    }\n",
       "\n",
       "    .dataframe thead th {\n",
       "        text-align: right;\n",
       "    }\n",
       "</style>\n",
       "<table border=\"1\" class=\"dataframe\">\n",
       "  <thead>\n",
       "    <tr style=\"text-align: right;\">\n",
       "      <th></th>\n",
       "      <th>user_id</th>\n",
       "      <th>book_id</th>\n",
       "      <th>is_read</th>\n",
       "      <th>rating</th>\n",
       "      <th>is_reviewed</th>\n",
       "    </tr>\n",
       "  </thead>\n",
       "  <tbody>\n",
       "    <tr>\n",
       "      <th>0</th>\n",
       "      <td>569241</td>\n",
       "      <td>47199</td>\n",
       "      <td>1</td>\n",
       "      <td>5</td>\n",
       "      <td>1</td>\n",
       "    </tr>\n",
       "    <tr>\n",
       "      <th>1</th>\n",
       "      <td>569241</td>\n",
       "      <td>47383</td>\n",
       "      <td>1</td>\n",
       "      <td>5</td>\n",
       "      <td>1</td>\n",
       "    </tr>\n",
       "    <tr>\n",
       "      <th>2</th>\n",
       "      <td>604656</td>\n",
       "      <td>2345195</td>\n",
       "      <td>1</td>\n",
       "      <td>5</td>\n",
       "      <td>1</td>\n",
       "    </tr>\n",
       "  </tbody>\n",
       "</table>\n",
       "</div>"
      ],
      "text/plain": [
       "   user_id  book_id  is_read  rating  is_reviewed\n",
       "0   569241    47199        1       5            1\n",
       "1   569241    47383        1       5            1\n",
       "2   604656  2345195        1       5            1"
      ]
     },
     "execution_count": 25,
     "metadata": {},
     "output_type": "execute_result"
    }
   ],
   "source": [
    "### Exercise 4 solution\n",
    "def form_analysis_sample(conn):\n",
    "    ###\n",
    "    query = '''\n",
    "            SELECT *\n",
    "            FROM Interactions\n",
    "            WHERE rating >= 4\n",
    "    '''\n",
    "    df = pd.read_sql_query(query, conn)\n",
    "    return df\n",
    "    ###\n",
    "    \n",
    "### demo function call ###\n",
    "form_analysis_sample(demo_conn_ex4)"
   ]
  },
  {
   "cell_type": "markdown",
   "metadata": {
    "deletable": false,
    "editable": false,
    "nbgrader": {
     "grade": false,
     "locked": true,
     "solution": false
    },
    "tags": [
     "test_data_boilerplate"
    ]
   },
   "source": [
    "<!-- Test Cell Boilerplate -->\n",
    "The cell below will test your solution for Exercise 4. The testing variables will be available for debugging under the following names in a dictionary format.\n",
    "- `input_vars` - Input variables for your solution. \n",
    "- `original_input_vars` - Copy of input variables from prior to running your solution. These _should_ be the same as `input_vars` - otherwise the inputs were modified by your solution.\n",
    "- `returned_output_vars` - Outputs returned by your solution.\n",
    "- `true_output_vars` - The expected output. This _should_ \"match\" `returned_output_vars` based on the question requirements - otherwise, your solution is not returning the correct output. "
   ]
  },
  {
   "cell_type": "code",
   "execution_count": 26,
   "metadata": {
    "ExecuteTime": {
     "end_time": "2023-03-30T22:24:23.394176Z",
     "start_time": "2023-03-30T22:24:23.129302Z"
    },
    "deletable": false,
    "editable": false,
    "nbgrader": {
     "grade": true,
     "grade_id": "ex4",
     "locked": true,
     "points": "1",
     "solution": false
    },
    "tags": []
   },
   "outputs": [
    {
     "name": "stdout",
     "output_type": "stream",
     "text": [
      "Passed! Please submit.\n"
     ]
    }
   ],
   "source": [
    "### test_cell_ex4\n",
    "###\n",
    "### AUTOGRADER TEST - DO NOT REMOVE\n",
    "###\n",
    "from tester_fw.testers import Tester\n",
    "\n",
    "conf = {\n",
    "    'case_file':'tc_4', \n",
    "    'func': form_analysis_sample, # replace this with the function defined above\n",
    "    'inputs':{ # input config dict. keys are parameter names\n",
    "        'conn':{\n",
    "            'dtype': 'db', # data type of param.\n",
    "            'check_modified': False,\n",
    "        }\n",
    "    },\n",
    "    'outputs':{\n",
    "        'output_0':{\n",
    "            'index':0,\n",
    "            'dtype':'df',\n",
    "            'check_dtype': True,\n",
    "            'check_col_dtypes': True, # Ignored if dtype is not df\n",
    "            'check_col_order': False, # Ignored if dtype is not df\n",
    "            'check_row_order': False, # Ignored if dtype is not df\n",
    "            'float_tolerance': 10 ** (-6)\n",
    "        }\n",
    "    }\n",
    "}\n",
    "tester = Tester(conf, key=b'jpS7W-CpqAQfuITMEQZL-yVXfhIaCkSaei-emnyRtrI=', path='resource/asnlib/publicdata/')\n",
    "for _ in range(70):\n",
    "    try:\n",
    "        tester.run_test()\n",
    "        (input_vars, original_input_vars, returned_output_vars, true_output_vars) = tester.get_test_vars()\n",
    "    except:\n",
    "        (input_vars, original_input_vars, returned_output_vars, true_output_vars) = tester.get_test_vars()\n",
    "        raise\n",
    "\n",
    "###\n",
    "### AUTOGRADER TEST - DO NOT REMOVE\n",
    "###\n",
    "print('Passed! Please submit.')"
   ]
  },
  {
   "cell_type": "markdown",
   "metadata": {
    "deletable": false,
    "editable": false,
    "nbgrader": {
     "grade": false,
     "locked": true,
     "solution": false
    },
    "tags": [
     "exercise_text"
    ]
   },
   "source": [
    "## **Ex. 5 (2 pts)**: `connect_users` ##\n",
    "\n",
    "Given the analysis sample from Exercise 4, let's \"connect\" users.\n",
    "\n",
    "Let's say that two users `a` and `b` are **connected** if they both gave ratings of 4 or higher to the same book. The number of unique books they both rated this way is a measure of how strong their connection is.\n",
    "\n",
    "Complete the following function to help identify these connections.\n",
    "```python\n",
    "def connect_users(ubdf, threshold):\n",
    "    ...\n",
    "```\n",
    "\n",
    "**Inputs:**\n",
    "- `ubdf`: A \"user-book\" dataframe having these two columns: `user_id` and `book_id`. Each row indicates that a given user gave a given book a rating of 4 or higher.\n",
    "- `threshold`: An integer threshold on connection strength.\n",
    "        \n",
    "**Your tasks:** Determine which pairs of users are connected. Count how many books connect them. Drop self-pairs (`user_id_x == user_id_y`), as well as any pairs with fewer than `threshold` connections.\n",
    "\n",
    "**Outputs:** Return a **new** `DataFrame` with three columns:\n",
    "1. `user_id_x`: A user ID\n",
    "2. `user_id_y`: Another user ID\n",
    "3. `count`: The number of books they both rated in common. Recall that this value should be `>= threshold`.\n",
    "\n",
    "**Additional notes and hints.**\n",
    "1. Omit self-pairs, that is, cases where `user_id_x` == `user_id_y`.\n",
    "1. Return pairs **symmetrically**. That is, if the pair of users (`a`, `b`) have a count `k` at or above the threshold, then **both** (`a`, `b`, `k`) and (`b`, `a`, `k`) should be rows in the output table.\n",
    "1. If no connections meet the threshold, you should return an empty `DataFrame` _with_ the specified columns.\n",
    "1. You may assume there are no duplicate rows.\n",
    "\n",
    "> _Aside:_ For really huge datasets (not what is included in this exam), dropping users with fewer than `threshold` ratings _before_ looking for pairs might be a bit faster.\n",
    "\n",
    "**Example:** Suppose the inputs are the `DataFrame` shown below with a target connection threshold of `2`:"
   ]
  },
  {
   "cell_type": "code",
   "execution_count": 27,
   "metadata": {
    "ExecuteTime": {
     "end_time": "2023-03-30T22:24:23.419334Z",
     "start_time": "2023-03-30T22:24:23.395269Z"
    },
    "deletable": false,
    "editable": false,
    "nbgrader": {
     "grade": false,
     "locked": true,
     "solution": false
    },
    "tags": [
     "demo_data"
    ]
   },
   "outputs": [
    {
     "data": {
      "text/html": [
       "<div>\n",
       "<style scoped>\n",
       "    .dataframe tbody tr th:only-of-type {\n",
       "        vertical-align: middle;\n",
       "    }\n",
       "\n",
       "    .dataframe tbody tr th {\n",
       "        vertical-align: top;\n",
       "    }\n",
       "\n",
       "    .dataframe thead th {\n",
       "        text-align: right;\n",
       "    }\n",
       "</style>\n",
       "<table border=\"1\" class=\"dataframe\">\n",
       "  <thead>\n",
       "    <tr style=\"text-align: right;\">\n",
       "      <th></th>\n",
       "      <th>user_id</th>\n",
       "      <th>book_id</th>\n",
       "    </tr>\n",
       "  </thead>\n",
       "  <tbody>\n",
       "    <tr>\n",
       "      <th>0</th>\n",
       "      <td>1</td>\n",
       "      <td>2</td>\n",
       "    </tr>\n",
       "    <tr>\n",
       "      <th>1</th>\n",
       "      <td>0</td>\n",
       "      <td>7</td>\n",
       "    </tr>\n",
       "    <tr>\n",
       "      <th>2</th>\n",
       "      <td>2</td>\n",
       "      <td>7</td>\n",
       "    </tr>\n",
       "    <tr>\n",
       "      <th>3</th>\n",
       "      <td>0</td>\n",
       "      <td>19</td>\n",
       "    </tr>\n",
       "    <tr>\n",
       "      <th>4</th>\n",
       "      <td>2</td>\n",
       "      <td>19</td>\n",
       "    </tr>\n",
       "    <tr>\n",
       "      <th>5</th>\n",
       "      <td>2</td>\n",
       "      <td>22</td>\n",
       "    </tr>\n",
       "    <tr>\n",
       "      <th>6</th>\n",
       "      <td>1</td>\n",
       "      <td>38</td>\n",
       "    </tr>\n",
       "    <tr>\n",
       "      <th>7</th>\n",
       "      <td>0</td>\n",
       "      <td>41</td>\n",
       "    </tr>\n",
       "    <tr>\n",
       "      <th>8</th>\n",
       "      <td>3</td>\n",
       "      <td>41</td>\n",
       "    </tr>\n",
       "    <tr>\n",
       "      <th>9</th>\n",
       "      <td>0</td>\n",
       "      <td>85</td>\n",
       "    </tr>\n",
       "    <tr>\n",
       "      <th>10</th>\n",
       "      <td>3</td>\n",
       "      <td>85</td>\n",
       "    </tr>\n",
       "  </tbody>\n",
       "</table>\n",
       "</div>"
      ],
      "text/plain": [
       "    user_id  book_id\n",
       "0         1        2\n",
       "1         0        7\n",
       "2         2        7\n",
       "3         0       19\n",
       "4         2       19\n",
       "5         2       22\n",
       "6         1       38\n",
       "7         0       41\n",
       "8         3       41\n",
       "9         0       85\n",
       "10        3       85"
      ]
     },
     "metadata": {},
     "output_type": "display_data"
    }
   ],
   "source": [
    "### Define demo inputs ###\n",
    "\n",
    "demo_ubdf_ex5 = load_df_from_file(\"demo_ex5.df\").sort_values(['book_id', 'user_id']).reset_index(drop=True)\n",
    "demo_threshold_ex5 = 2\n",
    "\n",
    "display(demo_ubdf_ex5)"
   ]
  },
  {
   "cell_type": "markdown",
   "metadata": {
    "deletable": false,
    "editable": false,
    "nbgrader": {
     "grade": false,
     "locked": true,
     "solution": false
    },
    "tags": [
     "demo_output_md"
    ]
   },
   "source": [
    "For this input, `connect_users` should produce:\n",
    "\n",
    "|   user_id_x |   user_id_y |   count |\n",
    "|------------:|------------:|--------:|\n",
    "|           0 |           2 |       2 |\n",
    "|           0 |           3 |       2 |\n",
    "|           2 |           0 |       2 |\n",
    "|           3 |           0 |       2 |\n",
    "\n",
    "Users `0` and `2` both rated books `7` and `19`, so they meet the threshold of having reviewed 2 books in common. User `1` did not review any books in common with any other user, and so they do not appear in any pair of the output."
   ]
  },
  {
   "cell_type": "code",
   "execution_count": 28,
   "metadata": {
    "ExecuteTime": {
     "end_time": "2023-03-30T22:24:23.447658Z",
     "start_time": "2023-03-30T22:24:23.420393Z"
    },
    "collapsed": true,
    "tags": [
     "exercise_solution"
    ]
   },
   "outputs": [],
   "source": [
    "### Exercise 5 solution\n",
    "def connect_users(ubdf, threshold):\n",
    "    ###\n",
    "    \n",
    "    \n",
    "    df1 = ubdf.sort_values(by='user_id')\n",
    "    df2 = ubdf.sort_values(by='user_id')\n",
    "    \n",
    "    df3 = df1.merge(df2, on=\"book_id\", how='inner') #find users with same book id\n",
    "\n",
    "    removeIndex = []\n",
    "    for i in range(len(df3)):\n",
    "        if df3.iloc[i]['user_id_x'] == df3.iloc[i]['user_id_y']: #remove the duplicates, could've used drop_dup subsets=user x,y\n",
    "            removeIndex.append(i)\n",
    "\n",
    "    df3 = df3.drop(index=removeIndex)\n",
    "    df3 = df3.drop('book_id', axis=1) #dont need book id anymore because counting the pairs of users\n",
    "  \n",
    "    tpleCount = defaultdict(int)\n",
    "    for i in df3.itertuples(index=False):\n",
    "        tpleCount[tuple((i[0], i[1]))] += 1 #keeps count of users by assigning them into a dictionary \n",
    "        \n",
    "    finalDF = df3.drop_duplicates().reset_index() #reset index so you can append the count dictionary\n",
    "    finalDF['count'] = pd.Series(list(tpleCount.values())).astype(int) #default type is float idk why\n",
    "    finalDF = finalDF.drop('index', axis=1) #index column appears idk why so just drop it\n",
    "    \n",
    "    removeThresh = []\n",
    "    for i in range(len(finalDF)):\n",
    "        if finalDF.iloc[i]['count'] < threshold: #account for threshold, notice the > because want to remove all under threshold\n",
    "            removeThresh.append(i)\n",
    "    \n",
    "    finalDF = finalDF.drop(index=removeThresh)\n",
    "    return (finalDF)\n",
    "    ###\n",
    "\n",
    "### demo function call ###\n",
    "# connect_users(demo_ubdf_ex5, demo_threshold_ex5)\n",
    "# print(returned_output_vars['output_0'])\n",
    "# print(true_output_vars['output_0'])\n",
    "# print(pd.testing.assert_frame_equal(true_output_vars[\"output_0\"], returned_output_vars[\"output_0\"]))\n",
    "\n"
   ]
  },
  {
   "cell_type": "markdown",
   "metadata": {
    "deletable": false,
    "editable": false,
    "nbgrader": {
     "grade": false,
     "locked": true,
     "solution": false
    },
    "tags": [
     "test_data_boilerplate"
    ]
   },
   "source": [
    "<!-- Test Cell Boilerplate -->\n",
    "The cell below will test your solution for Exercise 5. The testing variables will be available for debugging under the following names in a dictionary format.\n",
    "- `input_vars` - Input variables for your solution. \n",
    "- `original_input_vars` - Copy of input variables from prior to running your solution. These _should_ be the same as `input_vars` - otherwise the inputs were modified by your solution.\n",
    "- `returned_output_vars` - Outputs returned by your solution.\n",
    "- `true_output_vars` - The expected output. This _should_ \"match\" `returned_output_vars` based on the question requirements - otherwise, your solution is not returning the correct output. "
   ]
  },
  {
   "cell_type": "code",
   "execution_count": 29,
   "metadata": {
    "ExecuteTime": {
     "end_time": "2023-03-30T22:24:24.465383Z",
     "start_time": "2023-03-30T22:24:24.115914Z"
    },
    "deletable": false,
    "editable": false,
    "nbgrader": {
     "grade": true,
     "grade_id": "ex5",
     "locked": true,
     "points": "2",
     "solution": false
    },
    "tags": []
   },
   "outputs": [
    {
     "name": "stderr",
     "output_type": "stream",
     "text": [
      "<ipython-input-28-830327fd14ce>:24: FutureWarning: The default dtype for empty Series will be 'object' instead of 'float64' in a future version. Specify a dtype explicitly to silence this warning.\n",
      "  finalDF['count'] = pd.Series(list(tpleCount.values())).astype(int) #default type is float idk why\n",
      "<ipython-input-28-830327fd14ce>:24: FutureWarning: The default dtype for empty Series will be 'object' instead of 'float64' in a future version. Specify a dtype explicitly to silence this warning.\n",
      "  finalDF['count'] = pd.Series(list(tpleCount.values())).astype(int) #default type is float idk why\n",
      "<ipython-input-28-830327fd14ce>:24: FutureWarning: The default dtype for empty Series will be 'object' instead of 'float64' in a future version. Specify a dtype explicitly to silence this warning.\n",
      "  finalDF['count'] = pd.Series(list(tpleCount.values())).astype(int) #default type is float idk why\n",
      "<ipython-input-28-830327fd14ce>:24: FutureWarning: The default dtype for empty Series will be 'object' instead of 'float64' in a future version. Specify a dtype explicitly to silence this warning.\n",
      "  finalDF['count'] = pd.Series(list(tpleCount.values())).astype(int) #default type is float idk why\n",
      "<ipython-input-28-830327fd14ce>:24: FutureWarning: The default dtype for empty Series will be 'object' instead of 'float64' in a future version. Specify a dtype explicitly to silence this warning.\n",
      "  finalDF['count'] = pd.Series(list(tpleCount.values())).astype(int) #default type is float idk why\n",
      "<ipython-input-28-830327fd14ce>:24: FutureWarning: The default dtype for empty Series will be 'object' instead of 'float64' in a future version. Specify a dtype explicitly to silence this warning.\n",
      "  finalDF['count'] = pd.Series(list(tpleCount.values())).astype(int) #default type is float idk why\n",
      "<ipython-input-28-830327fd14ce>:24: FutureWarning: The default dtype for empty Series will be 'object' instead of 'float64' in a future version. Specify a dtype explicitly to silence this warning.\n",
      "  finalDF['count'] = pd.Series(list(tpleCount.values())).astype(int) #default type is float idk why\n",
      "<ipython-input-28-830327fd14ce>:24: FutureWarning: The default dtype for empty Series will be 'object' instead of 'float64' in a future version. Specify a dtype explicitly to silence this warning.\n",
      "  finalDF['count'] = pd.Series(list(tpleCount.values())).astype(int) #default type is float idk why\n",
      "<ipython-input-28-830327fd14ce>:24: FutureWarning: The default dtype for empty Series will be 'object' instead of 'float64' in a future version. Specify a dtype explicitly to silence this warning.\n",
      "  finalDF['count'] = pd.Series(list(tpleCount.values())).astype(int) #default type is float idk why\n"
     ]
    },
    {
     "name": "stdout",
     "output_type": "stream",
     "text": [
      "Passed! Please submit.\n"
     ]
    },
    {
     "name": "stderr",
     "output_type": "stream",
     "text": [
      "<ipython-input-28-830327fd14ce>:24: FutureWarning: The default dtype for empty Series will be 'object' instead of 'float64' in a future version. Specify a dtype explicitly to silence this warning.\n",
      "  finalDF['count'] = pd.Series(list(tpleCount.values())).astype(int) #default type is float idk why\n"
     ]
    }
   ],
   "source": [
    "### test_cell_ex5\n",
    "###\n",
    "### AUTOGRADER TEST - DO NOT REMOVE\n",
    "###\n",
    "from tester_fw.testers import Tester\n",
    "\n",
    "conf = {\n",
    "    'case_file':'tc_5', \n",
    "    'func': connect_users, # replace this with the function defined above\n",
    "    'inputs':{ # input config dict. keys are parameter names\n",
    "        'ubdf': {\n",
    "            'dtype': 'df', # data type of param.\n",
    "            'check_modified': True\n",
    "        },\n",
    "        'threshold': {\n",
    "            'dtype': 'int',\n",
    "            'check_modified': False\n",
    "        }\n",
    "    },\n",
    "    'outputs':{\n",
    "        'output_0':{\n",
    "            'index': 0,\n",
    "            'dtype': 'df',\n",
    "            'check_dtype': True,\n",
    "            'check_col_dtypes': True, # Ignored if dtype is not df\n",
    "            'check_col_order': False, # Ignored if dtype is not df\n",
    "            'check_row_order': False, # Ignored if dtype is not df\n",
    "            'float_tolerance': 10 ** (-6)\n",
    "        }\n",
    "    }\n",
    "}\n",
    "tester = Tester(conf, key=b'jpS7W-CpqAQfuITMEQZL-yVXfhIaCkSaei-emnyRtrI=', path='resource/asnlib/publicdata/')\n",
    "for _ in range(70):\n",
    "    try:\n",
    "        tester.run_test()\n",
    "        (input_vars, original_input_vars, returned_output_vars, true_output_vars) = tester.get_test_vars()\n",
    "    except:\n",
    "        (input_vars, original_input_vars, returned_output_vars, true_output_vars) = tester.get_test_vars()\n",
    "        raise\n",
    "\n",
    "###\n",
    "### AUTOGRADER TEST - DO NOT REMOVE\n",
    "###\n",
    "print('Passed! Please submit.')"
   ]
  },
  {
   "cell_type": "markdown",
   "metadata": {
    "deletable": false,
    "editable": false,
    "nbgrader": {
     "grade": false,
     "locked": true,
     "solution": false
    }
   },
   "source": [
    "**RUN ME:** From a correct implementation of `connect_users`, one way we can \"draw\" the connectivity is to form a sparse matrix where nonzeros represent connections. Here is a picture of this matrix for the full dataset, using a threshold of 2:"
   ]
  },
  {
   "cell_type": "code",
   "execution_count": 30,
   "metadata": {
    "ExecuteTime": {
     "end_time": "2023-03-30T22:24:24.510867Z",
     "start_time": "2023-03-30T22:24:24.466460Z"
    },
    "deletable": false,
    "editable": false,
    "nbgrader": {
     "grade": false,
     "locked": true,
     "solution": false
    }
   },
   "outputs": [
    {
     "name": "stdout",
     "output_type": "stream",
     "text": [
      "A sample of connections:\n"
     ]
    },
    {
     "data": {
      "text/html": [
       "<div>\n",
       "<style scoped>\n",
       "    .dataframe tbody tr th:only-of-type {\n",
       "        vertical-align: middle;\n",
       "    }\n",
       "\n",
       "    .dataframe tbody tr th {\n",
       "        vertical-align: top;\n",
       "    }\n",
       "\n",
       "    .dataframe thead th {\n",
       "        text-align: right;\n",
       "    }\n",
       "</style>\n",
       "<table border=\"1\" class=\"dataframe\">\n",
       "  <thead>\n",
       "    <tr style=\"text-align: right;\">\n",
       "      <th></th>\n",
       "      <th>user_id_x</th>\n",
       "      <th>user_id_y</th>\n",
       "      <th>count</th>\n",
       "    </tr>\n",
       "  </thead>\n",
       "  <tbody>\n",
       "    <tr>\n",
       "      <th>0</th>\n",
       "      <td>175</td>\n",
       "      <td>1251</td>\n",
       "      <td>5</td>\n",
       "    </tr>\n",
       "    <tr>\n",
       "      <th>1</th>\n",
       "      <td>175</td>\n",
       "      <td>1369</td>\n",
       "      <td>4</td>\n",
       "    </tr>\n",
       "    <tr>\n",
       "      <th>2</th>\n",
       "      <td>175</td>\n",
       "      <td>1764</td>\n",
       "      <td>2</td>\n",
       "    </tr>\n",
       "    <tr>\n",
       "      <th>3</th>\n",
       "      <td>175</td>\n",
       "      <td>3164</td>\n",
       "      <td>5</td>\n",
       "    </tr>\n",
       "    <tr>\n",
       "      <th>4</th>\n",
       "      <td>175</td>\n",
       "      <td>3303</td>\n",
       "      <td>6</td>\n",
       "    </tr>\n",
       "  </tbody>\n",
       "</table>\n",
       "</div>"
      ],
      "text/plain": [
       "   user_id_x  user_id_y  count\n",
       "0        175       1251      5\n",
       "1        175       1369      4\n",
       "2        175       1764      2\n",
       "3        175       3164      5\n",
       "4        175       3303      6"
      ]
     },
     "metadata": {},
     "output_type": "display_data"
    },
    {
     "data": {
      "image/png": "[encoded data removed]",
      "text/plain": [
       "<IPython.core.display.Image object>"
      ]
     },
     "metadata": {},
     "output_type": "display_data"
    }
   ],
   "source": [
    "uudf = load_df_from_file('ex5.df') # user-user table\n",
    "\n",
    "print(\"A sample of connections:\")\n",
    "display(uudf.head())\n",
    "\n",
    "if False: # Disabled due to NetworkX version incompatibility issue (fix pending)\n",
    "    uudf_G = cse6040.utils.to_nx(uudf.to_records(index=False))\n",
    "    ax_ex5 = cse6040.utils.graph_spy(uudf_G, markersize=0.01)\n",
    "    ax_ex5.set_title('Spy plot: user-user interactions')\n",
    "    ax_ex5.set_xlabel('user id')\n",
    "    ax_ex5.set_ylabel('user id', rotation=0, horizontalalignment='right');\n",
    "else:\n",
    "    cse6040.utils.display_image_from_file('resource/asnlib/public/demo-user-user-spy.png')"
   ]
  },
  {
   "cell_type": "markdown",
   "metadata": {
    "deletable": false,
    "editable": false,
    "nbgrader": {
     "grade": false,
     "locked": true,
     "solution": false
    }
   },
   "source": [
    "> **Aside (skip if pressed for time):** The \"grid-like\" pattern you might see suggests that there are groups or clusters of interconnected users in the data. Our next task will try to identify them."
   ]
  },
  {
   "cell_type": "markdown",
   "metadata": {
    "deletable": false,
    "editable": false,
    "nbgrader": {
     "grade": false,
     "locked": true,
     "solution": false
    }
   },
   "source": [
    "# Part E: Identifying \"top reads\" by community #\n",
    "\n",
    "> Includes Exercise 6 (2 points), Exercise 7 (1 point), and Exercise 8 (3 points).\n",
    "\n",
    "The NetworkX package contains several algorithms for **detecting communities**, that is, clusters of \"strongly interconnected\" vertices in a graph (recall Part C).\n",
    "\n",
    "We ran one of these algorithms on a graph formed from the user-user interactions you calculated in Part D. The algorithm grouped users (graph vertices) into clusters.\n",
    "\n",
    "It returned these clusters as a **list of sets**, where each set is a \"community\" of user IDs grouped together. Since users were connected for liking the same books, it's possible users in the same community have similar tastes."
   ]
  },
  {
   "cell_type": "markdown",
   "metadata": {
    "deletable": false,
    "editable": false,
    "nbgrader": {
     "grade": false,
     "locked": true,
     "solution": false
    }
   },
   "source": [
    "Here is the communities object that NetworkX produced for us:"
   ]
  },
  {
   "cell_type": "code",
   "execution_count": 31,
   "metadata": {
    "ExecuteTime": {
     "end_time": "2023-03-30T22:24:24.534219Z",
     "start_time": "2023-03-30T22:24:24.511725Z"
    },
    "collapsed": true,
    "deletable": false,
    "editable": false,
    "nbgrader": {
     "grade": false,
     "locked": true,
     "solution": false
    }
   },
   "outputs": [],
   "source": [
    "communities = load_obj_from_file('demo_ex6.obj')"
   ]
  },
  {
   "cell_type": "markdown",
   "metadata": {
    "deletable": false,
    "editable": false,
    "nbgrader": {
     "grade": false,
     "locked": true,
     "solution": false
    }
   },
   "source": [
    "It is a list of sets:"
   ]
  },
  {
   "cell_type": "code",
   "execution_count": 32,
   "metadata": {
    "ExecuteTime": {
     "end_time": "2023-03-30T22:24:24.556047Z",
     "start_time": "2023-03-30T22:24:24.535136Z"
    },
    "deletable": false,
    "editable": false,
    "nbgrader": {
     "grade": false,
     "locked": true,
     "solution": false
    }
   },
   "outputs": [
    {
     "data": {
      "text/plain": [
       "(list, set)"
      ]
     },
     "execution_count": 32,
     "metadata": {},
     "output_type": "execute_result"
    }
   ],
   "source": [
    "type(communities), type(communities[0])"
   ]
  },
  {
   "cell_type": "markdown",
   "metadata": {
    "deletable": false,
    "editable": false,
    "nbgrader": {
     "grade": false,
     "locked": true,
     "solution": false
    }
   },
   "source": [
    "Here is how many communities there are:"
   ]
  },
  {
   "cell_type": "code",
   "execution_count": 33,
   "metadata": {
    "ExecuteTime": {
     "end_time": "2023-03-30T22:24:24.577895Z",
     "start_time": "2023-03-30T22:24:24.556976Z"
    },
    "deletable": false,
    "editable": false,
    "nbgrader": {
     "grade": false,
     "locked": true,
     "solution": false
    }
   },
   "outputs": [
    {
     "data": {
      "text/plain": [
       "6"
      ]
     },
     "execution_count": 33,
     "metadata": {},
     "output_type": "execute_result"
    }
   ],
   "source": [
    "len(communities)"
   ]
  },
  {
   "cell_type": "markdown",
   "metadata": {
    "deletable": false,
    "editable": false,
    "nbgrader": {
     "grade": false,
     "locked": true,
     "solution": false
    }
   },
   "source": [
    "The sizes of the 6 communities are:"
   ]
  },
  {
   "cell_type": "code",
   "execution_count": 34,
   "metadata": {
    "ExecuteTime": {
     "end_time": "2023-03-30T22:24:24.600227Z",
     "start_time": "2023-03-30T22:24:24.578907Z"
    },
    "deletable": false,
    "editable": false,
    "nbgrader": {
     "grade": false,
     "locked": true,
     "solution": false
    }
   },
   "outputs": [
    {
     "data": {
      "text/plain": [
       "[868, 2, 36, 340, 6, 574]"
      ]
     },
     "execution_count": 34,
     "metadata": {},
     "output_type": "execute_result"
    }
   ],
   "source": [
    "[len(c) for c in communities]"
   ]
  },
  {
   "cell_type": "markdown",
   "metadata": {
    "deletable": false,
    "editable": false,
    "nbgrader": {
     "grade": false,
     "locked": true,
     "solution": false
    }
   },
   "source": [
    "Let's print the smaller two:"
   ]
  },
  {
   "cell_type": "code",
   "execution_count": 35,
   "metadata": {
    "ExecuteTime": {
     "end_time": "2023-03-30T22:24:24.622391Z",
     "start_time": "2023-03-30T22:24:24.601206Z"
    },
    "deletable": false,
    "editable": false,
    "nbgrader": {
     "grade": false,
     "locked": true,
     "solution": false
    }
   },
   "outputs": [
    {
     "name": "stdout",
     "output_type": "stream",
     "text": [
      "Community 1: {430689, 687415}\n",
      "Community 4: {154369, 676898, 542723, 677611, 649588, 332535}\n"
     ]
    }
   ],
   "source": [
    "print(\"Community 1:\", communities[1])\n",
    "print(\"Community 4:\", communities[4])"
   ]
  },
  {
   "cell_type": "markdown",
   "metadata": {
    "deletable": false,
    "editable": false,
    "nbgrader": {
     "grade": false,
     "locked": true,
     "solution": false
    }
   },
   "source": [
    "The values you see are user IDs."
   ]
  },
  {
   "cell_type": "markdown",
   "metadata": {
    "deletable": false,
    "editable": false,
    "nbgrader": {
     "grade": false,
     "locked": true,
     "solution": false
    },
    "tags": [
     "exercise_text"
    ]
   },
   "source": [
    "## **Ex. 6 (2 pts)**: `assign_communities` ##\n",
    "\n",
    "To merge this data with our existing database, we need to convert the Python `communities` data structure into a `DataFrame`. Complete the function below to aid in this task:\n",
    "\n",
    "```python\n",
    "def assign_communities(communities):\n",
    "    ...\n",
    "```\n",
    "\n",
    "**Inputs:** The input `communities` is a list of sets of integers, as in the previous example.\n",
    "\n",
    "**Your task:** Convert this input into a dataframe.\n",
    "\n",
    "**Returns:** Your function should return a `DataFrame` with these columns:\n",
    "- `user_id`: A user ID (an integer).\n",
    "- `comm_id`: The ID of the community it belongs to (also an integer).\n",
    "\n",
    "The community ID is its index in `communities`. That is, community `0` is stored in `communities[0]`, community `1` is in `communities[1]`, and so on.\n",
    "\n",
    "**Example:** Consider this set of communities:"
   ]
  },
  {
   "cell_type": "code",
   "execution_count": 36,
   "metadata": {
    "ExecuteTime": {
     "end_time": "2023-03-30T22:24:24.643915Z",
     "start_time": "2023-03-30T22:24:24.623480Z"
    },
    "collapsed": true,
    "deletable": false,
    "editable": false,
    "nbgrader": {
     "grade": false,
     "locked": true,
     "solution": false
    },
    "tags": [
     "demo_data"
    ]
   },
   "outputs": [],
   "source": [
    "### Define demo inputs ###\n",
    "\n",
    "demo_communities_ex6 = [{1, 3, 10, 17}, {2, 6, 13, 15}, {0, 5, 11, 16}, {9, 14}, {4, 7, 8, 12}]"
   ]
  },
  {
   "cell_type": "markdown",
   "metadata": {
    "deletable": false,
    "editable": false,
    "nbgrader": {
     "grade": false,
     "locked": true,
     "solution": false
    },
    "tags": [
     "demo_output_md"
    ]
   },
   "source": [
    "A correct implementation of `assign_communities` would produce this result:\n",
    "\n",
    "|   user_id |   comm_id |\n",
    "|----------:|----------:|\n",
    "|         1 |         0 |\n",
    "|        10 |         0 |\n",
    "|         3 |         0 |\n",
    "|        17 |         0 |\n",
    "|         2 |         1 |\n",
    "|        13 |         1 |\n",
    "|         6 |         1 |\n",
    "|        15 |         1 |\n",
    "|         0 |         2 |\n",
    "|        16 |         2 |\n",
    "|        11 |         2 |\n",
    "|         5 |         2 |\n",
    "|         9 |         3 |\n",
    "|        14 |         3 |\n",
    "|         8 |         4 |\n",
    "|         4 |         4 |\n",
    "|        12 |         4 |\n",
    "|         7 |         4 |"
   ]
  },
  {
   "cell_type": "code",
   "execution_count": 37,
   "metadata": {
    "ExecuteTime": {
     "end_time": "2023-03-30T22:24:24.668156Z",
     "start_time": "2023-03-30T22:24:24.644950Z"
    },
    "tags": [
     "exercise_solution"
    ]
   },
   "outputs": [
    {
     "data": {
      "text/html": [
       "<div>\n",
       "<style scoped>\n",
       "    .dataframe tbody tr th:only-of-type {\n",
       "        vertical-align: middle;\n",
       "    }\n",
       "\n",
       "    .dataframe tbody tr th {\n",
       "        vertical-align: top;\n",
       "    }\n",
       "\n",
       "    .dataframe thead th {\n",
       "        text-align: right;\n",
       "    }\n",
       "</style>\n",
       "<table border=\"1\" class=\"dataframe\">\n",
       "  <thead>\n",
       "    <tr style=\"text-align: right;\">\n",
       "      <th></th>\n",
       "      <th>user_id</th>\n",
       "      <th>comm_id</th>\n",
       "    </tr>\n",
       "  </thead>\n",
       "  <tbody>\n",
       "    <tr>\n",
       "      <th>0</th>\n",
       "      <td>1</td>\n",
       "      <td>0</td>\n",
       "    </tr>\n",
       "    <tr>\n",
       "      <th>1</th>\n",
       "      <td>10</td>\n",
       "      <td>0</td>\n",
       "    </tr>\n",
       "    <tr>\n",
       "      <th>2</th>\n",
       "      <td>3</td>\n",
       "      <td>0</td>\n",
       "    </tr>\n",
       "    <tr>\n",
       "      <th>3</th>\n",
       "      <td>17</td>\n",
       "      <td>0</td>\n",
       "    </tr>\n",
       "    <tr>\n",
       "      <th>4</th>\n",
       "      <td>2</td>\n",
       "      <td>1</td>\n",
       "    </tr>\n",
       "    <tr>\n",
       "      <th>5</th>\n",
       "      <td>13</td>\n",
       "      <td>1</td>\n",
       "    </tr>\n",
       "    <tr>\n",
       "      <th>6</th>\n",
       "      <td>6</td>\n",
       "      <td>1</td>\n",
       "    </tr>\n",
       "    <tr>\n",
       "      <th>7</th>\n",
       "      <td>15</td>\n",
       "      <td>1</td>\n",
       "    </tr>\n",
       "    <tr>\n",
       "      <th>8</th>\n",
       "      <td>0</td>\n",
       "      <td>2</td>\n",
       "    </tr>\n",
       "    <tr>\n",
       "      <th>9</th>\n",
       "      <td>16</td>\n",
       "      <td>2</td>\n",
       "    </tr>\n",
       "    <tr>\n",
       "      <th>10</th>\n",
       "      <td>11</td>\n",
       "      <td>2</td>\n",
       "    </tr>\n",
       "    <tr>\n",
       "      <th>11</th>\n",
       "      <td>5</td>\n",
       "      <td>2</td>\n",
       "    </tr>\n",
       "    <tr>\n",
       "      <th>12</th>\n",
       "      <td>9</td>\n",
       "      <td>3</td>\n",
       "    </tr>\n",
       "    <tr>\n",
       "      <th>13</th>\n",
       "      <td>14</td>\n",
       "      <td>3</td>\n",
       "    </tr>\n",
       "    <tr>\n",
       "      <th>14</th>\n",
       "      <td>8</td>\n",
       "      <td>4</td>\n",
       "    </tr>\n",
       "    <tr>\n",
       "      <th>15</th>\n",
       "      <td>4</td>\n",
       "      <td>4</td>\n",
       "    </tr>\n",
       "    <tr>\n",
       "      <th>16</th>\n",
       "      <td>12</td>\n",
       "      <td>4</td>\n",
       "    </tr>\n",
       "    <tr>\n",
       "      <th>17</th>\n",
       "      <td>7</td>\n",
       "      <td>4</td>\n",
       "    </tr>\n",
       "  </tbody>\n",
       "</table>\n",
       "</div>"
      ],
      "text/plain": [
       "    user_id  comm_id\n",
       "0         1        0\n",
       "1        10        0\n",
       "2         3        0\n",
       "3        17        0\n",
       "4         2        1\n",
       "5        13        1\n",
       "6         6        1\n",
       "7        15        1\n",
       "8         0        2\n",
       "9        16        2\n",
       "10       11        2\n",
       "11        5        2\n",
       "12        9        3\n",
       "13       14        3\n",
       "14        8        4\n",
       "15        4        4\n",
       "16       12        4\n",
       "17        7        4"
      ]
     },
     "execution_count": 37,
     "metadata": {},
     "output_type": "execute_result"
    }
   ],
   "source": [
    "### Exercise 6 solution\n",
    "def assign_communities(communities):\n",
    "    ###\n",
    "    commDict = defaultdict(int)\n",
    "    for i in range(len(communities)):\n",
    "        commDict[i] = list(communities[i])\n",
    "    \n",
    "    commID = []\n",
    "    userID = []\n",
    "    for key in commDict:\n",
    "        for lstValue in commDict[key]:\n",
    "            commID.append(key)\n",
    "            userID.append(lstValue)\n",
    "    \n",
    "    df = pd.DataFrame({'user_id': userID, 'comm_id': commID})\n",
    "    return df\n",
    "    ###\n",
    "    \n",
    "### demo function call ###\n",
    "assign_communities(demo_communities_ex6)"
   ]
  },
  {
   "cell_type": "markdown",
   "metadata": {
    "deletable": false,
    "editable": false,
    "nbgrader": {
     "grade": false,
     "locked": true,
     "solution": false
    },
    "tags": [
     "test_data_boilerplate"
    ]
   },
   "source": [
    "<!-- Test Cell Boilerplate -->\n",
    "The cell below will test your solution for Exercise 6. The testing variables will be available for debugging under the following names in a dictionary format.\n",
    "- `input_vars` - Input variables for your solution. \n",
    "- `original_input_vars` - Copy of input variables from prior to running your solution. These _should_ be the same as `input_vars` - otherwise the inputs were modified by your solution.\n",
    "- `returned_output_vars` - Outputs returned by your solution.\n",
    "- `true_output_vars` - The expected output. This _should_ \"match\" `returned_output_vars` based on the question requirements - otherwise, your solution is not returning the correct output. "
   ]
  },
  {
   "cell_type": "code",
   "execution_count": 38,
   "metadata": {
    "ExecuteTime": {
     "end_time": "2023-03-30T22:24:24.930074Z",
     "start_time": "2023-03-30T22:24:24.769670Z"
    },
    "deletable": false,
    "editable": false,
    "nbgrader": {
     "grade": true,
     "grade_id": "ex6",
     "locked": true,
     "points": "2",
     "solution": false
    },
    "tags": []
   },
   "outputs": [
    {
     "name": "stdout",
     "output_type": "stream",
     "text": [
      "Passed! Please submit.\n"
     ]
    }
   ],
   "source": [
    "### test_cell_ex6\n",
    "###\n",
    "### AUTOGRADER TEST - DO NOT REMOVE\n",
    "###\n",
    "from tester_fw.testers import Tester\n",
    "\n",
    "conf = {\n",
    "    'case_file':'tc_6', \n",
    "    'func': assign_communities, # replace this with the function defined above\n",
    "    'inputs':{ # input config dict. keys are parameter names\n",
    "        'communities': {\n",
    "            'dtype': 'list', # data type of param.\n",
    "            'check_modified': True,\n",
    "        }\n",
    "    },\n",
    "    'outputs':{\n",
    "        'output_0':{\n",
    "            'index': 0,\n",
    "            'dtype': 'df',\n",
    "            'check_dtype': True,\n",
    "            'check_col_dtypes': True, # Ignored if dtype is not df\n",
    "            'check_col_order': False, # Ignored if dtype is not df\n",
    "            'check_row_order': False, # Ignored if dtype is not df\n",
    "            'float_tolerance': 10 ** (-6)\n",
    "        }\n",
    "    }\n",
    "}\n",
    "tester = Tester(conf, key=b'jpS7W-CpqAQfuITMEQZL-yVXfhIaCkSaei-emnyRtrI=', path='resource/asnlib/publicdata/')\n",
    "for _ in range(70):\n",
    "    try:\n",
    "        tester.run_test()\n",
    "        (input_vars, original_input_vars, returned_output_vars, true_output_vars) = tester.get_test_vars()\n",
    "    except:\n",
    "        (input_vars, original_input_vars, returned_output_vars, true_output_vars) = tester.get_test_vars()\n",
    "        raise\n",
    "\n",
    "###\n",
    "### AUTOGRADER TEST - DO NOT REMOVE\n",
    "###\n",
    "print('Passed! Please submit.')"
   ]
  },
  {
   "cell_type": "markdown",
   "metadata": {
    "deletable": false,
    "editable": false,
    "nbgrader": {
     "grade": false,
     "locked": true,
     "solution": false
    },
    "tags": [
     "exercise_text"
    ]
   },
   "source": [
    "## **Ex. 7 (1 pt)**: `means_by_community` ##\n",
    "\n",
    "Suppose we wish to calculate means (averages) of the interaction data _by community._ Implement the function,\n",
    "\n",
    "```python\n",
    "def means_by_community(intdf, comdf):\n",
    "    ...\n",
    "```\n",
    "\n",
    "to perform this task.\n",
    "\n",
    "**Inputs:**\n",
    "1. `intdf`: An interactions `DataFrame` with columns `user_id`, `book_id`, `is_read`, `rating`, and `is_reviewed`.\n",
    "1. `comdf`: A communities `DataFrame` with columns `user_id` and `comm_id`.\n",
    "\n",
    "**Your task:** Join these `DataFrames` and then return a new `DataFrame` with the mean values of the `is_read`, `rating`, and `is_reviewed` columns **by community.**\n",
    "\n",
    "**Outputs:** Your function should return a new `DataFrame` with these columns:\n",
    "1. `comm_id`: An integer community ID, one per row.\n",
    "2. `is_read`, `rating`, `is_reviewed`: The mean value of each column for all rows of `intdf` for all users of the community. These should be stored as `float` values.\n",
    "\n",
    "**Additional notes:** A user ID might not appear in both inputs. These should not be part of any means calculation.\n",
    "\n",
    "**Example:** Consider the following two inputs:"
   ]
  },
  {
   "cell_type": "code",
   "execution_count": 39,
   "metadata": {
    "ExecuteTime": {
     "end_time": "2023-03-30T22:24:24.958213Z",
     "start_time": "2023-03-30T22:24:24.931043Z"
    },
    "deletable": false,
    "editable": false,
    "nbgrader": {
     "grade": false,
     "locked": true,
     "solution": false
    },
    "scrolled": true,
    "tags": [
     "demo_data"
    ]
   },
   "outputs": [
    {
     "data": {
      "text/html": [
       "<div>\n",
       "<style scoped>\n",
       "    .dataframe tbody tr th:only-of-type {\n",
       "        vertical-align: middle;\n",
       "    }\n",
       "\n",
       "    .dataframe tbody tr th {\n",
       "        vertical-align: top;\n",
       "    }\n",
       "\n",
       "    .dataframe thead th {\n",
       "        text-align: right;\n",
       "    }\n",
       "</style>\n",
       "<table border=\"1\" class=\"dataframe\">\n",
       "  <thead>\n",
       "    <tr style=\"text-align: right;\">\n",
       "      <th></th>\n",
       "      <th>user_id</th>\n",
       "      <th>book_id</th>\n",
       "      <th>is_read</th>\n",
       "      <th>rating</th>\n",
       "      <th>is_reviewed</th>\n",
       "    </tr>\n",
       "  </thead>\n",
       "  <tbody>\n",
       "    <tr>\n",
       "      <th>3</th>\n",
       "      <td>23193</td>\n",
       "      <td>5103</td>\n",
       "      <td>1</td>\n",
       "      <td>5</td>\n",
       "      <td>0</td>\n",
       "    </tr>\n",
       "    <tr>\n",
       "      <th>2</th>\n",
       "      <td>34369</td>\n",
       "      <td>1286322</td>\n",
       "      <td>1</td>\n",
       "      <td>4</td>\n",
       "      <td>0</td>\n",
       "    </tr>\n",
       "    <tr>\n",
       "      <th>1</th>\n",
       "      <td>110781</td>\n",
       "      <td>13565</td>\n",
       "      <td>1</td>\n",
       "      <td>5</td>\n",
       "      <td>0</td>\n",
       "    </tr>\n",
       "    <tr>\n",
       "      <th>0</th>\n",
       "      <td>141064</td>\n",
       "      <td>919</td>\n",
       "      <td>1</td>\n",
       "      <td>5</td>\n",
       "      <td>0</td>\n",
       "    </tr>\n",
       "    <tr>\n",
       "      <th>4</th>\n",
       "      <td>437014</td>\n",
       "      <td>215715</td>\n",
       "      <td>1</td>\n",
       "      <td>4</td>\n",
       "      <td>0</td>\n",
       "    </tr>\n",
       "  </tbody>\n",
       "</table>\n",
       "</div>"
      ],
      "text/plain": [
       "   user_id  book_id  is_read  rating  is_reviewed\n",
       "3    23193     5103        1       5            0\n",
       "2    34369  1286322        1       4            0\n",
       "1   110781    13565        1       5            0\n",
       "0   141064      919        1       5            0\n",
       "4   437014   215715        1       4            0"
      ]
     },
     "metadata": {},
     "output_type": "display_data"
    },
    {
     "data": {
      "text/html": [
       "<div>\n",
       "<style scoped>\n",
       "    .dataframe tbody tr th:only-of-type {\n",
       "        vertical-align: middle;\n",
       "    }\n",
       "\n",
       "    .dataframe tbody tr th {\n",
       "        vertical-align: top;\n",
       "    }\n",
       "\n",
       "    .dataframe thead th {\n",
       "        text-align: right;\n",
       "    }\n",
       "</style>\n",
       "<table border=\"1\" class=\"dataframe\">\n",
       "  <thead>\n",
       "    <tr style=\"text-align: right;\">\n",
       "      <th></th>\n",
       "      <th>user_id</th>\n",
       "      <th>comm_id</th>\n",
       "    </tr>\n",
       "  </thead>\n",
       "  <tbody>\n",
       "    <tr>\n",
       "      <th>1</th>\n",
       "      <td>23193</td>\n",
       "      <td>5</td>\n",
       "    </tr>\n",
       "    <tr>\n",
       "      <th>3</th>\n",
       "      <td>110781</td>\n",
       "      <td>0</td>\n",
       "    </tr>\n",
       "    <tr>\n",
       "      <th>0</th>\n",
       "      <td>141064</td>\n",
       "      <td>3</td>\n",
       "    </tr>\n",
       "    <tr>\n",
       "      <th>2</th>\n",
       "      <td>437014</td>\n",
       "      <td>0</td>\n",
       "    </tr>\n",
       "  </tbody>\n",
       "</table>\n",
       "</div>"
      ],
      "text/plain": [
       "   user_id  comm_id\n",
       "1    23193        5\n",
       "3   110781        0\n",
       "0   141064        3\n",
       "2   437014        0"
      ]
     },
     "metadata": {},
     "output_type": "display_data"
    }
   ],
   "source": [
    "### Define demo inputs ###\n",
    "\n",
    "demo_intdf_ex7 = load_table_from_db(\"Interactions\", \"demo_ex7.db\").sort_values(by='user_id')\n",
    "demo_comdf_ex7 = load_table_from_db(\"Communities\", \"demo_ex7.db\").sort_values(by='user_id')\n",
    "\n",
    "display(demo_intdf_ex7)\n",
    "display(demo_comdf_ex7)"
   ]
  },
  {
   "cell_type": "markdown",
   "metadata": {
    "deletable": false,
    "editable": false,
    "nbgrader": {
     "grade": false,
     "locked": true,
     "solution": false
    },
    "tags": [
     "demo_output_md"
    ]
   },
   "source": [
    "A correct implementation of `means_by_community` will return:\n",
    "\n",
    "|   comm_id |   is_read |   rating |   is_reviewed |\n",
    "|----------:|----------:|---------:|--------------:|\n",
    "|         0 |         1 |      4.5 |             0 |\n",
    "|         3 |         1 |      5   |             0 |\n",
    "|         5 |         1 |      5   |             0 |\n",
    "\n",
    "Observe that user `34369` does not belong to any community. Therefore, none of the final averages should be affected by that user's data."
   ]
  },
  {
   "cell_type": "code",
   "execution_count": 40,
   "metadata": {
    "ExecuteTime": {
     "end_time": "2023-03-30T22:24:24.987641Z",
     "start_time": "2023-03-30T22:24:24.959262Z"
    },
    "tags": [
     "exercise_solution"
    ]
   },
   "outputs": [
    {
     "data": {
      "text/html": [
       "<div>\n",
       "<style scoped>\n",
       "    .dataframe tbody tr th:only-of-type {\n",
       "        vertical-align: middle;\n",
       "    }\n",
       "\n",
       "    .dataframe tbody tr th {\n",
       "        vertical-align: top;\n",
       "    }\n",
       "\n",
       "    .dataframe thead th {\n",
       "        text-align: right;\n",
       "    }\n",
       "</style>\n",
       "<table border=\"1\" class=\"dataframe\">\n",
       "  <thead>\n",
       "    <tr style=\"text-align: right;\">\n",
       "      <th></th>\n",
       "      <th>comm_id</th>\n",
       "      <th>is_read</th>\n",
       "      <th>rating</th>\n",
       "      <th>is_reviewed</th>\n",
       "    </tr>\n",
       "  </thead>\n",
       "  <tbody>\n",
       "    <tr>\n",
       "      <th>0</th>\n",
       "      <td>0</td>\n",
       "      <td>1.0</td>\n",
       "      <td>4.5</td>\n",
       "      <td>0.0</td>\n",
       "    </tr>\n",
       "    <tr>\n",
       "      <th>1</th>\n",
       "      <td>3</td>\n",
       "      <td>1.0</td>\n",
       "      <td>5.0</td>\n",
       "      <td>0.0</td>\n",
       "    </tr>\n",
       "    <tr>\n",
       "      <th>2</th>\n",
       "      <td>5</td>\n",
       "      <td>1.0</td>\n",
       "      <td>5.0</td>\n",
       "      <td>0.0</td>\n",
       "    </tr>\n",
       "  </tbody>\n",
       "</table>\n",
       "</div>"
      ],
      "text/plain": [
       "   comm_id  is_read  rating  is_reviewed\n",
       "0        0      1.0     4.5          0.0\n",
       "1        3      1.0     5.0          0.0\n",
       "2        5      1.0     5.0          0.0"
      ]
     },
     "metadata": {},
     "output_type": "display_data"
    }
   ],
   "source": [
    "### Exercise 7 solution\n",
    "def means_by_community(intdf, comdf):\n",
    "    ###\n",
    "    VALUES = ['is_read', 'rating', 'is_reviewed']\n",
    "    df = intdf.merge(comdf, on='user_id', how='inner')\n",
    "    df = df.groupby('comm_id')[VALUES].mean().reset_index()\n",
    "    \n",
    "    return df\n",
    "    ###\n",
    "    \n",
    "### demo function call ###\n",
    "demo_result_ex7 = means_by_community(demo_intdf_ex7, demo_comdf_ex7)\n",
    "display(demo_result_ex7)"
   ]
  },
  {
   "cell_type": "markdown",
   "metadata": {
    "deletable": false,
    "editable": false,
    "nbgrader": {
     "grade": false,
     "locked": true,
     "solution": false
    },
    "tags": [
     "test_data_boilerplate"
    ]
   },
   "source": [
    "<!-- Test Cell Boilerplate -->\n",
    "The cell below will test your solution for Exercise 7. The testing variables will be available for debugging under the following names in a dictionary format.\n",
    "- `input_vars` - Input variables for your solution. \n",
    "- `original_input_vars` - Copy of input variables from prior to running your solution. These _should_ be the same as `input_vars` - otherwise the inputs were modified by your solution.\n",
    "- `returned_output_vars` - Outputs returned by your solution.\n",
    "- `true_output_vars` - The expected output. This _should_ \"match\" `returned_output_vars` based on the question requirements - otherwise, your solution is not returning the correct output. "
   ]
  },
  {
   "cell_type": "code",
   "execution_count": 41,
   "metadata": {
    "ExecuteTime": {
     "end_time": "2023-03-30T22:24:26.372224Z",
     "start_time": "2023-03-30T22:24:25.954786Z"
    },
    "deletable": false,
    "editable": false,
    "nbgrader": {
     "grade": true,
     "grade_id": "ex7",
     "locked": true,
     "points": "1",
     "solution": false
    },
    "tags": []
   },
   "outputs": [
    {
     "name": "stdout",
     "output_type": "stream",
     "text": [
      "Passed! Please submit.\n"
     ]
    }
   ],
   "source": [
    "### test_cell_ex7\n",
    "###\n",
    "### AUTOGRADER TEST - DO NOT REMOVE\n",
    "###\n",
    "from tester_fw.testers import Tester\n",
    "\n",
    "conf = {\n",
    "    'case_file':'tc_7', \n",
    "    'func': means_by_community, # replace this with the function defined above\n",
    "    'inputs':{ # input config dict. keys are parameter names\n",
    "        'intdf': {\n",
    "            'dtype': 'df', # data type of param.\n",
    "            'check_modified': True,\n",
    "        },\n",
    "        'comdf': {\n",
    "            'dtype': 'df',\n",
    "            'check_modified': True\n",
    "        }\n",
    "    },\n",
    "    'outputs':{\n",
    "        'output_0':{\n",
    "            'index': 0,\n",
    "            'dtype': 'df',\n",
    "            'check_dtype': True,\n",
    "            'check_col_dtypes': True, # Ignored if dtype is not df\n",
    "            'check_col_order': False, # Ignored if dtype is not df\n",
    "            'check_row_order': False, # Ignored if dtype is not df\n",
    "            'float_tolerance': 10 ** (-6)\n",
    "        }\n",
    "    }\n",
    "}\n",
    "tester = Tester(conf, key=b'jpS7W-CpqAQfuITMEQZL-yVXfhIaCkSaei-emnyRtrI=', path='resource/asnlib/publicdata/')\n",
    "for _ in range(70):\n",
    "    try:\n",
    "        tester.run_test()\n",
    "        (input_vars, original_input_vars, returned_output_vars, true_output_vars) = tester.get_test_vars()\n",
    "    except:\n",
    "        (input_vars, original_input_vars, returned_output_vars, true_output_vars) = tester.get_test_vars()\n",
    "        raise\n",
    "\n",
    "###\n",
    "### AUTOGRADER TEST - DO NOT REMOVE\n",
    "###\n",
    "print('Passed! Please submit.')"
   ]
  },
  {
   "cell_type": "markdown",
   "metadata": {
    "deletable": false,
    "editable": false,
    "nbgrader": {
     "grade": false,
     "locked": true,
     "solution": false
    }
   },
   "source": [
    "**RUN ME:** With a correct `means_by_community`, we can see whether the communities differ in how they read, rate, and review books. Here is what would happen if we ran on the full dataset:"
   ]
  },
  {
   "cell_type": "code",
   "execution_count": 42,
   "metadata": {
    "ExecuteTime": {
     "end_time": "2023-03-30T22:24:26.397280Z",
     "start_time": "2023-03-30T22:24:26.373248Z"
    },
    "deletable": false,
    "editable": false,
    "nbgrader": {
     "grade": false,
     "locked": true,
     "solution": false
    }
   },
   "outputs": [
    {
     "name": "stdout",
     "output_type": "stream",
     "text": [
      "Recall: community sizes: [(0, 868), (1, 2), (2, 36), (3, 340), (4, 6), (5, 574)]\n"
     ]
    },
    {
     "data": {
      "text/html": [
       "<div>\n",
       "<style scoped>\n",
       "    .dataframe tbody tr th:only-of-type {\n",
       "        vertical-align: middle;\n",
       "    }\n",
       "\n",
       "    .dataframe tbody tr th {\n",
       "        vertical-align: top;\n",
       "    }\n",
       "\n",
       "    .dataframe thead th {\n",
       "        text-align: right;\n",
       "    }\n",
       "</style>\n",
       "<table border=\"1\" class=\"dataframe\">\n",
       "  <thead>\n",
       "    <tr style=\"text-align: right;\">\n",
       "      <th></th>\n",
       "      <th>comm_id</th>\n",
       "      <th>is_read</th>\n",
       "      <th>rating</th>\n",
       "      <th>is_reviewed</th>\n",
       "    </tr>\n",
       "  </thead>\n",
       "  <tbody>\n",
       "    <tr>\n",
       "      <th>0</th>\n",
       "      <td>0</td>\n",
       "      <td>1.0</td>\n",
       "      <td>4.481228</td>\n",
       "      <td>0.105068</td>\n",
       "    </tr>\n",
       "    <tr>\n",
       "      <th>1</th>\n",
       "      <td>1</td>\n",
       "      <td>1.0</td>\n",
       "      <td>4.945455</td>\n",
       "      <td>0.427273</td>\n",
       "    </tr>\n",
       "    <tr>\n",
       "      <th>2</th>\n",
       "      <td>2</td>\n",
       "      <td>1.0</td>\n",
       "      <td>4.418115</td>\n",
       "      <td>0.267155</td>\n",
       "    </tr>\n",
       "    <tr>\n",
       "      <th>3</th>\n",
       "      <td>3</td>\n",
       "      <td>1.0</td>\n",
       "      <td>4.505879</td>\n",
       "      <td>0.128845</td>\n",
       "    </tr>\n",
       "    <tr>\n",
       "      <th>4</th>\n",
       "      <td>4</td>\n",
       "      <td>1.0</td>\n",
       "      <td>4.366142</td>\n",
       "      <td>0.110236</td>\n",
       "    </tr>\n",
       "    <tr>\n",
       "      <th>5</th>\n",
       "      <td>5</td>\n",
       "      <td>1.0</td>\n",
       "      <td>4.560539</td>\n",
       "      <td>0.121930</td>\n",
       "    </tr>\n",
       "  </tbody>\n",
       "</table>\n",
       "</div>"
      ],
      "text/plain": [
       "   comm_id  is_read    rating  is_reviewed\n",
       "0        0      1.0  4.481228     0.105068\n",
       "1        1      1.0  4.945455     0.427273\n",
       "2        2      1.0  4.418115     0.267155\n",
       "3        3      1.0  4.505879     0.128845\n",
       "4        4      1.0  4.366142     0.110236\n",
       "5        5      1.0  4.560539     0.121930"
      ]
     },
     "execution_count": 42,
     "metadata": {},
     "output_type": "execute_result"
    }
   ],
   "source": [
    "ex7_means = load_df_from_file('ex7-means.df')\n",
    "print(f\"Recall: community sizes: {[(k, len(c)) for k, c in enumerate(communities)]}\")\n",
    "ex7_means"
   ]
  },
  {
   "cell_type": "markdown",
   "metadata": {
    "deletable": false,
    "editable": false,
    "nbgrader": {
     "grade": false,
     "locked": true,
     "solution": false
    },
    "tags": [
     "exercise_text"
    ]
   },
   "source": [
    "## **Ex. 8 (3 pts):** `get_topreads_by_community` ##\n",
    "\n",
    "Suppose we merge the community information into the interactions database. Can we then identify which books each community is \"the most interested in?\" Complete the following function to help answer this question:\n",
    "\n",
    "```python\n",
    "def get_topreads_by_community(xcdf, rank):\n",
    "    ...\n",
    "```\n",
    "\n",
    "**Inputs:** There are two inputs:\n",
    "1. `xcdf` is a `DataFrame` with the following columns:\n",
    "  * `user_id`: A user ID (integer)\n",
    "  * `book_id`: A book ID (integer) that this user read\n",
    "  * `comm_id`: The community ID to which the user belongs (integer)\n",
    "2. `rank` is an integer indicating how many of the top books we want to return. For instance, if `rank=5`, then we want results for just the top 5 books in each community.\n",
    "\n",
    "**Your task:** For each community, calculate what _percentage_ of its users read each book. That is, we would like to be able to see something like \"in Community 2, 25% of the users read book 238.\" We then want to identify the top `rank` books.\n",
    "\n",
    "There are several strategies for this exercise, but you might consider something along these lines.\n",
    "- Determine the number of unique users in each community. You need this information to get percentages.\n",
    "- Determine how many users read each book by community.\n",
    "- Normalize these counts by the community size.\n",
    "- Sort and return the results, retaining just the top `rank` books in each community.\n",
    "\n",
    "**Outputs:** Your function should return a new `DataFrame` with the following columns:\n",
    "- `comm_id`: The community ID\n",
    "- `book_id`: A book ID that was read in that community\n",
    "- `percent`: The percentage of the community that read that book.\n",
    "- `comm_size`: The number of users in the community\n",
    "\n",
    "As noted above, return **at most** the top `rank` books per community. In the event of ties, retain books with the lowest ID. (This choice is arbitrary but will simplify your implementation.)\n",
    "\n",
    "**Additional notes and hints:** If your code calculates a fraction, don't forget to multiply by 100 to get a percentage value for your final output.\n",
    "\n",
    "**Example:** Consider this input dataframe and a target rank of 2:"
   ]
  },
  {
   "cell_type": "code",
   "execution_count": 43,
   "metadata": {
    "ExecuteTime": {
     "end_time": "2023-03-30T22:24:26.423969Z",
     "start_time": "2023-03-30T22:24:26.398428Z"
    },
    "deletable": false,
    "editable": false,
    "nbgrader": {
     "grade": false,
     "locked": true,
     "solution": false
    },
    "tags": [
     "demo_data"
    ]
   },
   "outputs": [
    {
     "data": {
      "text/html": [
       "<div>\n",
       "<style scoped>\n",
       "    .dataframe tbody tr th:only-of-type {\n",
       "        vertical-align: middle;\n",
       "    }\n",
       "\n",
       "    .dataframe tbody tr th {\n",
       "        vertical-align: top;\n",
       "    }\n",
       "\n",
       "    .dataframe thead th {\n",
       "        text-align: right;\n",
       "    }\n",
       "</style>\n",
       "<table border=\"1\" class=\"dataframe\">\n",
       "  <thead>\n",
       "    <tr style=\"text-align: right;\">\n",
       "      <th></th>\n",
       "      <th>user_id</th>\n",
       "      <th>book_id</th>\n",
       "      <th>is_read</th>\n",
       "      <th>rating</th>\n",
       "      <th>is_reviewed</th>\n",
       "      <th>comm_id</th>\n",
       "    </tr>\n",
       "  </thead>\n",
       "  <tbody>\n",
       "    <tr>\n",
       "      <th>0</th>\n",
       "      <td>793590</td>\n",
       "      <td>996</td>\n",
       "      <td>1</td>\n",
       "      <td>4</td>\n",
       "      <td>0</td>\n",
       "      <td>0</td>\n",
       "    </tr>\n",
       "    <tr>\n",
       "      <th>1</th>\n",
       "      <td>619091</td>\n",
       "      <td>6989</td>\n",
       "      <td>1</td>\n",
       "      <td>5</td>\n",
       "      <td>0</td>\n",
       "      <td>5</td>\n",
       "    </tr>\n",
       "    <tr>\n",
       "      <th>2</th>\n",
       "      <td>135105</td>\n",
       "      <td>1386</td>\n",
       "      <td>1</td>\n",
       "      <td>5</td>\n",
       "      <td>0</td>\n",
       "      <td>5</td>\n",
       "    </tr>\n",
       "    <tr>\n",
       "      <th>3</th>\n",
       "      <td>776616</td>\n",
       "      <td>461</td>\n",
       "      <td>1</td>\n",
       "      <td>4</td>\n",
       "      <td>0</td>\n",
       "      <td>0</td>\n",
       "    </tr>\n",
       "    <tr>\n",
       "      <th>4</th>\n",
       "      <td>172315</td>\n",
       "      <td>997</td>\n",
       "      <td>1</td>\n",
       "      <td>4</td>\n",
       "      <td>0</td>\n",
       "      <td>3</td>\n",
       "    </tr>\n",
       "    <tr>\n",
       "      <th>...</th>\n",
       "      <td>...</td>\n",
       "      <td>...</td>\n",
       "      <td>...</td>\n",
       "      <td>...</td>\n",
       "      <td>...</td>\n",
       "      <td>...</td>\n",
       "    </tr>\n",
       "    <tr>\n",
       "      <th>95</th>\n",
       "      <td>614807</td>\n",
       "      <td>1574</td>\n",
       "      <td>1</td>\n",
       "      <td>4</td>\n",
       "      <td>0</td>\n",
       "      <td>5</td>\n",
       "    </tr>\n",
       "    <tr>\n",
       "      <th>96</th>\n",
       "      <td>405247</td>\n",
       "      <td>996</td>\n",
       "      <td>1</td>\n",
       "      <td>5</td>\n",
       "      <td>1</td>\n",
       "      <td>0</td>\n",
       "    </tr>\n",
       "    <tr>\n",
       "      <th>97</th>\n",
       "      <td>181951</td>\n",
       "      <td>1604</td>\n",
       "      <td>1</td>\n",
       "      <td>4</td>\n",
       "      <td>0</td>\n",
       "      <td>3</td>\n",
       "    </tr>\n",
       "    <tr>\n",
       "      <th>98</th>\n",
       "      <td>124016</td>\n",
       "      <td>944</td>\n",
       "      <td>1</td>\n",
       "      <td>5</td>\n",
       "      <td>0</td>\n",
       "      <td>5</td>\n",
       "    </tr>\n",
       "    <tr>\n",
       "      <th>99</th>\n",
       "      <td>736928</td>\n",
       "      <td>943</td>\n",
       "      <td>1</td>\n",
       "      <td>5</td>\n",
       "      <td>0</td>\n",
       "      <td>3</td>\n",
       "    </tr>\n",
       "  </tbody>\n",
       "</table>\n",
       "<p>100 rows × 6 columns</p>\n",
       "</div>"
      ],
      "text/plain": [
       "    user_id  book_id  is_read  rating  is_reviewed  comm_id\n",
       "0    793590      996        1       4            0        0\n",
       "1    619091     6989        1       5            0        5\n",
       "2    135105     1386        1       5            0        5\n",
       "3    776616      461        1       4            0        0\n",
       "4    172315      997        1       4            0        3\n",
       "..      ...      ...      ...     ...          ...      ...\n",
       "95   614807     1574        1       4            0        5\n",
       "96   405247      996        1       5            1        0\n",
       "97   181951     1604        1       4            0        3\n",
       "98   124016      944        1       5            0        5\n",
       "99   736928      943        1       5            0        3\n",
       "\n",
       "[100 rows x 6 columns]"
      ]
     },
     "execution_count": 43,
     "metadata": {},
     "output_type": "execute_result"
    }
   ],
   "source": [
    "### Define demo inputs ###\n",
    "\n",
    "demo_xcdf_ex8 = load_df_from_file('demo_ex8.df').reset_index(drop=True)\n",
    "demo_rank_ex8 = 2\n",
    "\n",
    "demo_xcdf_ex8"
   ]
  },
  {
   "cell_type": "markdown",
   "metadata": {
    "deletable": false,
    "editable": false,
    "nbgrader": {
     "grade": false,
     "locked": true,
     "solution": false
    },
    "tags": [
     "demo_output_md"
    ]
   },
   "source": [
    "From the demo input shown above, your function should return:\n",
    "\n",
    "|   comm_id |   book_id |   percent |   comm_size |\n",
    "|----------:|----------:|----------:|------------:|\n",
    "|         0 |       821 |   7.89474 |          38 |\n",
    "|         0 |       536 |   5.26316 |          38 |\n",
    "|         3 |       938 |  12.5     |          32 |\n",
    "|         3 |       943 |   9.375   |          32 |\n",
    "|         5 |      1386 |  12       |          25 |\n",
    "|         5 |      1473 |  12       |          25 |"
   ]
  },
  {
   "cell_type": "code",
   "execution_count": 44,
   "metadata": {
    "ExecuteTime": {
     "end_time": "2023-03-30T22:24:26.457958Z",
     "start_time": "2023-03-30T22:24:26.424955Z"
    },
    "scrolled": true,
    "tags": [
     "exercise_solution"
    ]
   },
   "outputs": [
    {
     "data": {
      "text/html": [
       "<div>\n",
       "<style scoped>\n",
       "    .dataframe tbody tr th:only-of-type {\n",
       "        vertical-align: middle;\n",
       "    }\n",
       "\n",
       "    .dataframe tbody tr th {\n",
       "        vertical-align: top;\n",
       "    }\n",
       "\n",
       "    .dataframe thead th {\n",
       "        text-align: right;\n",
       "    }\n",
       "</style>\n",
       "<table border=\"1\" class=\"dataframe\">\n",
       "  <thead>\n",
       "    <tr style=\"text-align: right;\">\n",
       "      <th></th>\n",
       "      <th>comm_id</th>\n",
       "      <th>book_id</th>\n",
       "      <th>percent</th>\n",
       "      <th>comm_size</th>\n",
       "    </tr>\n",
       "  </thead>\n",
       "  <tbody>\n",
       "    <tr>\n",
       "      <th>0</th>\n",
       "      <td>0</td>\n",
       "      <td>821</td>\n",
       "      <td>7.894737</td>\n",
       "      <td>38</td>\n",
       "    </tr>\n",
       "    <tr>\n",
       "      <th>1</th>\n",
       "      <td>0</td>\n",
       "      <td>536</td>\n",
       "      <td>5.263158</td>\n",
       "      <td>38</td>\n",
       "    </tr>\n",
       "    <tr>\n",
       "      <th>2</th>\n",
       "      <td>3</td>\n",
       "      <td>938</td>\n",
       "      <td>12.500000</td>\n",
       "      <td>32</td>\n",
       "    </tr>\n",
       "    <tr>\n",
       "      <th>3</th>\n",
       "      <td>3</td>\n",
       "      <td>943</td>\n",
       "      <td>9.375000</td>\n",
       "      <td>32</td>\n",
       "    </tr>\n",
       "    <tr>\n",
       "      <th>4</th>\n",
       "      <td>5</td>\n",
       "      <td>1386</td>\n",
       "      <td>12.000000</td>\n",
       "      <td>25</td>\n",
       "    </tr>\n",
       "    <tr>\n",
       "      <th>5</th>\n",
       "      <td>5</td>\n",
       "      <td>1473</td>\n",
       "      <td>12.000000</td>\n",
       "      <td>25</td>\n",
       "    </tr>\n",
       "  </tbody>\n",
       "</table>\n",
       "</div>"
      ],
      "text/plain": [
       "   comm_id  book_id    percent  comm_size\n",
       "0        0      821   7.894737         38\n",
       "1        0      536   5.263158         38\n",
       "2        3      938  12.500000         32\n",
       "3        3      943   9.375000         32\n",
       "4        5     1386  12.000000         25\n",
       "5        5     1473  12.000000         25"
      ]
     },
     "execution_count": 44,
     "metadata": {},
     "output_type": "execute_result"
    }
   ],
   "source": [
    "### Exercise 8 solution\n",
    "def get_topreads_by_community(xcdf, rank=5):\n",
    "    ###\n",
    "    def helperFunction(group: pd.DataFrame):\n",
    "        carryOver = ['comm_id', 'book_id']\n",
    "\n",
    "        uniqueUsers = group['user_id'].nunique()\n",
    "        \n",
    "        bookRead = defaultdict(int)\n",
    "        for i in range(len(group)):\n",
    "            if group.iloc[i]['is_read'] == 1:\n",
    "                bookRead[group.iloc[i]['book_id']]+=1\n",
    "        \n",
    "        for key in bookRead:\n",
    "            bookRead[key] = float(bookRead[key]/uniqueUsers * 100)\n",
    "        \n",
    "        sortedTuples = sorted(bookRead.items(), key=lambda x:x[0], reverse=False) #sort by keys least to Greatest\n",
    "        rankedBooks = dict(sortedTuples)\n",
    "\n",
    "        \n",
    "        df = group[carryOver]\n",
    "        df = df.sort_values('book_id')\n",
    "        df = df.drop_duplicates(subset=\"book_id\")\n",
    "        df['percent'] = rankedBooks.values()\n",
    "        df['comm_size'] = uniqueUsers\n",
    "        df = df.sort_values(['percent', 'book_id'], ascending=[False,True]).reset_index(drop=True)\n",
    "        df= df[df.index < rank] \n",
    "        return (df)\n",
    "    \n",
    "    df = xcdf.groupby('comm_id', as_index=False).apply(helperFunction)\n",
    "    return (df.reset_index(drop=True))\n",
    "    ###\n",
    "\n",
    "### demo function call ###\n",
    "get_topreads_by_community(demo_xcdf_ex8, demo_rank_ex8)\n",
    "# print(returned_output_vars['output_0'])\n",
    "# print(true_output_vars['output_0'])\n",
    "# print(pd.testing.assert_frame_equal(true_output_vars[\"output_0\"], returned_output_vars[\"output_0\"]))"
   ]
  },
  {
   "cell_type": "markdown",
   "metadata": {
    "deletable": false,
    "editable": false,
    "nbgrader": {
     "grade": false,
     "locked": true,
     "solution": false
    }
   },
   "source": [
    "**RUN ME:** If your function was working correctly, you would identify these top books by community on the full dataset."
   ]
  },
  {
   "cell_type": "code",
   "execution_count": 45,
   "metadata": {
    "ExecuteTime": {
     "end_time": "2023-03-30T22:24:26.483680Z",
     "start_time": "2023-03-30T22:24:26.458994Z"
    },
    "deletable": false,
    "editable": false,
    "nbgrader": {
     "grade": false,
     "locked": true,
     "solution": false
    }
   },
   "outputs": [
    {
     "data": {
      "text/html": [
       "<div>\n",
       "<style scoped>\n",
       "    .dataframe tbody tr th:only-of-type {\n",
       "        vertical-align: middle;\n",
       "    }\n",
       "\n",
       "    .dataframe tbody tr th {\n",
       "        vertical-align: top;\n",
       "    }\n",
       "\n",
       "    .dataframe thead th {\n",
       "        text-align: right;\n",
       "    }\n",
       "</style>\n",
       "<table border=\"1\" class=\"dataframe\">\n",
       "  <thead>\n",
       "    <tr style=\"text-align: right;\">\n",
       "      <th></th>\n",
       "      <th>comm_id</th>\n",
       "      <th>book_id</th>\n",
       "      <th>percent</th>\n",
       "      <th>comm_size</th>\n",
       "    </tr>\n",
       "  </thead>\n",
       "  <tbody>\n",
       "    <tr>\n",
       "      <th>0</th>\n",
       "      <td>0</td>\n",
       "      <td>786</td>\n",
       "      <td>28.110599</td>\n",
       "      <td>868</td>\n",
       "    </tr>\n",
       "    <tr>\n",
       "      <th>1</th>\n",
       "      <td>0</td>\n",
       "      <td>821</td>\n",
       "      <td>22.580645</td>\n",
       "      <td>868</td>\n",
       "    </tr>\n",
       "    <tr>\n",
       "      <th>2</th>\n",
       "      <td>0</td>\n",
       "      <td>943</td>\n",
       "      <td>21.428571</td>\n",
       "      <td>868</td>\n",
       "    </tr>\n",
       "    <tr>\n",
       "      <th>3</th>\n",
       "      <td>0</td>\n",
       "      <td>1012</td>\n",
       "      <td>20.852535</td>\n",
       "      <td>868</td>\n",
       "    </tr>\n",
       "    <tr>\n",
       "      <th>4</th>\n",
       "      <td>0</td>\n",
       "      <td>858</td>\n",
       "      <td>20.506912</td>\n",
       "      <td>868</td>\n",
       "    </tr>\n",
       "    <tr>\n",
       "      <th>5</th>\n",
       "      <td>1</td>\n",
       "      <td>25883</td>\n",
       "      <td>100.000000</td>\n",
       "      <td>2</td>\n",
       "    </tr>\n",
       "    <tr>\n",
       "      <th>6</th>\n",
       "      <td>1</td>\n",
       "      <td>27949</td>\n",
       "      <td>100.000000</td>\n",
       "      <td>2</td>\n",
       "    </tr>\n",
       "    <tr>\n",
       "      <th>7</th>\n",
       "      <td>1</td>\n",
       "      <td>52388</td>\n",
       "      <td>100.000000</td>\n",
       "      <td>2</td>\n",
       "    </tr>\n",
       "    <tr>\n",
       "      <th>8</th>\n",
       "      <td>1</td>\n",
       "      <td>62026</td>\n",
       "      <td>100.000000</td>\n",
       "      <td>2</td>\n",
       "    </tr>\n",
       "    <tr>\n",
       "      <th>9</th>\n",
       "      <td>1</td>\n",
       "      <td>62027</td>\n",
       "      <td>100.000000</td>\n",
       "      <td>2</td>\n",
       "    </tr>\n",
       "    <tr>\n",
       "      <th>10</th>\n",
       "      <td>2</td>\n",
       "      <td>23176</td>\n",
       "      <td>33.333333</td>\n",
       "      <td>36</td>\n",
       "    </tr>\n",
       "    <tr>\n",
       "      <th>11</th>\n",
       "      <td>2</td>\n",
       "      <td>23819</td>\n",
       "      <td>22.222222</td>\n",
       "      <td>36</td>\n",
       "    </tr>\n",
       "    <tr>\n",
       "      <th>12</th>\n",
       "      <td>2</td>\n",
       "      <td>49734</td>\n",
       "      <td>22.222222</td>\n",
       "      <td>36</td>\n",
       "    </tr>\n",
       "    <tr>\n",
       "      <th>13</th>\n",
       "      <td>2</td>\n",
       "      <td>23164</td>\n",
       "      <td>19.444444</td>\n",
       "      <td>36</td>\n",
       "    </tr>\n",
       "    <tr>\n",
       "      <th>14</th>\n",
       "      <td>2</td>\n",
       "      <td>23172</td>\n",
       "      <td>19.444444</td>\n",
       "      <td>36</td>\n",
       "    </tr>\n",
       "    <tr>\n",
       "      <th>15</th>\n",
       "      <td>3</td>\n",
       "      <td>943</td>\n",
       "      <td>77.058824</td>\n",
       "      <td>340</td>\n",
       "    </tr>\n",
       "    <tr>\n",
       "      <th>16</th>\n",
       "      <td>3</td>\n",
       "      <td>938</td>\n",
       "      <td>75.294118</td>\n",
       "      <td>340</td>\n",
       "    </tr>\n",
       "    <tr>\n",
       "      <th>17</th>\n",
       "      <td>3</td>\n",
       "      <td>941</td>\n",
       "      <td>74.117647</td>\n",
       "      <td>340</td>\n",
       "    </tr>\n",
       "    <tr>\n",
       "      <th>18</th>\n",
       "      <td>3</td>\n",
       "      <td>613</td>\n",
       "      <td>71.764706</td>\n",
       "      <td>340</td>\n",
       "    </tr>\n",
       "    <tr>\n",
       "      <th>19</th>\n",
       "      <td>3</td>\n",
       "      <td>968</td>\n",
       "      <td>71.176471</td>\n",
       "      <td>340</td>\n",
       "    </tr>\n",
       "    <tr>\n",
       "      <th>20</th>\n",
       "      <td>4</td>\n",
       "      <td>80632</td>\n",
       "      <td>50.000000</td>\n",
       "      <td>6</td>\n",
       "    </tr>\n",
       "    <tr>\n",
       "      <th>21</th>\n",
       "      <td>4</td>\n",
       "      <td>80723</td>\n",
       "      <td>50.000000</td>\n",
       "      <td>6</td>\n",
       "    </tr>\n",
       "    <tr>\n",
       "      <th>22</th>\n",
       "      <td>4</td>\n",
       "      <td>139433</td>\n",
       "      <td>50.000000</td>\n",
       "      <td>6</td>\n",
       "    </tr>\n",
       "    <tr>\n",
       "      <th>23</th>\n",
       "      <td>4</td>\n",
       "      <td>210803</td>\n",
       "      <td>50.000000</td>\n",
       "      <td>6</td>\n",
       "    </tr>\n",
       "    <tr>\n",
       "      <th>24</th>\n",
       "      <td>4</td>\n",
       "      <td>264072</td>\n",
       "      <td>50.000000</td>\n",
       "      <td>6</td>\n",
       "    </tr>\n",
       "    <tr>\n",
       "      <th>25</th>\n",
       "      <td>5</td>\n",
       "      <td>536</td>\n",
       "      <td>53.484321</td>\n",
       "      <td>574</td>\n",
       "    </tr>\n",
       "    <tr>\n",
       "      <th>26</th>\n",
       "      <td>5</td>\n",
       "      <td>1473</td>\n",
       "      <td>36.585366</td>\n",
       "      <td>574</td>\n",
       "    </tr>\n",
       "    <tr>\n",
       "      <th>27</th>\n",
       "      <td>5</td>\n",
       "      <td>1387</td>\n",
       "      <td>31.881533</td>\n",
       "      <td>574</td>\n",
       "    </tr>\n",
       "    <tr>\n",
       "      <th>28</th>\n",
       "      <td>5</td>\n",
       "      <td>1605</td>\n",
       "      <td>31.707317</td>\n",
       "      <td>574</td>\n",
       "    </tr>\n",
       "    <tr>\n",
       "      <th>29</th>\n",
       "      <td>5</td>\n",
       "      <td>1000</td>\n",
       "      <td>30.836237</td>\n",
       "      <td>574</td>\n",
       "    </tr>\n",
       "  </tbody>\n",
       "</table>\n",
       "</div>"
      ],
      "text/plain": [
       "    comm_id  book_id     percent  comm_size\n",
       "0         0      786   28.110599        868\n",
       "1         0      821   22.580645        868\n",
       "2         0      943   21.428571        868\n",
       "3         0     1012   20.852535        868\n",
       "4         0      858   20.506912        868\n",
       "5         1    25883  100.000000          2\n",
       "6         1    27949  100.000000          2\n",
       "7         1    52388  100.000000          2\n",
       "8         1    62026  100.000000          2\n",
       "9         1    62027  100.000000          2\n",
       "10        2    23176   33.333333         36\n",
       "11        2    23819   22.222222         36\n",
       "12        2    49734   22.222222         36\n",
       "13        2    23164   19.444444         36\n",
       "14        2    23172   19.444444         36\n",
       "15        3      943   77.058824        340\n",
       "16        3      938   75.294118        340\n",
       "17        3      941   74.117647        340\n",
       "18        3      613   71.764706        340\n",
       "19        3      968   71.176471        340\n",
       "20        4    80632   50.000000          6\n",
       "21        4    80723   50.000000          6\n",
       "22        4   139433   50.000000          6\n",
       "23        4   210803   50.000000          6\n",
       "24        4   264072   50.000000          6\n",
       "25        5      536   53.484321        574\n",
       "26        5     1473   36.585366        574\n",
       "27        5     1387   31.881533        574\n",
       "28        5     1605   31.707317        574\n",
       "29        5     1000   30.836237        574"
      ]
     },
     "execution_count": 45,
     "metadata": {},
     "output_type": "execute_result"
    }
   ],
   "source": [
    "ex8_topreads = load_df_from_file('ex8-output.df')\n",
    "ex8_topreads"
   ]
  },
  {
   "cell_type": "markdown",
   "metadata": {
    "deletable": false,
    "editable": false,
    "nbgrader": {
     "grade": false,
     "locked": true,
     "solution": false
    },
    "tags": [
     "test_data_boilerplate"
    ]
   },
   "source": [
    "<!-- Test Cell Boilerplate -->\n",
    "The cell below will test your solution for Exercise 8. The testing variables will be available for debugging under the following names in a dictionary format.\n",
    "- `input_vars` - Input variables for your solution. \n",
    "- `original_input_vars` - Copy of input variables from prior to running your solution. These _should_ be the same as `input_vars` - otherwise the inputs were modified by your solution.\n",
    "- `returned_output_vars` - Outputs returned by your solution.\n",
    "- `true_output_vars` - The expected output. This _should_ \"match\" `returned_output_vars` based on the question requirements - otherwise, your solution is not returning the correct output. "
   ]
  },
  {
   "cell_type": "code",
   "execution_count": 46,
   "metadata": {
    "ExecuteTime": {
     "end_time": "2023-03-30T22:24:33.724342Z",
     "start_time": "2023-03-30T22:24:33.118868Z"
    },
    "deletable": false,
    "editable": false,
    "nbgrader": {
     "grade": true,
     "grade_id": "ex8",
     "locked": true,
     "points": "3",
     "solution": false
    },
    "tags": []
   },
   "outputs": [
    {
     "name": "stdout",
     "output_type": "stream",
     "text": [
      "Passed! Please submit.\n"
     ]
    }
   ],
   "source": [
    "### test_cell_ex8\n",
    "###\n",
    "### AUTOGRADER TEST - DO NOT REMOVE\n",
    "###\n",
    "from tester_fw.testers import Tester\n",
    "\n",
    "conf = {\n",
    "    'case_file':'tc_8', \n",
    "    'func': get_topreads_by_community, # replace this with the function defined above\n",
    "    'inputs':{ # input config dict. keys are parameter names\n",
    "        'xcdf': {\n",
    "            'dtype': 'df', # data type of param.\n",
    "            'check_modified': True,\n",
    "        },\n",
    "        'rank': {\n",
    "            'dtype': 'int',\n",
    "            'check_modified': False\n",
    "        }\n",
    "    },\n",
    "    'outputs':{\n",
    "        'output_0':{\n",
    "            'index': 0,\n",
    "            'dtype': 'df',\n",
    "            'check_dtype': True,\n",
    "            'check_col_dtypes': True, # Ignored if dtype is not df\n",
    "            'check_col_order': False, # Ignored if dtype is not df\n",
    "            'check_row_order': False, # Ignored if dtype is not df\n",
    "            'float_tolerance': 10 ** (-6)\n",
    "        }\n",
    "    }\n",
    "}\n",
    "tester = Tester(conf, key=b'jpS7W-CpqAQfuITMEQZL-yVXfhIaCkSaei-emnyRtrI=', path='resource/asnlib/publicdata/')\n",
    "for _ in range(70):\n",
    "    try:\n",
    "        tester.run_test()\n",
    "        (input_vars, original_input_vars, returned_output_vars, true_output_vars) = tester.get_test_vars()\n",
    "    except:\n",
    "        (input_vars, original_input_vars, returned_output_vars, true_output_vars) = tester.get_test_vars()\n",
    "        raise\n",
    "\n",
    "###\n",
    "### AUTOGRADER TEST - DO NOT REMOVE\n",
    "###\n",
    "print('Passed! Please submit.')"
   ]
  },
  {
   "cell_type": "markdown",
   "metadata": {
    "deletable": false,
    "editable": false,
    "nbgrader": {
     "grade": false,
     "locked": true,
     "solution": false
    }
   },
   "source": [
    "# Part F (final part!): Merging inventory metadata #\n",
    "\n",
    "> Includes Exercises 9 and 10 (2 points each).\n",
    "\n",
    "\n",
    "To interpret the communities, we need to bring in some book-inventory metadata, like book titles and genres. Once we've done so, will the communities make sense?"
   ]
  },
  {
   "cell_type": "markdown",
   "metadata": {
    "deletable": false,
    "editable": false,
    "nbgrader": {
     "grade": false,
     "locked": true,
     "solution": false
    }
   },
   "source": [
    "## Genre vectors ##\n",
    "\n",
    "The original dataset includes information on _genres_ for each book:"
   ]
  },
  {
   "cell_type": "code",
   "execution_count": 47,
   "metadata": {
    "ExecuteTime": {
     "end_time": "2023-03-30T22:24:33.895548Z",
     "start_time": "2023-03-30T22:24:33.725382Z"
    },
    "deletable": false,
    "editable": false,
    "nbgrader": {
     "grade": false,
     "locked": true,
     "solution": false
    }
   },
   "outputs": [
    {
     "data": {
      "text/html": [
       "<div>\n",
       "<style scoped>\n",
       "    .dataframe tbody tr th:only-of-type {\n",
       "        vertical-align: middle;\n",
       "    }\n",
       "\n",
       "    .dataframe tbody tr th {\n",
       "        vertical-align: top;\n",
       "    }\n",
       "\n",
       "    .dataframe thead th {\n",
       "        text-align: right;\n",
       "    }\n",
       "</style>\n",
       "<table border=\"1\" class=\"dataframe\">\n",
       "  <thead>\n",
       "    <tr style=\"text-align: right;\">\n",
       "      <th></th>\n",
       "      <th>inv_id</th>\n",
       "      <th>genres</th>\n",
       "    </tr>\n",
       "  </thead>\n",
       "  <tbody>\n",
       "    <tr>\n",
       "      <th>0</th>\n",
       "      <td>6066819</td>\n",
       "      <td>{\"fiction\": 555, \"romance\": 23, \"mystery, thri...</td>\n",
       "    </tr>\n",
       "    <tr>\n",
       "      <th>1</th>\n",
       "      <td>89375</td>\n",
       "      <td>{\"non-fiction\": 534, \"history, historical fict...</td>\n",
       "    </tr>\n",
       "    <tr>\n",
       "      <th>2</th>\n",
       "      <td>89376</td>\n",
       "      <td>{\"non-fiction\": 163}</td>\n",
       "    </tr>\n",
       "    <tr>\n",
       "      <th>3</th>\n",
       "      <td>89377</td>\n",
       "      <td>{\"fiction\": 425, \"history, historical fiction,...</td>\n",
       "    </tr>\n",
       "    <tr>\n",
       "      <th>4</th>\n",
       "      <td>28492512</td>\n",
       "      <td>{\"fantasy, paranormal\": 1}</td>\n",
       "    </tr>\n",
       "    <tr>\n",
       "      <th>...</th>\n",
       "      <td>...</td>\n",
       "      <td>...</td>\n",
       "    </tr>\n",
       "    <tr>\n",
       "      <th>138628</th>\n",
       "      <td>6093345</td>\n",
       "      <td>{\"non-fiction\": 45, \"history, historical ficti...</td>\n",
       "    </tr>\n",
       "    <tr>\n",
       "      <th>138629</th>\n",
       "      <td>1885731</td>\n",
       "      <td>{\"fantasy, paranormal\": 54163, \"young-adult\": ...</td>\n",
       "    </tr>\n",
       "    <tr>\n",
       "      <th>138630</th>\n",
       "      <td>20997073</td>\n",
       "      <td>{\"romance\": 1}</td>\n",
       "    </tr>\n",
       "    <tr>\n",
       "      <th>138631</th>\n",
       "      <td>2527820</td>\n",
       "      <td>{\"mystery, thriller, crime\": 23, \"fiction\": 6,...</td>\n",
       "    </tr>\n",
       "    <tr>\n",
       "      <th>138632</th>\n",
       "      <td>17805813</td>\n",
       "      <td>{\"young-adult\": 25, \"fantasy, paranormal\": 47,...</td>\n",
       "    </tr>\n",
       "  </tbody>\n",
       "</table>\n",
       "<p>138633 rows × 2 columns</p>\n",
       "</div>"
      ],
      "text/plain": [
       "          inv_id                                             genres\n",
       "0        6066819  {\"fiction\": 555, \"romance\": 23, \"mystery, thri...\n",
       "1          89375  {\"non-fiction\": 534, \"history, historical fict...\n",
       "2          89376                               {\"non-fiction\": 163}\n",
       "3          89377  {\"fiction\": 425, \"history, historical fiction,...\n",
       "4       28492512                         {\"fantasy, paranormal\": 1}\n",
       "...          ...                                                ...\n",
       "138628   6093345  {\"non-fiction\": 45, \"history, historical ficti...\n",
       "138629   1885731  {\"fantasy, paranormal\": 54163, \"young-adult\": ...\n",
       "138630  20997073                                     {\"romance\": 1}\n",
       "138631   2527820  {\"mystery, thriller, crime\": 23, \"fiction\": 6,...\n",
       "138632  17805813  {\"young-adult\": 25, \"fantasy, paranormal\": 47,...\n",
       "\n",
       "[138633 rows x 2 columns]"
      ]
     },
     "execution_count": 47,
     "metadata": {},
     "output_type": "execute_result"
    }
   ],
   "source": [
    "genres = pd.read_sql(\"SELECT * FROM Genres\", grdbconn)\n",
    "genres"
   ]
  },
  {
   "cell_type": "markdown",
   "metadata": {
    "deletable": false,
    "editable": false,
    "nbgrader": {
     "grade": false,
     "locked": true,
     "solution": false
    }
   },
   "source": [
    "It's a bit messy, however: the genre information is stored as a JSON-formatted Python string encoding a **genre vector**:"
   ]
  },
  {
   "cell_type": "code",
   "execution_count": 48,
   "metadata": {
    "ExecuteTime": {
     "end_time": "2023-03-30T22:24:33.918656Z",
     "start_time": "2023-03-30T22:24:33.897585Z"
    },
    "deletable": false,
    "editable": false,
    "nbgrader": {
     "grade": false,
     "locked": true,
     "solution": false
    }
   },
   "outputs": [
    {
     "name": "stdout",
     "output_type": "stream",
     "text": [
      "* Type: `<class 'str'>`\n",
      "* Value: '{\"fiction\": 555, \"romance\": 23, \"mystery, thriller, crime\": 10}'\n"
     ]
    }
   ],
   "source": [
    "# Inspect the very first genre entry:\n",
    "print(f\"* Type: `{type(genres['genres'].iloc[0])}`\")\n",
    "print(f\"* Value: '{genres['genres'].iloc[0]}'\")"
   ]
  },
  {
   "cell_type": "markdown",
   "metadata": {
    "deletable": false,
    "editable": false,
    "nbgrader": {
     "grade": false,
     "locked": true,
     "solution": false
    }
   },
   "source": [
    "This genre vector says that this particular book mixes three genres: `fiction`, `romance`, and `\"mystery, thriller, crime\"` (considered a single genre). Each value measures the relevance of that genre to the book.\n",
    "\n",
    "> Roughly speaking, let's interpret `555` as meaning this book is 555 / (555+23+10) ~ 94.3% \"fiction\" and 23 / (555+23+10) ~ 3.9% \"romance.\""
   ]
  },
  {
   "cell_type": "markdown",
   "metadata": {
    "deletable": false,
    "editable": false,
    "nbgrader": {
     "grade": false,
     "locked": true,
     "solution": false
    }
   },
   "source": [
    "The database stores these as genre vectors as strings. However, we can easily convert them to Python dictionaries using the following helper function, `from_json_str`:"
   ]
  },
  {
   "cell_type": "code",
   "execution_count": 49,
   "metadata": {
    "ExecuteTime": {
     "end_time": "2023-03-30T22:24:33.941367Z",
     "start_time": "2023-03-30T22:24:33.919682Z"
    },
    "deletable": false,
    "editable": false,
    "nbgrader": {
     "grade": false,
     "locked": true,
     "solution": false
    }
   },
   "outputs": [
    {
     "name": "stdout",
     "output_type": "stream",
     "text": [
      "iloc 0: {'fiction': 555, 'romance': 23, 'mystery, thriller, crime': 10}\n",
      "iloc 1: {'non-fiction': 534, 'history, historical fiction, biography': 178, 'fiction': 16, 'comics, graphic': 6}\n"
     ]
    }
   ],
   "source": [
    "def from_json_str(s):\n",
    "    \"\"\"Parses the JSON string `s` and returns a Python object.\"\"\"\n",
    "    from json import loads\n",
    "    return loads(s)\n",
    "\n",
    "\n",
    "# Demo #\n",
    "\n",
    "print(\"iloc 0:\", from_json_str(genres['genres'].iloc[0]))\n",
    "print(\"iloc 1:\", from_json_str(genres['genres'].iloc[1]))"
   ]
  },
  {
   "cell_type": "markdown",
   "metadata": {
    "deletable": false,
    "editable": false,
    "nbgrader": {
     "grade": false,
     "locked": true,
     "solution": false
    }
   },
   "source": [
    "We will treat these as (mathematical) vectors that we can \"add.\" Here is a simple function to compute the sum of two genre vectors:"
   ]
  },
  {
   "cell_type": "code",
   "execution_count": 50,
   "metadata": {
    "ExecuteTime": {
     "end_time": "2023-03-30T22:24:33.966242Z",
     "start_time": "2023-03-30T22:24:33.942527Z"
    },
    "deletable": false,
    "editable": false,
    "nbgrader": {
     "grade": false,
     "locked": true,
     "solution": false
    }
   },
   "outputs": [
    {
     "data": {
      "text/plain": [
       "{'fiction': 571,\n",
       " 'romance': 23,\n",
       " 'mystery, thriller, crime': 10,\n",
       " 'non-fiction': 534,\n",
       " 'history, historical fiction, biography': 178,\n",
       " 'comics, graphic': 6}"
      ]
     },
     "execution_count": 50,
     "metadata": {},
     "output_type": "execute_result"
    }
   ],
   "source": [
    "def add_genre_vecs(x, y):\n",
    "    \"\"\"Returns the sum of two genre vectors.\"\"\"\n",
    "    from collections import defaultdict\n",
    "    z = defaultdict(int)\n",
    "    for k, v in x.items():\n",
    "        z[k] += v\n",
    "    for k, v in y.items():\n",
    "        z[k] += v\n",
    "    return dict(z) # Converts into a regular Python dict\n",
    "\n",
    "# Demo: start with two genre vectors, converted to `dict`:\n",
    "demo_genre_vec_a = from_json_str(genres['genres'].iloc[0])\n",
    "demo_genre_vec_b = from_json_str(genres['genres'].iloc[1])\n",
    "\n",
    "# Add them:\n",
    "add_genre_vecs(demo_genre_vec_a, demo_genre_vec_b)"
   ]
  },
  {
   "cell_type": "markdown",
   "metadata": {
    "deletable": false,
    "editable": false,
    "nbgrader": {
     "grade": false,
     "locked": true,
     "solution": false
    },
    "tags": [
     "exercise_text"
    ]
   },
   "source": [
    "## **Ex. 9 (2 pts)**: `merge_genre_vecs` ##\n",
    "\n",
    "Suppose you are given a pandas `Series` whose values are JSON strings encoding individual genre vectors. Complete the function,\n",
    "```python\n",
    "def merge_genre_vecs(series):\n",
    "    ...\n",
    "```\n",
    "so that it combines the genre vectors into a single, **normalized** genre vector.\n",
    "\n",
    "**Inputs:** The input is a `Series` object containing Python strings. Each string is a JSON-formatted genre vector.\n",
    "\n",
    "**Your task:**\n",
    "- Convert every JSON string into a Python dictionary. Use or adapt `from_json_str` from above.\n",
    "- Compute the \"sum\" of all these dictionaries. Use or adapt `add_genre_vecs` from above.\n",
    "\n",
    "The result of the previous two steps is a **single dictionary**. The final step is to _normalize_ this result. That is, divide each value of the result by the sum of all the values.\n",
    "\n",
    "**Outputs:** Your function should return the normalized genre vector as a Python dictionary.\n",
    "\n",
    "**Example:** Consider the following example input, a `Series` of JSON strings:"
   ]
  },
  {
   "cell_type": "code",
   "execution_count": 51,
   "metadata": {
    "ExecuteTime": {
     "end_time": "2023-03-30T22:24:33.989138Z",
     "start_time": "2023-03-30T22:24:33.967376Z"
    },
    "deletable": false,
    "editable": false,
    "nbgrader": {
     "grade": false,
     "locked": true,
     "solution": false
    },
    "tags": [
     "demo_data"
    ]
   },
   "outputs": [
    {
     "name": "stdout",
     "output_type": "stream",
     "text": [
      "0    {\"fiction\": 555, \"romance\": 23, \"mystery, thri...\n",
      "1    {\"non-fiction\": 534, \"history, historical fict...\n",
      "2                                 {\"non-fiction\": 163}\n",
      "3    {\"fiction\": 425, \"history, historical fiction,...\n",
      "4                           {\"fantasy, paranormal\": 1}\n",
      "dtype: object\n"
     ]
    }
   ],
   "source": [
    "### Define demo inputs ###\n",
    "\n",
    "demo_series_ex9 = pd.Series(\n",
    "    ['{\"fiction\": 555, \"romance\": 23, \"mystery, thriller, crime\": 10}',\n",
    "     '{\"non-fiction\": 534, \"history, historical fiction, biography\": 178, \"fiction\": 16, \"comics, graphic\": 6}',\n",
    "     '{\"non-fiction\": 163}',\n",
    "     '{\"fiction\": 425, \"history, historical fiction, biography\": 330, \"young-adult\": 93, \"children\": 190}',\n",
    "     '{\"fantasy, paranormal\": 1}'])\n",
    "\n",
    "print(demo_series_ex9)"
   ]
  },
  {
   "cell_type": "markdown",
   "metadata": {
    "deletable": false,
    "editable": false,
    "nbgrader": {
     "grade": false,
     "locked": true,
     "solution": false
    },
    "tags": [
     "demo_output_md"
    ]
   },
   "source": [
    "A correct `merge_genre_vecs` implementation should return the dictionary,\n",
    "\n",
    "```python\n",
    "{'fiction': 0.39461172741679873,\n",
    " 'romance': 0.009112519809825673,\n",
    " 'mystery, thriller, crime': 0.003961965134706815,\n",
    " 'non-fiction': 0.27614896988906495,\n",
    " 'history, historical fiction, biography': 0.20126782884310618,\n",
    " 'comics, graphic': 0.002377179080824089,\n",
    " 'young-adult': 0.036846275752773376,\n",
    " 'children': 0.07527733755942947,\n",
    " 'fantasy, paranormal': 0.0003961965134706815}\n",
    "```"
   ]
  },
  {
   "cell_type": "code",
   "execution_count": 52,
   "metadata": {
    "ExecuteTime": {
     "end_time": "2023-03-30T22:24:34.013349Z",
     "start_time": "2023-03-30T22:24:33.990117Z"
    },
    "tags": [
     "exercise_solution"
    ]
   },
   "outputs": [
    {
     "data": {
      "text/plain": [
       "{'fiction': 0.39461172741679873,\n",
       " 'romance': 0.009112519809825673,\n",
       " 'mystery, thriller, crime': 0.003961965134706815,\n",
       " 'non-fiction': 0.27614896988906495,\n",
       " 'history, historical fiction, biography': 0.20126782884310618,\n",
       " 'comics, graphic': 0.002377179080824089,\n",
       " 'young-adult': 0.036846275752773376,\n",
       " 'children': 0.07527733755942947,\n",
       " 'fantasy, paranormal': 0.0003961965134706815}"
      ]
     },
     "execution_count": 52,
     "metadata": {},
     "output_type": "execute_result"
    }
   ],
   "source": [
    "### Exercise 9 solution\n",
    "def merge_genre_vecs(series):\n",
    "    ###\n",
    "    lstOfJson = []\n",
    "    for json in series:\n",
    "        value = from_json_str(json)\n",
    "        lstOfJson.append(value)\n",
    "    \n",
    "    if len(lstOfJson) < 2:\n",
    "        finalDict = lstOfJson[0]\n",
    "        normalizer = sum(finalDict.values())\n",
    "        for key in finalDict:\n",
    "            finalDict[key] = finalDict[key]/normalizer\n",
    "            \n",
    "        return finalDict\n",
    "    else:\n",
    "        totalSum = add_genre_vecs(lstOfJson[0],lstOfJson[1])\n",
    "        if len(lstOfJson) > 2:\n",
    "            for vector in range(2, len(lstOfJson)):\n",
    "                totalSum = add_genre_vecs(totalSum, lstOfJson[vector])\n",
    "        else:\n",
    "            pass\n",
    "\n",
    "    normalizer = sum(totalSum.values())\n",
    "    for key in totalSum:\n",
    "            totalSum[key] = totalSum[key]/normalizer\n",
    "\n",
    "    return (totalSum)\n",
    "    \n",
    "    ###\n",
    "    \n",
    "### demo function call ###\n",
    "merge_genre_vecs(demo_series_ex9)\n"
   ]
  },
  {
   "cell_type": "markdown",
   "metadata": {
    "deletable": false,
    "editable": false,
    "nbgrader": {
     "grade": false,
     "locked": true,
     "solution": false
    },
    "tags": [
     "test_data_boilerplate"
    ]
   },
   "source": [
    "<!-- Test Cell Boilerplate -->\n",
    "The cell below will test your solution for Exercise 9. The testing variables will be available for debugging under the following names in a dictionary format.\n",
    "- `input_vars` - Input variables for your solution. \n",
    "- `original_input_vars` - Copy of input variables from prior to running your solution. These _should_ be the same as `input_vars` - otherwise the inputs were modified by your solution.\n",
    "- `returned_output_vars` - Outputs returned by your solution.\n",
    "- `true_output_vars` - The expected output. This _should_ \"match\" `returned_output_vars` based on the question requirements - otherwise, your solution is not returning the correct output. "
   ]
  },
  {
   "cell_type": "code",
   "execution_count": 53,
   "metadata": {
    "ExecuteTime": {
     "end_time": "2023-03-30T22:24:34.291949Z",
     "start_time": "2023-03-30T22:24:34.235510Z"
    },
    "deletable": false,
    "editable": false,
    "nbgrader": {
     "grade": true,
     "grade_id": "ex9",
     "locked": true,
     "points": "2",
     "solution": false
    },
    "tags": []
   },
   "outputs": [
    {
     "name": "stdout",
     "output_type": "stream",
     "text": [
      "Passed! Please submit.\n"
     ]
    }
   ],
   "source": [
    "### test_cell_ex9\n",
    "###\n",
    "### AUTOGRADER TEST - DO NOT REMOVE\n",
    "###\n",
    "from tester_fw.testers import Tester\n",
    "\n",
    "conf = {\n",
    "    'case_file':'tc_9', \n",
    "    'func': merge_genre_vecs, # replace this with the function defined above\n",
    "    'inputs': { # input config dict. keys are parameter names\n",
    "        'series': {\n",
    "            'dtype':'series', # data type of param.\n",
    "            'check_modified':True,\n",
    "        }\n",
    "    },\n",
    "    'outputs':{\n",
    "        'output_0':{\n",
    "            'index': 0,\n",
    "            'dtype': 'dict',\n",
    "            'check_dtype': True,\n",
    "            'check_col_dtypes': True, # Ignored if dtype is not df\n",
    "            'check_col_order': True, # Ignored if dtype is not df\n",
    "            'check_row_order': True, # Ignored if dtype is not df\n",
    "            'float_tolerance': 10 ** (-6)\n",
    "        }\n",
    "    }\n",
    "}\n",
    "tester = Tester(conf, key=b'jpS7W-CpqAQfuITMEQZL-yVXfhIaCkSaei-emnyRtrI=', path='resource/asnlib/publicdata/')\n",
    "for _ in range(70):\n",
    "    try:\n",
    "        tester.run_test()\n",
    "        (input_vars, original_input_vars, returned_output_vars, true_output_vars) = tester.get_test_vars()\n",
    "    except:\n",
    "        (input_vars, original_input_vars, returned_output_vars, true_output_vars) = tester.get_test_vars()\n",
    "        raise\n",
    "\n",
    "###\n",
    "### AUTOGRADER TEST - DO NOT REMOVE\n",
    "###\n",
    "print('Passed! Please submit.')"
   ]
  },
  {
   "cell_type": "markdown",
   "metadata": {
    "deletable": false,
    "editable": false,
    "nbgrader": {
     "grade": false,
     "locked": true,
     "solution": false
    },
    "tags": [
     "exercise_text"
    ]
   },
   "source": [
    "## **Ex. 10 (2 pts)**: `combine_all_data` ##\n",
    "\n",
    "The final step in our analysis is to combine several pieces of information into a final `DataFrame`. In particular, we'd like to take the \"top reads\" results from Exercise 8 and add in (a) book titles and (b) book genres. Complete the function so that it carries out this task.\n",
    "\n",
    "```python\n",
    "def combine_all_data(topdf, book2inv, invdf, genresdf):\n",
    "    ...\n",
    "```\n",
    "\n",
    "**Inputs:** The inputs consist of **four** `DataFrame` objects.\n",
    "- **`topdf`**: A dataframe of the top reads by community (e.g., from Ex. 8). Its columns are:\n",
    "  * `'comm_id'`: An integer community ID\n",
    "  * `'book_id'`: An integer book ID\n",
    "  * `'comm_size'`: The number of users in the community\n",
    "  * `'percent'`: The percentage of community users that read the given book\n",
    "- **`book2inv`**: A dataframe to convert book IDs into _\"inventory IDs.\"_ It has two columns:\n",
    "  * `'book_id'`: An integer book ID\n",
    "  * `'inv_id'`: An inventory ID, which can be used to link the book to its title and genre\n",
    "- **`invdf`**: An inventory of books. Its columns include:\n",
    "  * `'inv_id'`: An integer inventory ID\n",
    "  * `'title'`: The book's title, a string\n",
    "  * `'description'`: A brief description of the book\n",
    "- **`genres`**: Genre vectors, encoded as JSON strings. Its columns are:\n",
    "  * `'inv_id'`: The integer inventory ID\n",
    "  * `'genres'`: The genre vector (as a JSON string)\n",
    "\n",
    "**Your task:** Merge all of this data into a single `DataFrame`. You should perform a series of left-merges (pandas equivalent of left-joins), starting with `topdf`, using either `book_id` or `inv_id` to link the dataframes. By doing left-joins, you will preserve all the rows of `topdf`.\n",
    "\n",
    "**Outputs:** Your function should return the `DataFrame`. It will have only the columns listed above: `'comm_id'`, `'book_id'`, `'comm_size'`, `'percent'`, `'inv_id'`, `'title'`, `'description'`, `'genres'`.\n",
    "\n",
    "**Additional notes:** You do not need to convert any of the fields, you just need to arrange the merges correctly.\n",
    "\n",
    "**Example:** The following cell loads some demo inputs that you can use for testing and debugging. (Because there are several of these, we have refrained from printing them. However, you can use the next cell to write code to explore them.)"
   ]
  },
  {
   "cell_type": "code",
   "execution_count": 54,
   "metadata": {
    "ExecuteTime": {
     "end_time": "2023-03-30T22:24:34.315311Z",
     "start_time": "2023-03-30T22:24:34.292931Z"
    },
    "collapsed": true,
    "deletable": false,
    "editable": false,
    "nbgrader": {
     "grade": false,
     "locked": true,
     "solution": false
    },
    "tags": [
     "demo_data"
    ]
   },
   "outputs": [],
   "source": [
    "### Define demo inputs ###\n",
    "\n",
    "demo_topdf_ex10 = load_df_from_file(\"demo_ex10-topdf.df\")\n",
    "demo_book2inv_ex10 = load_df_from_file(\"demo_ex10-book2inv.df\")\n",
    "demo_invdf_ex10 = load_df_from_file(\"demo_ex10-invdf.df\")\n",
    "demo_genresdf_ex10 = load_df_from_file(\"demo_ex10-genresdf.df\")"
   ]
  },
  {
   "cell_type": "code",
   "execution_count": 55,
   "metadata": {
    "ExecuteTime": {
     "end_time": "2023-03-30T22:24:34.336344Z",
     "start_time": "2023-03-30T22:24:34.316301Z"
    },
    "collapsed": true
   },
   "outputs": [],
   "source": [
    "# Use this cell to `display`, `print`, or otherwise explore those demo inputs"
   ]
  },
  {
   "cell_type": "markdown",
   "metadata": {
    "deletable": false,
    "editable": false,
    "nbgrader": {
     "grade": false,
     "locked": true,
     "solution": false
    },
    "tags": [
     "demo_output_md"
    ]
   },
   "source": [
    "A correctly functioning `combine_all_data` will produce the following output on the demo inputs:\n",
    "\n",
    "|   comm_id |   book_id |   comm_size |   percent |   inv_id | title                                                       | description   | genres                                                                                                                     |\n",
    "|----------:|----------:|------------:|----------:|---------:|:------------------------------------------------------------|:--------------|:---------------------------------------------------------------------------------------------------------------------------|\n",
    "|         0 |       821 |         868 |   22.5806 |     5470 | 1984                                                        | The year 1... | {\"fiction\": 25686, \"fantasy, paranormal\": 1776, \"young-adult\": 233}                                                        |\n",
    "|         0 |       943 |         868 |   21.4286 |        3 | Harry Potter and the Sorcerer's Stone (Harry Potter, #1)    | Harry Pott... | {\"fantasy, paranormal\": 54156, \"young-adult\": 17058, \"fiction\": 15016, \"children\": 11213, \"mystery, thriller, crime\": 668} |\n",
    "|         2 |     49734 |          36 |   22.2222 |  6604887 | أنت لي                                                      |               | {\"romance\": 31, \"fiction\": 9}                                                                                              |\n",
    "|         2 |     23164 |          36 |   19.4444 |  7704143 | تراب الماس                                                  | \"llmr@ lth... | {\"fiction\": 27, \"mystery, thriller, crime\": 32}                                                                            |\n",
    "|         3 |       943 |         340 |   77.0588 |        3 | Harry Potter and the Sorcerer's Stone (Harry Potter, #1)    | Harry Pott... | {\"fantasy, paranormal\": 54156, \"young-adult\": 17058, \"fiction\": 15016, \"children\": 11213, \"mystery, thriller, crime\": 668} |\n",
    "|         3 |       941 |         340 |   74.1176 |        5 | Harry Potter and the Prisoner of Azkaban (Harry Potter, #3) | Harry Pott... | {\"fiction\": 12103, \"children\": 8558, \"fantasy, paranormal\": 4639, \"young-adult\": 1513, \"mystery, thriller, crime\": 537}    |\n",
    "|         4 |    139433 |           6 |   50      |   148849 | شازده کوچولو                                                | shzdh khwc... | {\"fiction\": 5481, \"fantasy, paranormal\": 3847, \"children\": 8886, \"young-adult\": 1127}                                      |"
   ]
  },
  {
   "cell_type": "code",
   "execution_count": 56,
   "metadata": {
    "ExecuteTime": {
     "end_time": "2023-03-30T22:24:34.365580Z",
     "start_time": "2023-03-30T22:24:34.337232Z"
    },
    "tags": [
     "exercise_solution"
    ]
   },
   "outputs": [
    {
     "name": "stderr",
     "output_type": "stream",
     "text": [
      "<ipython-input-56-1843b16cd00b>:8: FutureWarning: In a future version of pandas all arguments of DataFrame.drop except for the argument 'labels' will be keyword-only.\n",
      "  df = df.drop(df.columns.difference(values), 1, inplace=False)\n"
     ]
    },
    {
     "data": {
      "text/html": [
       "<div>\n",
       "<style scoped>\n",
       "    .dataframe tbody tr th:only-of-type {\n",
       "        vertical-align: middle;\n",
       "    }\n",
       "\n",
       "    .dataframe tbody tr th {\n",
       "        vertical-align: top;\n",
       "    }\n",
       "\n",
       "    .dataframe thead th {\n",
       "        text-align: right;\n",
       "    }\n",
       "</style>\n",
       "<table border=\"1\" class=\"dataframe\">\n",
       "  <thead>\n",
       "    <tr style=\"text-align: right;\">\n",
       "      <th></th>\n",
       "      <th>comm_id</th>\n",
       "      <th>book_id</th>\n",
       "      <th>comm_size</th>\n",
       "      <th>percent</th>\n",
       "      <th>inv_id</th>\n",
       "      <th>description</th>\n",
       "      <th>title</th>\n",
       "      <th>genres</th>\n",
       "    </tr>\n",
       "  </thead>\n",
       "  <tbody>\n",
       "    <tr>\n",
       "      <th>0</th>\n",
       "      <td>2</td>\n",
       "      <td>23164</td>\n",
       "      <td>36</td>\n",
       "      <td>19.444444</td>\n",
       "      <td>7704143</td>\n",
       "      <td>\"llmr@ lthny@ b`d \"fyrtyjw\" ytWkhdh 'Hmd mrd m...</td>\n",
       "      <td>تراب الماس</td>\n",
       "      <td>{\"fiction\": 27, \"mystery, thriller, crime\": 32}</td>\n",
       "    </tr>\n",
       "    <tr>\n",
       "      <th>1</th>\n",
       "      <td>3</td>\n",
       "      <td>941</td>\n",
       "      <td>340</td>\n",
       "      <td>74.117647</td>\n",
       "      <td>5</td>\n",
       "      <td>Harry Potter's third year at Hogwarts is full ...</td>\n",
       "      <td>Harry Potter and the Prisoner of Azkaban (Harr...</td>\n",
       "      <td>{\"fiction\": 12103, \"children\": 8558, \"fantasy,...</td>\n",
       "    </tr>\n",
       "    <tr>\n",
       "      <th>2</th>\n",
       "      <td>4</td>\n",
       "      <td>139433</td>\n",
       "      <td>6</td>\n",
       "      <td>50.000000</td>\n",
       "      <td>148849</td>\n",
       "      <td>shzdh khwchwlw skhn syrhy khwchkhy bh ndzhy yk...</td>\n",
       "      <td>شازده کوچولو</td>\n",
       "      <td>{\"fiction\": 5481, \"fantasy, paranormal\": 3847,...</td>\n",
       "    </tr>\n",
       "    <tr>\n",
       "      <th>3</th>\n",
       "      <td>2</td>\n",
       "      <td>49734</td>\n",
       "      <td>36</td>\n",
       "      <td>22.222222</td>\n",
       "      <td>6604887</td>\n",
       "      <td></td>\n",
       "      <td>أنت لي</td>\n",
       "      <td>{\"romance\": 31, \"fiction\": 9}</td>\n",
       "    </tr>\n",
       "    <tr>\n",
       "      <th>4</th>\n",
       "      <td>0</td>\n",
       "      <td>821</td>\n",
       "      <td>868</td>\n",
       "      <td>22.580645</td>\n",
       "      <td>5470</td>\n",
       "      <td>The year 1984 has come and gone, but George Or...</td>\n",
       "      <td>1984</td>\n",
       "      <td>{\"fiction\": 25686, \"fantasy, paranormal\": 1776...</td>\n",
       "    </tr>\n",
       "    <tr>\n",
       "      <th>5</th>\n",
       "      <td>3</td>\n",
       "      <td>943</td>\n",
       "      <td>340</td>\n",
       "      <td>77.058824</td>\n",
       "      <td>3</td>\n",
       "      <td>Harry Potter's life is miserable. His parents ...</td>\n",
       "      <td>Harry Potter and the Sorcerer's Stone (Harry P...</td>\n",
       "      <td>{\"fantasy, paranormal\": 54156, \"young-adult\": ...</td>\n",
       "    </tr>\n",
       "    <tr>\n",
       "      <th>6</th>\n",
       "      <td>0</td>\n",
       "      <td>943</td>\n",
       "      <td>868</td>\n",
       "      <td>21.428571</td>\n",
       "      <td>3</td>\n",
       "      <td>Harry Potter's life is miserable. His parents ...</td>\n",
       "      <td>Harry Potter and the Sorcerer's Stone (Harry P...</td>\n",
       "      <td>{\"fantasy, paranormal\": 54156, \"young-adult\": ...</td>\n",
       "    </tr>\n",
       "  </tbody>\n",
       "</table>\n",
       "</div>"
      ],
      "text/plain": [
       "   comm_id  book_id  comm_size    percent   inv_id  \\\n",
       "0        2    23164         36  19.444444  7704143   \n",
       "1        3      941        340  74.117647        5   \n",
       "2        4   139433          6  50.000000   148849   \n",
       "3        2    49734         36  22.222222  6604887   \n",
       "4        0      821        868  22.580645     5470   \n",
       "5        3      943        340  77.058824        3   \n",
       "6        0      943        868  21.428571        3   \n",
       "\n",
       "                                         description  \\\n",
       "0  \"llmr@ lthny@ b`d \"fyrtyjw\" ytWkhdh 'Hmd mrd m...   \n",
       "1  Harry Potter's third year at Hogwarts is full ...   \n",
       "2  shzdh khwchwlw skhn syrhy khwchkhy bh ndzhy yk...   \n",
       "3                                                      \n",
       "4  The year 1984 has come and gone, but George Or...   \n",
       "5  Harry Potter's life is miserable. His parents ...   \n",
       "6  Harry Potter's life is miserable. His parents ...   \n",
       "\n",
       "                                               title  \\\n",
       "0                                         تراب الماس   \n",
       "1  Harry Potter and the Prisoner of Azkaban (Harr...   \n",
       "2                                       شازده کوچولو   \n",
       "3                                             أنت لي   \n",
       "4                                               1984   \n",
       "5  Harry Potter and the Sorcerer's Stone (Harry P...   \n",
       "6  Harry Potter and the Sorcerer's Stone (Harry P...   \n",
       "\n",
       "                                              genres  \n",
       "0    {\"fiction\": 27, \"mystery, thriller, crime\": 32}  \n",
       "1  {\"fiction\": 12103, \"children\": 8558, \"fantasy,...  \n",
       "2  {\"fiction\": 5481, \"fantasy, paranormal\": 3847,...  \n",
       "3                      {\"romance\": 31, \"fiction\": 9}  \n",
       "4  {\"fiction\": 25686, \"fantasy, paranormal\": 1776...  \n",
       "5  {\"fantasy, paranormal\": 54156, \"young-adult\": ...  \n",
       "6  {\"fantasy, paranormal\": 54156, \"young-adult\": ...  "
      ]
     },
     "execution_count": 56,
     "metadata": {},
     "output_type": "execute_result"
    }
   ],
   "source": [
    "### Exercise 10 solution\n",
    "def combine_all_data(topdf, book2inv, invdf, genresdf):\n",
    "    ###\n",
    "    df = topdf.merge(book2inv, on='book_id', how='left')\n",
    "    df = df.merge(invdf, on='inv_id', how='left')\n",
    "    df = df.merge(genresdf, on='inv_id', how='left')\n",
    "    values = ['comm_id', 'book_id', 'comm_size', 'percent', 'inv_id', 'title', 'description', 'genres']\n",
    "    df = df.drop(df.columns.difference(values), 1, inplace=False)\n",
    "    return df\n",
    "    \n",
    "    ###\n",
    "    \n",
    "### demo function call ###\n",
    "combine_all_data(demo_topdf_ex10, demo_book2inv_ex10, demo_invdf_ex10, demo_genresdf_ex10)"
   ]
  },
  {
   "cell_type": "markdown",
   "metadata": {
    "deletable": false,
    "editable": false,
    "nbgrader": {
     "grade": false,
     "locked": true,
     "solution": false
    },
    "tags": [
     "test_data_boilerplate"
    ]
   },
   "source": [
    "<!-- Test Cell Boilerplate -->\n",
    "The cell below will test your solution for Exercise 10. The testing variables will be available for debugging under the following names in a dictionary format.\n",
    "- `input_vars` - Input variables for your solution. \n",
    "- `original_input_vars` - Copy of input variables from prior to running your solution. These _should_ be the same as `input_vars` - otherwise the inputs were modified by your solution.\n",
    "- `returned_output_vars` - Outputs returned by your solution.\n",
    "- `true_output_vars` - The expected output. This _should_ \"match\" `returned_output_vars` based on the question requirements - otherwise, your solution is not returning the correct output. "
   ]
  },
  {
   "cell_type": "code",
   "execution_count": 57,
   "metadata": {
    "ExecuteTime": {
     "end_time": "2023-03-30T22:24:41.906350Z",
     "start_time": "2023-03-30T22:24:41.097923Z"
    },
    "deletable": false,
    "editable": false,
    "nbgrader": {
     "grade": true,
     "grade_id": "ex10",
     "locked": true,
     "points": "2",
     "solution": false
    },
    "tags": []
   },
   "outputs": [
    {
     "name": "stderr",
     "output_type": "stream",
     "text": [
      "<ipython-input-56-1843b16cd00b>:8: FutureWarning: In a future version of pandas all arguments of DataFrame.drop except for the argument 'labels' will be keyword-only.\n",
      "  df = df.drop(df.columns.difference(values), 1, inplace=False)\n",
      "<ipython-input-56-1843b16cd00b>:8: FutureWarning: In a future version of pandas all arguments of DataFrame.drop except for the argument 'labels' will be keyword-only.\n",
      "  df = df.drop(df.columns.difference(values), 1, inplace=False)\n",
      "<ipython-input-56-1843b16cd00b>:8: FutureWarning: In a future version of pandas all arguments of DataFrame.drop except for the argument 'labels' will be keyword-only.\n",
      "  df = df.drop(df.columns.difference(values), 1, inplace=False)\n",
      "<ipython-input-56-1843b16cd00b>:8: FutureWarning: In a future version of pandas all arguments of DataFrame.drop except for the argument 'labels' will be keyword-only.\n",
      "  df = df.drop(df.columns.difference(values), 1, inplace=False)\n",
      "<ipython-input-56-1843b16cd00b>:8: FutureWarning: In a future version of pandas all arguments of DataFrame.drop except for the argument 'labels' will be keyword-only.\n",
      "  df = df.drop(df.columns.difference(values), 1, inplace=False)\n",
      "<ipython-input-56-1843b16cd00b>:8: FutureWarning: In a future version of pandas all arguments of DataFrame.drop except for the argument 'labels' will be keyword-only.\n",
      "  df = df.drop(df.columns.difference(values), 1, inplace=False)\n",
      "<ipython-input-56-1843b16cd00b>:8: FutureWarning: In a future version of pandas all arguments of DataFrame.drop except for the argument 'labels' will be keyword-only.\n",
      "  df = df.drop(df.columns.difference(values), 1, inplace=False)\n",
      "<ipython-input-56-1843b16cd00b>:8: FutureWarning: In a future version of pandas all arguments of DataFrame.drop except for the argument 'labels' will be keyword-only.\n",
      "  df = df.drop(df.columns.difference(values), 1, inplace=False)\n",
      "<ipython-input-56-1843b16cd00b>:8: FutureWarning: In a future version of pandas all arguments of DataFrame.drop except for the argument 'labels' will be keyword-only.\n",
      "  df = df.drop(df.columns.difference(values), 1, inplace=False)\n",
      "<ipython-input-56-1843b16cd00b>:8: FutureWarning: In a future version of pandas all arguments of DataFrame.drop except for the argument 'labels' will be keyword-only.\n",
      "  df = df.drop(df.columns.difference(values), 1, inplace=False)\n",
      "<ipython-input-56-1843b16cd00b>:8: FutureWarning: In a future version of pandas all arguments of DataFrame.drop except for the argument 'labels' will be keyword-only.\n",
      "  df = df.drop(df.columns.difference(values), 1, inplace=False)\n",
      "<ipython-input-56-1843b16cd00b>:8: FutureWarning: In a future version of pandas all arguments of DataFrame.drop except for the argument 'labels' will be keyword-only.\n",
      "  df = df.drop(df.columns.difference(values), 1, inplace=False)\n",
      "<ipython-input-56-1843b16cd00b>:8: FutureWarning: In a future version of pandas all arguments of DataFrame.drop except for the argument 'labels' will be keyword-only.\n",
      "  df = df.drop(df.columns.difference(values), 1, inplace=False)\n",
      "<ipython-input-56-1843b16cd00b>:8: FutureWarning: In a future version of pandas all arguments of DataFrame.drop except for the argument 'labels' will be keyword-only.\n",
      "  df = df.drop(df.columns.difference(values), 1, inplace=False)\n",
      "<ipython-input-56-1843b16cd00b>:8: FutureWarning: In a future version of pandas all arguments of DataFrame.drop except for the argument 'labels' will be keyword-only.\n",
      "  df = df.drop(df.columns.difference(values), 1, inplace=False)\n",
      "<ipython-input-56-1843b16cd00b>:8: FutureWarning: In a future version of pandas all arguments of DataFrame.drop except for the argument 'labels' will be keyword-only.\n",
      "  df = df.drop(df.columns.difference(values), 1, inplace=False)\n",
      "<ipython-input-56-1843b16cd00b>:8: FutureWarning: In a future version of pandas all arguments of DataFrame.drop except for the argument 'labels' will be keyword-only.\n",
      "  df = df.drop(df.columns.difference(values), 1, inplace=False)\n",
      "<ipython-input-56-1843b16cd00b>:8: FutureWarning: In a future version of pandas all arguments of DataFrame.drop except for the argument 'labels' will be keyword-only.\n",
      "  df = df.drop(df.columns.difference(values), 1, inplace=False)\n",
      "<ipython-input-56-1843b16cd00b>:8: FutureWarning: In a future version of pandas all arguments of DataFrame.drop except for the argument 'labels' will be keyword-only.\n",
      "  df = df.drop(df.columns.difference(values), 1, inplace=False)\n",
      "<ipython-input-56-1843b16cd00b>:8: FutureWarning: In a future version of pandas all arguments of DataFrame.drop except for the argument 'labels' will be keyword-only.\n",
      "  df = df.drop(df.columns.difference(values), 1, inplace=False)\n",
      "<ipython-input-56-1843b16cd00b>:8: FutureWarning: In a future version of pandas all arguments of DataFrame.drop except for the argument 'labels' will be keyword-only.\n",
      "  df = df.drop(df.columns.difference(values), 1, inplace=False)\n",
      "<ipython-input-56-1843b16cd00b>:8: FutureWarning: In a future version of pandas all arguments of DataFrame.drop except for the argument 'labels' will be keyword-only.\n",
      "  df = df.drop(df.columns.difference(values), 1, inplace=False)\n",
      "<ipython-input-56-1843b16cd00b>:8: FutureWarning: In a future version of pandas all arguments of DataFrame.drop except for the argument 'labels' will be keyword-only.\n",
      "  df = df.drop(df.columns.difference(values), 1, inplace=False)\n",
      "<ipython-input-56-1843b16cd00b>:8: FutureWarning: In a future version of pandas all arguments of DataFrame.drop except for the argument 'labels' will be keyword-only.\n",
      "  df = df.drop(df.columns.difference(values), 1, inplace=False)\n",
      "<ipython-input-56-1843b16cd00b>:8: FutureWarning: In a future version of pandas all arguments of DataFrame.drop except for the argument 'labels' will be keyword-only.\n",
      "  df = df.drop(df.columns.difference(values), 1, inplace=False)\n",
      "<ipython-input-56-1843b16cd00b>:8: FutureWarning: In a future version of pandas all arguments of DataFrame.drop except for the argument 'labels' will be keyword-only.\n",
      "  df = df.drop(df.columns.difference(values), 1, inplace=False)\n",
      "<ipython-input-56-1843b16cd00b>:8: FutureWarning: In a future version of pandas all arguments of DataFrame.drop except for the argument 'labels' will be keyword-only.\n",
      "  df = df.drop(df.columns.difference(values), 1, inplace=False)\n",
      "<ipython-input-56-1843b16cd00b>:8: FutureWarning: In a future version of pandas all arguments of DataFrame.drop except for the argument 'labels' will be keyword-only.\n",
      "  df = df.drop(df.columns.difference(values), 1, inplace=False)\n",
      "<ipython-input-56-1843b16cd00b>:8: FutureWarning: In a future version of pandas all arguments of DataFrame.drop except for the argument 'labels' will be keyword-only.\n",
      "  df = df.drop(df.columns.difference(values), 1, inplace=False)\n",
      "<ipython-input-56-1843b16cd00b>:8: FutureWarning: In a future version of pandas all arguments of DataFrame.drop except for the argument 'labels' will be keyword-only.\n",
      "  df = df.drop(df.columns.difference(values), 1, inplace=False)\n",
      "<ipython-input-56-1843b16cd00b>:8: FutureWarning: In a future version of pandas all arguments of DataFrame.drop except for the argument 'labels' will be keyword-only.\n",
      "  df = df.drop(df.columns.difference(values), 1, inplace=False)\n",
      "<ipython-input-56-1843b16cd00b>:8: FutureWarning: In a future version of pandas all arguments of DataFrame.drop except for the argument 'labels' will be keyword-only.\n",
      "  df = df.drop(df.columns.difference(values), 1, inplace=False)\n",
      "<ipython-input-56-1843b16cd00b>:8: FutureWarning: In a future version of pandas all arguments of DataFrame.drop except for the argument 'labels' will be keyword-only.\n",
      "  df = df.drop(df.columns.difference(values), 1, inplace=False)\n",
      "<ipython-input-56-1843b16cd00b>:8: FutureWarning: In a future version of pandas all arguments of DataFrame.drop except for the argument 'labels' will be keyword-only.\n",
      "  df = df.drop(df.columns.difference(values), 1, inplace=False)\n",
      "<ipython-input-56-1843b16cd00b>:8: FutureWarning: In a future version of pandas all arguments of DataFrame.drop except for the argument 'labels' will be keyword-only.\n",
      "  df = df.drop(df.columns.difference(values), 1, inplace=False)\n",
      "<ipython-input-56-1843b16cd00b>:8: FutureWarning: In a future version of pandas all arguments of DataFrame.drop except for the argument 'labels' will be keyword-only.\n",
      "  df = df.drop(df.columns.difference(values), 1, inplace=False)\n",
      "<ipython-input-56-1843b16cd00b>:8: FutureWarning: In a future version of pandas all arguments of DataFrame.drop except for the argument 'labels' will be keyword-only.\n",
      "  df = df.drop(df.columns.difference(values), 1, inplace=False)\n",
      "<ipython-input-56-1843b16cd00b>:8: FutureWarning: In a future version of pandas all arguments of DataFrame.drop except for the argument 'labels' will be keyword-only.\n",
      "  df = df.drop(df.columns.difference(values), 1, inplace=False)\n",
      "<ipython-input-56-1843b16cd00b>:8: FutureWarning: In a future version of pandas all arguments of DataFrame.drop except for the argument 'labels' will be keyword-only.\n",
      "  df = df.drop(df.columns.difference(values), 1, inplace=False)\n",
      "<ipython-input-56-1843b16cd00b>:8: FutureWarning: In a future version of pandas all arguments of DataFrame.drop except for the argument 'labels' will be keyword-only.\n",
      "  df = df.drop(df.columns.difference(values), 1, inplace=False)\n"
     ]
    },
    {
     "name": "stderr",
     "output_type": "stream",
     "text": [
      "<ipython-input-56-1843b16cd00b>:8: FutureWarning: In a future version of pandas all arguments of DataFrame.drop except for the argument 'labels' will be keyword-only.\n",
      "  df = df.drop(df.columns.difference(values), 1, inplace=False)\n",
      "<ipython-input-56-1843b16cd00b>:8: FutureWarning: In a future version of pandas all arguments of DataFrame.drop except for the argument 'labels' will be keyword-only.\n",
      "  df = df.drop(df.columns.difference(values), 1, inplace=False)\n",
      "<ipython-input-56-1843b16cd00b>:8: FutureWarning: In a future version of pandas all arguments of DataFrame.drop except for the argument 'labels' will be keyword-only.\n",
      "  df = df.drop(df.columns.difference(values), 1, inplace=False)\n",
      "<ipython-input-56-1843b16cd00b>:8: FutureWarning: In a future version of pandas all arguments of DataFrame.drop except for the argument 'labels' will be keyword-only.\n",
      "  df = df.drop(df.columns.difference(values), 1, inplace=False)\n",
      "<ipython-input-56-1843b16cd00b>:8: FutureWarning: In a future version of pandas all arguments of DataFrame.drop except for the argument 'labels' will be keyword-only.\n",
      "  df = df.drop(df.columns.difference(values), 1, inplace=False)\n",
      "<ipython-input-56-1843b16cd00b>:8: FutureWarning: In a future version of pandas all arguments of DataFrame.drop except for the argument 'labels' will be keyword-only.\n",
      "  df = df.drop(df.columns.difference(values), 1, inplace=False)\n",
      "<ipython-input-56-1843b16cd00b>:8: FutureWarning: In a future version of pandas all arguments of DataFrame.drop except for the argument 'labels' will be keyword-only.\n",
      "  df = df.drop(df.columns.difference(values), 1, inplace=False)\n",
      "<ipython-input-56-1843b16cd00b>:8: FutureWarning: In a future version of pandas all arguments of DataFrame.drop except for the argument 'labels' will be keyword-only.\n",
      "  df = df.drop(df.columns.difference(values), 1, inplace=False)\n",
      "<ipython-input-56-1843b16cd00b>:8: FutureWarning: In a future version of pandas all arguments of DataFrame.drop except for the argument 'labels' will be keyword-only.\n",
      "  df = df.drop(df.columns.difference(values), 1, inplace=False)\n",
      "<ipython-input-56-1843b16cd00b>:8: FutureWarning: In a future version of pandas all arguments of DataFrame.drop except for the argument 'labels' will be keyword-only.\n",
      "  df = df.drop(df.columns.difference(values), 1, inplace=False)\n",
      "<ipython-input-56-1843b16cd00b>:8: FutureWarning: In a future version of pandas all arguments of DataFrame.drop except for the argument 'labels' will be keyword-only.\n",
      "  df = df.drop(df.columns.difference(values), 1, inplace=False)\n",
      "<ipython-input-56-1843b16cd00b>:8: FutureWarning: In a future version of pandas all arguments of DataFrame.drop except for the argument 'labels' will be keyword-only.\n",
      "  df = df.drop(df.columns.difference(values), 1, inplace=False)\n",
      "<ipython-input-56-1843b16cd00b>:8: FutureWarning: In a future version of pandas all arguments of DataFrame.drop except for the argument 'labels' will be keyword-only.\n",
      "  df = df.drop(df.columns.difference(values), 1, inplace=False)\n",
      "<ipython-input-56-1843b16cd00b>:8: FutureWarning: In a future version of pandas all arguments of DataFrame.drop except for the argument 'labels' will be keyword-only.\n",
      "  df = df.drop(df.columns.difference(values), 1, inplace=False)\n",
      "<ipython-input-56-1843b16cd00b>:8: FutureWarning: In a future version of pandas all arguments of DataFrame.drop except for the argument 'labels' will be keyword-only.\n",
      "  df = df.drop(df.columns.difference(values), 1, inplace=False)\n",
      "<ipython-input-56-1843b16cd00b>:8: FutureWarning: In a future version of pandas all arguments of DataFrame.drop except for the argument 'labels' will be keyword-only.\n",
      "  df = df.drop(df.columns.difference(values), 1, inplace=False)\n",
      "<ipython-input-56-1843b16cd00b>:8: FutureWarning: In a future version of pandas all arguments of DataFrame.drop except for the argument 'labels' will be keyword-only.\n",
      "  df = df.drop(df.columns.difference(values), 1, inplace=False)\n",
      "<ipython-input-56-1843b16cd00b>:8: FutureWarning: In a future version of pandas all arguments of DataFrame.drop except for the argument 'labels' will be keyword-only.\n",
      "  df = df.drop(df.columns.difference(values), 1, inplace=False)\n",
      "<ipython-input-56-1843b16cd00b>:8: FutureWarning: In a future version of pandas all arguments of DataFrame.drop except for the argument 'labels' will be keyword-only.\n",
      "  df = df.drop(df.columns.difference(values), 1, inplace=False)\n",
      "<ipython-input-56-1843b16cd00b>:8: FutureWarning: In a future version of pandas all arguments of DataFrame.drop except for the argument 'labels' will be keyword-only.\n",
      "  df = df.drop(df.columns.difference(values), 1, inplace=False)\n",
      "<ipython-input-56-1843b16cd00b>:8: FutureWarning: In a future version of pandas all arguments of DataFrame.drop except for the argument 'labels' will be keyword-only.\n",
      "  df = df.drop(df.columns.difference(values), 1, inplace=False)\n",
      "<ipython-input-56-1843b16cd00b>:8: FutureWarning: In a future version of pandas all arguments of DataFrame.drop except for the argument 'labels' will be keyword-only.\n",
      "  df = df.drop(df.columns.difference(values), 1, inplace=False)\n",
      "<ipython-input-56-1843b16cd00b>:8: FutureWarning: In a future version of pandas all arguments of DataFrame.drop except for the argument 'labels' will be keyword-only.\n",
      "  df = df.drop(df.columns.difference(values), 1, inplace=False)\n",
      "<ipython-input-56-1843b16cd00b>:8: FutureWarning: In a future version of pandas all arguments of DataFrame.drop except for the argument 'labels' will be keyword-only.\n",
      "  df = df.drop(df.columns.difference(values), 1, inplace=False)\n",
      "<ipython-input-56-1843b16cd00b>:8: FutureWarning: In a future version of pandas all arguments of DataFrame.drop except for the argument 'labels' will be keyword-only.\n",
      "  df = df.drop(df.columns.difference(values), 1, inplace=False)\n",
      "<ipython-input-56-1843b16cd00b>:8: FutureWarning: In a future version of pandas all arguments of DataFrame.drop except for the argument 'labels' will be keyword-only.\n",
      "  df = df.drop(df.columns.difference(values), 1, inplace=False)\n",
      "<ipython-input-56-1843b16cd00b>:8: FutureWarning: In a future version of pandas all arguments of DataFrame.drop except for the argument 'labels' will be keyword-only.\n",
      "  df = df.drop(df.columns.difference(values), 1, inplace=False)\n",
      "<ipython-input-56-1843b16cd00b>:8: FutureWarning: In a future version of pandas all arguments of DataFrame.drop except for the argument 'labels' will be keyword-only.\n",
      "  df = df.drop(df.columns.difference(values), 1, inplace=False)\n",
      "<ipython-input-56-1843b16cd00b>:8: FutureWarning: In a future version of pandas all arguments of DataFrame.drop except for the argument 'labels' will be keyword-only.\n",
      "  df = df.drop(df.columns.difference(values), 1, inplace=False)\n",
      "<ipython-input-56-1843b16cd00b>:8: FutureWarning: In a future version of pandas all arguments of DataFrame.drop except for the argument 'labels' will be keyword-only.\n",
      "  df = df.drop(df.columns.difference(values), 1, inplace=False)\n"
     ]
    },
    {
     "name": "stdout",
     "output_type": "stream",
     "text": [
      "Passed! Please submit.\n"
     ]
    }
   ],
   "source": [
    "### test_cell_ex10\n",
    "###\n",
    "### AUTOGRADER TEST - DO NOT REMOVE\n",
    "###\n",
    "from tester_fw.testers import Tester\n",
    "\n",
    "conf = {\n",
    "    'case_file': 'tc_10', \n",
    "    'func': combine_all_data, # replace this with the function defined above\n",
    "    'inputs': { # input config dict. keys are parameter names\n",
    "        'topdf': {'dtype': 'df', 'check_modified': True},\n",
    "        'book2inv': {'dtype': 'df', 'check_modified': True},\n",
    "        'invdf': {'dtype': 'df', 'check_modified': True},\n",
    "        'genresdf': {'dtype': 'df', 'check_modified': True},\n",
    "    },\n",
    "    'outputs': {\n",
    "        'output_0': {\n",
    "            'index': 0,\n",
    "            'dtype': 'df',\n",
    "            'check_dtype': True,\n",
    "            'check_col_dtypes': True, # Ignored if dtype is not df\n",
    "            'check_col_order': False, # Ignored if dtype is not df\n",
    "            'check_row_order': False, # Ignored if dtype is not df\n",
    "            'float_tolerance': 10 ** (-6)\n",
    "        }\n",
    "    }\n",
    "}\n",
    "tester = Tester(conf, key=b'jpS7W-CpqAQfuITMEQZL-yVXfhIaCkSaei-emnyRtrI=', path='resource/asnlib/publicdata/')\n",
    "for _ in range(70):\n",
    "    try:\n",
    "        tester.run_test()\n",
    "        (input_vars, original_input_vars, returned_output_vars, true_output_vars) = tester.get_test_vars()\n",
    "    except:\n",
    "        (input_vars, original_input_vars, returned_output_vars, true_output_vars) = tester.get_test_vars()\n",
    "        raise\n",
    "\n",
    "###\n",
    "### AUTOGRADER TEST - DO NOT REMOVE\n",
    "###\n",
    "print('Passed! Please submit.')"
   ]
  },
  {
   "cell_type": "markdown",
   "metadata": {
    "deletable": false,
    "editable": false,
    "nbgrader": {
     "grade": false,
     "locked": true,
     "solution": false
    }
   },
   "source": [
    "**RUN ME:** If `combine_all_data` is working and applied to the full Goodreads dataset, here are the results:"
   ]
  },
  {
   "cell_type": "code",
   "execution_count": 58,
   "metadata": {
    "ExecuteTime": {
     "end_time": "2023-03-30T22:24:41.945581Z",
     "start_time": "2023-03-30T22:24:41.907329Z"
    },
    "deletable": false,
    "editable": false,
    "nbgrader": {
     "grade": false,
     "locked": true,
     "solution": false
    }
   },
   "outputs": [
    {
     "data": {
      "text/html": [
       "<div>\n",
       "<style scoped>\n",
       "    .dataframe tbody tr th:only-of-type {\n",
       "        vertical-align: middle;\n",
       "    }\n",
       "\n",
       "    .dataframe tbody tr th {\n",
       "        vertical-align: top;\n",
       "    }\n",
       "\n",
       "    .dataframe thead th {\n",
       "        text-align: right;\n",
       "    }\n",
       "</style>\n",
       "<table border=\"1\" class=\"dataframe\">\n",
       "  <thead>\n",
       "    <tr style=\"text-align: right;\">\n",
       "      <th></th>\n",
       "      <th>comm_id</th>\n",
       "      <th>book_id</th>\n",
       "      <th>comm_size</th>\n",
       "      <th>percent</th>\n",
       "      <th>inv_id</th>\n",
       "      <th>title</th>\n",
       "      <th>description</th>\n",
       "      <th>genres</th>\n",
       "    </tr>\n",
       "  </thead>\n",
       "  <tbody>\n",
       "    <tr>\n",
       "      <th>0</th>\n",
       "      <td>0</td>\n",
       "      <td>786</td>\n",
       "      <td>868</td>\n",
       "      <td>28.110599</td>\n",
       "      <td>2657</td>\n",
       "      <td>To Kill a Mockingbird</td>\n",
       "      <td>The unforgettable novel of a childhood in a sl...</td>\n",
       "      <td>{\"fiction\": 8870, \"history, historical fiction...</td>\n",
       "    </tr>\n",
       "    <tr>\n",
       "      <th>1</th>\n",
       "      <td>0</td>\n",
       "      <td>821</td>\n",
       "      <td>868</td>\n",
       "      <td>22.580645</td>\n",
       "      <td>5470</td>\n",
       "      <td>1984</td>\n",
       "      <td>The year 1984 has come and gone, but George Or...</td>\n",
       "      <td>{\"fiction\": 25686, \"fantasy, paranormal\": 1776...</td>\n",
       "    </tr>\n",
       "    <tr>\n",
       "      <th>2</th>\n",
       "      <td>0</td>\n",
       "      <td>943</td>\n",
       "      <td>868</td>\n",
       "      <td>21.428571</td>\n",
       "      <td>3</td>\n",
       "      <td>Harry Potter and the Sorcerer's Stone (Harry P...</td>\n",
       "      <td>Harry Potter's life is miserable. His parents ...</td>\n",
       "      <td>{\"fantasy, paranormal\": 54156, \"young-adult\": ...</td>\n",
       "    </tr>\n",
       "    <tr>\n",
       "      <th>3</th>\n",
       "      <td>0</td>\n",
       "      <td>1012</td>\n",
       "      <td>868</td>\n",
       "      <td>20.852535</td>\n",
       "      <td>1885</td>\n",
       "      <td>Pride and Prejudice</td>\n",
       "      <td>\"It is a truth universally acknowledged, that ...</td>\n",
       "      <td>{\"fiction\": 15668, \"romance\": 10207, \"history,...</td>\n",
       "    </tr>\n",
       "    <tr>\n",
       "      <th>4</th>\n",
       "      <td>0</td>\n",
       "      <td>858</td>\n",
       "      <td>868</td>\n",
       "      <td>20.506912</td>\n",
       "      <td>4671</td>\n",
       "      <td>The Great Gatsby</td>\n",
       "      <td>THE GREAT GATSBY, F. Scott Fitzgerald's third ...</td>\n",
       "      <td>{\"fiction\": 20684, \"history, historical fictio...</td>\n",
       "    </tr>\n",
       "  </tbody>\n",
       "</table>\n",
       "</div>"
      ],
      "text/plain": [
       "   comm_id  book_id  comm_size    percent  inv_id  \\\n",
       "0        0      786        868  28.110599    2657   \n",
       "1        0      821        868  22.580645    5470   \n",
       "2        0      943        868  21.428571       3   \n",
       "3        0     1012        868  20.852535    1885   \n",
       "4        0      858        868  20.506912    4671   \n",
       "\n",
       "                                               title  \\\n",
       "0                              To Kill a Mockingbird   \n",
       "1                                               1984   \n",
       "2  Harry Potter and the Sorcerer's Stone (Harry P...   \n",
       "3                                Pride and Prejudice   \n",
       "4                                   The Great Gatsby   \n",
       "\n",
       "                                         description  \\\n",
       "0  The unforgettable novel of a childhood in a sl...   \n",
       "1  The year 1984 has come and gone, but George Or...   \n",
       "2  Harry Potter's life is miserable. His parents ...   \n",
       "3  \"It is a truth universally acknowledged, that ...   \n",
       "4  THE GREAT GATSBY, F. Scott Fitzgerald's third ...   \n",
       "\n",
       "                                              genres  \n",
       "0  {\"fiction\": 8870, \"history, historical fiction...  \n",
       "1  {\"fiction\": 25686, \"fantasy, paranormal\": 1776...  \n",
       "2  {\"fantasy, paranormal\": 54156, \"young-adult\": ...  \n",
       "3  {\"fiction\": 15668, \"romance\": 10207, \"history,...  \n",
       "4  {\"fiction\": 20684, \"history, historical fictio...  "
      ]
     },
     "metadata": {},
     "output_type": "display_data"
    },
    {
     "data": {
      "text/html": [
       "<div>\n",
       "<style scoped>\n",
       "    .dataframe tbody tr th:only-of-type {\n",
       "        vertical-align: middle;\n",
       "    }\n",
       "\n",
       "    .dataframe tbody tr th {\n",
       "        vertical-align: top;\n",
       "    }\n",
       "\n",
       "    .dataframe thead th {\n",
       "        text-align: right;\n",
       "    }\n",
       "</style>\n",
       "<table border=\"1\" class=\"dataframe\">\n",
       "  <thead>\n",
       "    <tr style=\"text-align: right;\">\n",
       "      <th></th>\n",
       "      <th>comm_id</th>\n",
       "      <th>book_id</th>\n",
       "      <th>comm_size</th>\n",
       "      <th>percent</th>\n",
       "      <th>inv_id</th>\n",
       "      <th>title</th>\n",
       "      <th>description</th>\n",
       "      <th>genres</th>\n",
       "    </tr>\n",
       "  </thead>\n",
       "  <tbody>\n",
       "    <tr>\n",
       "      <th>5</th>\n",
       "      <td>1</td>\n",
       "      <td>25883</td>\n",
       "      <td>2</td>\n",
       "      <td>100.0</td>\n",
       "      <td>6287290</td>\n",
       "      <td>Altar of Eden</td>\n",
       "      <td>Following the fall of Baghdad, two Iraqi boys ...</td>\n",
       "      <td>{\"mystery, thriller, crime\": 445, \"fiction\": 2...</td>\n",
       "    </tr>\n",
       "    <tr>\n",
       "      <th>6</th>\n",
       "      <td>1</td>\n",
       "      <td>27949</td>\n",
       "      <td>2</td>\n",
       "      <td>100.0</td>\n",
       "      <td>7202829</td>\n",
       "      <td>The Devil Colony (Sigma Force, #7)</td>\n",
       "      <td>Deep in the Rocky Mountains, a gruesome discov...</td>\n",
       "      <td>{\"mystery, thriller, crime\": 563, \"fiction\": 2...</td>\n",
       "    </tr>\n",
       "    <tr>\n",
       "      <th>7</th>\n",
       "      <td>1</td>\n",
       "      <td>52388</td>\n",
       "      <td>2</td>\n",
       "      <td>100.0</td>\n",
       "      <td>13148921</td>\n",
       "      <td>Bloodline (Sigma Force, #8)</td>\n",
       "      <td>New York Timesbestselling author James Rollins...</td>\n",
       "      <td>{\"mystery, thriller, crime\": 537, \"fiction\": 2...</td>\n",
       "    </tr>\n",
       "    <tr>\n",
       "      <th>8</th>\n",
       "      <td>1</td>\n",
       "      <td>62026</td>\n",
       "      <td>2</td>\n",
       "      <td>100.0</td>\n",
       "      <td>92147</td>\n",
       "      <td>Map of Bones (Sigma Force, #2)</td>\n",
       "      <td>The bones lead to ancient mysteries and presen...</td>\n",
       "      <td>{\"mystery, thriller, crime\": 980, \"fiction\": 4...</td>\n",
       "    </tr>\n",
       "    <tr>\n",
       "      <th>9</th>\n",
       "      <td>1</td>\n",
       "      <td>62027</td>\n",
       "      <td>2</td>\n",
       "      <td>100.0</td>\n",
       "      <td>294042</td>\n",
       "      <td>Black Order (Sigma Force, #3)</td>\n",
       "      <td>A sinister fire in a Copenhagen bookstore igni...</td>\n",
       "      <td>{\"mystery, thriller, crime\": 721, \"fiction\": 3...</td>\n",
       "    </tr>\n",
       "  </tbody>\n",
       "</table>\n",
       "</div>"
      ],
      "text/plain": [
       "   comm_id  book_id  comm_size  percent    inv_id  \\\n",
       "5        1    25883          2    100.0   6287290   \n",
       "6        1    27949          2    100.0   7202829   \n",
       "7        1    52388          2    100.0  13148921   \n",
       "8        1    62026          2    100.0     92147   \n",
       "9        1    62027          2    100.0    294042   \n",
       "\n",
       "                                title  \\\n",
       "5                       Altar of Eden   \n",
       "6  The Devil Colony (Sigma Force, #7)   \n",
       "7         Bloodline (Sigma Force, #8)   \n",
       "8      Map of Bones (Sigma Force, #2)   \n",
       "9       Black Order (Sigma Force, #3)   \n",
       "\n",
       "                                         description  \\\n",
       "5  Following the fall of Baghdad, two Iraqi boys ...   \n",
       "6  Deep in the Rocky Mountains, a gruesome discov...   \n",
       "7  New York Timesbestselling author James Rollins...   \n",
       "8  The bones lead to ancient mysteries and presen...   \n",
       "9  A sinister fire in a Copenhagen bookstore igni...   \n",
       "\n",
       "                                              genres  \n",
       "5  {\"mystery, thriller, crime\": 445, \"fiction\": 2...  \n",
       "6  {\"mystery, thriller, crime\": 563, \"fiction\": 2...  \n",
       "7  {\"mystery, thriller, crime\": 537, \"fiction\": 2...  \n",
       "8  {\"mystery, thriller, crime\": 980, \"fiction\": 4...  \n",
       "9  {\"mystery, thriller, crime\": 721, \"fiction\": 3...  "
      ]
     },
     "metadata": {},
     "output_type": "display_data"
    },
    {
     "data": {
      "text/html": [
       "<div>\n",
       "<style scoped>\n",
       "    .dataframe tbody tr th:only-of-type {\n",
       "        vertical-align: middle;\n",
       "    }\n",
       "\n",
       "    .dataframe tbody tr th {\n",
       "        vertical-align: top;\n",
       "    }\n",
       "\n",
       "    .dataframe thead th {\n",
       "        text-align: right;\n",
       "    }\n",
       "</style>\n",
       "<table border=\"1\" class=\"dataframe\">\n",
       "  <thead>\n",
       "    <tr style=\"text-align: right;\">\n",
       "      <th></th>\n",
       "      <th>comm_id</th>\n",
       "      <th>book_id</th>\n",
       "      <th>comm_size</th>\n",
       "      <th>percent</th>\n",
       "      <th>inv_id</th>\n",
       "      <th>title</th>\n",
       "      <th>description</th>\n",
       "      <th>genres</th>\n",
       "    </tr>\n",
       "  </thead>\n",
       "  <tbody>\n",
       "    <tr>\n",
       "      <th>10</th>\n",
       "      <td>2</td>\n",
       "      <td>23176</td>\n",
       "      <td>36</td>\n",
       "      <td>33.333333</td>\n",
       "      <td>3554772</td>\n",
       "      <td>عزازيل</td>\n",
       "      <td>tdwr 'Hdth lrwy@ fy lqrn lkhms lmyldy m byn S`...</td>\n",
       "      <td>{\"fiction\": 63, \"history, historical fiction, ...</td>\n",
       "    </tr>\n",
       "    <tr>\n",
       "      <th>11</th>\n",
       "      <td>2</td>\n",
       "      <td>23819</td>\n",
       "      <td>36</td>\n",
       "      <td>22.222222</td>\n",
       "      <td>13637412</td>\n",
       "      <td>ساق البامبو</td>\n",
       "      <td>lmdh kn jlwsy tHt lshjr@ yz`j 'my? 'trh knt tk...</td>\n",
       "      <td>{\"fiction\": 44}</td>\n",
       "    </tr>\n",
       "    <tr>\n",
       "      <th>12</th>\n",
       "      <td>2</td>\n",
       "      <td>49734</td>\n",
       "      <td>36</td>\n",
       "      <td>22.222222</td>\n",
       "      <td>6604887</td>\n",
       "      <td>أنت لي</td>\n",
       "      <td></td>\n",
       "      <td>{\"romance\": 31, \"fiction\": 9}</td>\n",
       "    </tr>\n",
       "    <tr>\n",
       "      <th>13</th>\n",
       "      <td>2</td>\n",
       "      <td>23164</td>\n",
       "      <td>36</td>\n",
       "      <td>19.444444</td>\n",
       "      <td>7704143</td>\n",
       "      <td>تراب الماس</td>\n",
       "      <td>\"llmr@ lthny@ b`d \"fyrtyjw\" ytWkhdh 'Hmd mrd m...</td>\n",
       "      <td>{\"fiction\": 27, \"mystery, thriller, crime\": 32}</td>\n",
       "    </tr>\n",
       "    <tr>\n",
       "      <th>14</th>\n",
       "      <td>2</td>\n",
       "      <td>23172</td>\n",
       "      <td>36</td>\n",
       "      <td>19.444444</td>\n",
       "      <td>3438000</td>\n",
       "      <td>ثلاثية غرناطة</td>\n",
       "      <td>thlthy@ GrnT@ hy thlthy@ rwy'y@ ttkwn mn thlth...</td>\n",
       "      <td>{\"fiction\": 128, \"history, historical fiction,...</td>\n",
       "    </tr>\n",
       "  </tbody>\n",
       "</table>\n",
       "</div>"
      ],
      "text/plain": [
       "    comm_id  book_id  comm_size    percent    inv_id          title  \\\n",
       "10        2    23176         36  33.333333   3554772         عزازيل   \n",
       "11        2    23819         36  22.222222  13637412    ساق البامبو   \n",
       "12        2    49734         36  22.222222   6604887         أنت لي   \n",
       "13        2    23164         36  19.444444   7704143     تراب الماس   \n",
       "14        2    23172         36  19.444444   3438000  ثلاثية غرناطة   \n",
       "\n",
       "                                          description  \\\n",
       "10  tdwr 'Hdth lrwy@ fy lqrn lkhms lmyldy m byn S`...   \n",
       "11  lmdh kn jlwsy tHt lshjr@ yz`j 'my? 'trh knt tk...   \n",
       "12                                                      \n",
       "13  \"llmr@ lthny@ b`d \"fyrtyjw\" ytWkhdh 'Hmd mrd m...   \n",
       "14  thlthy@ GrnT@ hy thlthy@ rwy'y@ ttkwn mn thlth...   \n",
       "\n",
       "                                               genres  \n",
       "10  {\"fiction\": 63, \"history, historical fiction, ...  \n",
       "11                                    {\"fiction\": 44}  \n",
       "12                      {\"romance\": 31, \"fiction\": 9}  \n",
       "13    {\"fiction\": 27, \"mystery, thriller, crime\": 32}  \n",
       "14  {\"fiction\": 128, \"history, historical fiction,...  "
      ]
     },
     "metadata": {},
     "output_type": "display_data"
    },
    {
     "data": {
      "text/html": [
       "<div>\n",
       "<style scoped>\n",
       "    .dataframe tbody tr th:only-of-type {\n",
       "        vertical-align: middle;\n",
       "    }\n",
       "\n",
       "    .dataframe tbody tr th {\n",
       "        vertical-align: top;\n",
       "    }\n",
       "\n",
       "    .dataframe thead th {\n",
       "        text-align: right;\n",
       "    }\n",
       "</style>\n",
       "<table border=\"1\" class=\"dataframe\">\n",
       "  <thead>\n",
       "    <tr style=\"text-align: right;\">\n",
       "      <th></th>\n",
       "      <th>comm_id</th>\n",
       "      <th>book_id</th>\n",
       "      <th>comm_size</th>\n",
       "      <th>percent</th>\n",
       "      <th>inv_id</th>\n",
       "      <th>title</th>\n",
       "      <th>description</th>\n",
       "      <th>genres</th>\n",
       "    </tr>\n",
       "  </thead>\n",
       "  <tbody>\n",
       "    <tr>\n",
       "      <th>15</th>\n",
       "      <td>3</td>\n",
       "      <td>943</td>\n",
       "      <td>340</td>\n",
       "      <td>77.058824</td>\n",
       "      <td>3</td>\n",
       "      <td>Harry Potter and the Sorcerer's Stone (Harry P...</td>\n",
       "      <td>Harry Potter's life is miserable. His parents ...</td>\n",
       "      <td>{\"fantasy, paranormal\": 54156, \"young-adult\": ...</td>\n",
       "    </tr>\n",
       "    <tr>\n",
       "      <th>16</th>\n",
       "      <td>3</td>\n",
       "      <td>938</td>\n",
       "      <td>340</td>\n",
       "      <td>75.294118</td>\n",
       "      <td>6</td>\n",
       "      <td>Harry Potter and the Goblet of Fire (Harry Pot...</td>\n",
       "      <td>Harry Potter is midway through his training as...</td>\n",
       "      <td>{\"fantasy, paranormal\": 3630, \"children\": 2050...</td>\n",
       "    </tr>\n",
       "    <tr>\n",
       "      <th>17</th>\n",
       "      <td>3</td>\n",
       "      <td>941</td>\n",
       "      <td>340</td>\n",
       "      <td>74.117647</td>\n",
       "      <td>5</td>\n",
       "      <td>Harry Potter and the Prisoner of Azkaban (Harr...</td>\n",
       "      <td>Harry Potter's third year at Hogwarts is full ...</td>\n",
       "      <td>{\"fiction\": 12103, \"children\": 8558, \"fantasy,...</td>\n",
       "    </tr>\n",
       "    <tr>\n",
       "      <th>18</th>\n",
       "      <td>3</td>\n",
       "      <td>613</td>\n",
       "      <td>340</td>\n",
       "      <td>71.764706</td>\n",
       "      <td>136251</td>\n",
       "      <td>Harry Potter and the Deathly Hallows (Harry Po...</td>\n",
       "      <td>It's no longer safe for Harry at Hogwarts, so ...</td>\n",
       "      <td>{\"fantasy, paranormal\": 42549, \"young-adult\": ...</td>\n",
       "    </tr>\n",
       "    <tr>\n",
       "      <th>19</th>\n",
       "      <td>3</td>\n",
       "      <td>968</td>\n",
       "      <td>340</td>\n",
       "      <td>71.176471</td>\n",
       "      <td>15881</td>\n",
       "      <td>Harry Potter and the Chamber of Secrets (Harry...</td>\n",
       "      <td>The Dursleys were so mean and hideous that sum...</td>\n",
       "      <td>{\"fantasy, paranormal\": 45032, \"young-adult\": ...</td>\n",
       "    </tr>\n",
       "  </tbody>\n",
       "</table>\n",
       "</div>"
      ],
      "text/plain": [
       "    comm_id  book_id  comm_size    percent  inv_id  \\\n",
       "15        3      943        340  77.058824       3   \n",
       "16        3      938        340  75.294118       6   \n",
       "17        3      941        340  74.117647       5   \n",
       "18        3      613        340  71.764706  136251   \n",
       "19        3      968        340  71.176471   15881   \n",
       "\n",
       "                                                title  \\\n",
       "15  Harry Potter and the Sorcerer's Stone (Harry P...   \n",
       "16  Harry Potter and the Goblet of Fire (Harry Pot...   \n",
       "17  Harry Potter and the Prisoner of Azkaban (Harr...   \n",
       "18  Harry Potter and the Deathly Hallows (Harry Po...   \n",
       "19  Harry Potter and the Chamber of Secrets (Harry...   \n",
       "\n",
       "                                          description  \\\n",
       "15  Harry Potter's life is miserable. His parents ...   \n",
       "16  Harry Potter is midway through his training as...   \n",
       "17  Harry Potter's third year at Hogwarts is full ...   \n",
       "18  It's no longer safe for Harry at Hogwarts, so ...   \n",
       "19  The Dursleys were so mean and hideous that sum...   \n",
       "\n",
       "                                               genres  \n",
       "15  {\"fantasy, paranormal\": 54156, \"young-adult\": ...  \n",
       "16  {\"fantasy, paranormal\": 3630, \"children\": 2050...  \n",
       "17  {\"fiction\": 12103, \"children\": 8558, \"fantasy,...  \n",
       "18  {\"fantasy, paranormal\": 42549, \"young-adult\": ...  \n",
       "19  {\"fantasy, paranormal\": 45032, \"young-adult\": ...  "
      ]
     },
     "metadata": {},
     "output_type": "display_data"
    },
    {
     "data": {
      "text/html": [
       "<div>\n",
       "<style scoped>\n",
       "    .dataframe tbody tr th:only-of-type {\n",
       "        vertical-align: middle;\n",
       "    }\n",
       "\n",
       "    .dataframe tbody tr th {\n",
       "        vertical-align: top;\n",
       "    }\n",
       "\n",
       "    .dataframe thead th {\n",
       "        text-align: right;\n",
       "    }\n",
       "</style>\n",
       "<table border=\"1\" class=\"dataframe\">\n",
       "  <thead>\n",
       "    <tr style=\"text-align: right;\">\n",
       "      <th></th>\n",
       "      <th>comm_id</th>\n",
       "      <th>book_id</th>\n",
       "      <th>comm_size</th>\n",
       "      <th>percent</th>\n",
       "      <th>inv_id</th>\n",
       "      <th>title</th>\n",
       "      <th>description</th>\n",
       "      <th>genres</th>\n",
       "    </tr>\n",
       "  </thead>\n",
       "  <tbody>\n",
       "    <tr>\n",
       "      <th>20</th>\n",
       "      <td>4</td>\n",
       "      <td>80632</td>\n",
       "      <td>6</td>\n",
       "      <td>50.0</td>\n",
       "      <td>116925</td>\n",
       "      <td>شازده احتجاب</td>\n",
       "      <td>shzdh Htjb rwyt frwpshy nZm shhy w khny dr snt...</td>\n",
       "      <td>{\"fiction\": 17, \"history, historical fiction, ...</td>\n",
       "    </tr>\n",
       "    <tr>\n",
       "      <th>21</th>\n",
       "      <td>4</td>\n",
       "      <td>80723</td>\n",
       "      <td>6</td>\n",
       "      <td>50.0</td>\n",
       "      <td>650377</td>\n",
       "      <td>ناتور دشت</td>\n",
       "      <td>hwldn khlfyld, qhrmn rmn ntwr dsht, bygnhy st ...</td>\n",
       "      <td>{\"fiction\": 15820, \"young-adult\": 3283, \"histo...</td>\n",
       "    </tr>\n",
       "    <tr>\n",
       "      <th>22</th>\n",
       "      <td>4</td>\n",
       "      <td>139433</td>\n",
       "      <td>6</td>\n",
       "      <td>50.0</td>\n",
       "      <td>148849</td>\n",
       "      <td>شازده کوچولو</td>\n",
       "      <td>shzdh khwchwlw skhn syrhy khwchkhy bh ndzhy yk...</td>\n",
       "      <td>{\"fiction\": 5481, \"fantasy, paranormal\": 3847,...</td>\n",
       "    </tr>\n",
       "    <tr>\n",
       "      <th>23</th>\n",
       "      <td>4</td>\n",
       "      <td>210803</td>\n",
       "      <td>6</td>\n",
       "      <td>50.0</td>\n",
       "      <td>416775</td>\n",
       "      <td>زندگی در پیش رو</td>\n",
       "      <td>zndgy dr pyshrw, dstn zndgy psry chhrdhslh st ...</td>\n",
       "      <td>{\"young-adult\": 3}</td>\n",
       "    </tr>\n",
       "    <tr>\n",
       "      <th>24</th>\n",
       "      <td>4</td>\n",
       "      <td>264072</td>\n",
       "      <td>6</td>\n",
       "      <td>50.0</td>\n",
       "      <td>383196</td>\n",
       "      <td>هشت کتاب</td>\n",
       "      <td>hsht khtb: mrgi rng. zndgyi khwbh. awri aftb. ...</td>\n",
       "      <td>{\"poetry\": 130, \"non-fiction\": 2, \"fiction\": 1}</td>\n",
       "    </tr>\n",
       "  </tbody>\n",
       "</table>\n",
       "</div>"
      ],
      "text/plain": [
       "    comm_id  book_id  comm_size  percent  inv_id            title  \\\n",
       "20        4    80632          6     50.0  116925     شازده احتجاب   \n",
       "21        4    80723          6     50.0  650377        ناتور دشت   \n",
       "22        4   139433          6     50.0  148849     شازده کوچولو   \n",
       "23        4   210803          6     50.0  416775  زندگی در پیش رو   \n",
       "24        4   264072          6     50.0  383196         هشت کتاب   \n",
       "\n",
       "                                          description  \\\n",
       "20  shzdh Htjb rwyt frwpshy nZm shhy w khny dr snt...   \n",
       "21  hwldn khlfyld, qhrmn rmn ntwr dsht, bygnhy st ...   \n",
       "22  shzdh khwchwlw skhn syrhy khwchkhy bh ndzhy yk...   \n",
       "23  zndgy dr pyshrw, dstn zndgy psry chhrdhslh st ...   \n",
       "24  hsht khtb: mrgi rng. zndgyi khwbh. awri aftb. ...   \n",
       "\n",
       "                                               genres  \n",
       "20  {\"fiction\": 17, \"history, historical fiction, ...  \n",
       "21  {\"fiction\": 15820, \"young-adult\": 3283, \"histo...  \n",
       "22  {\"fiction\": 5481, \"fantasy, paranormal\": 3847,...  \n",
       "23                                 {\"young-adult\": 3}  \n",
       "24    {\"poetry\": 130, \"non-fiction\": 2, \"fiction\": 1}  "
      ]
     },
     "metadata": {},
     "output_type": "display_data"
    },
    {
     "data": {
      "text/html": [
       "<div>\n",
       "<style scoped>\n",
       "    .dataframe tbody tr th:only-of-type {\n",
       "        vertical-align: middle;\n",
       "    }\n",
       "\n",
       "    .dataframe tbody tr th {\n",
       "        vertical-align: top;\n",
       "    }\n",
       "\n",
       "    .dataframe thead th {\n",
       "        text-align: right;\n",
       "    }\n",
       "</style>\n",
       "<table border=\"1\" class=\"dataframe\">\n",
       "  <thead>\n",
       "    <tr style=\"text-align: right;\">\n",
       "      <th></th>\n",
       "      <th>comm_id</th>\n",
       "      <th>book_id</th>\n",
       "      <th>comm_size</th>\n",
       "      <th>percent</th>\n",
       "      <th>inv_id</th>\n",
       "      <th>title</th>\n",
       "      <th>description</th>\n",
       "      <th>genres</th>\n",
       "    </tr>\n",
       "  </thead>\n",
       "  <tbody>\n",
       "    <tr>\n",
       "      <th>25</th>\n",
       "      <td>5</td>\n",
       "      <td>536</td>\n",
       "      <td>574</td>\n",
       "      <td>53.484321</td>\n",
       "      <td>2767052</td>\n",
       "      <td>The Hunger Games (The Hunger Games, #1)</td>\n",
       "      <td>Winning will make you famous.\\nLosing means ce...</td>\n",
       "      <td>{\"young-adult\": 30173, \"fiction\": 26304, \"fant...</td>\n",
       "    </tr>\n",
       "    <tr>\n",
       "      <th>26</th>\n",
       "      <td>5</td>\n",
       "      <td>1473</td>\n",
       "      <td>574</td>\n",
       "      <td>36.585366</td>\n",
       "      <td>11870085</td>\n",
       "      <td>The Fault in Our Stars</td>\n",
       "      <td>There is an alternate cover edition \u0001.\\n\"I fel...</td>\n",
       "      <td>{\"young-adult\": 20159, \"fiction\": 13376, \"roma...</td>\n",
       "    </tr>\n",
       "    <tr>\n",
       "      <th>27</th>\n",
       "      <td>5</td>\n",
       "      <td>1387</td>\n",
       "      <td>574</td>\n",
       "      <td>31.881533</td>\n",
       "      <td>6148028</td>\n",
       "      <td>Catching Fire (The Hunger Games, #2)</td>\n",
       "      <td>Sparks are igniting.\\nFlames are spreading.\\nA...</td>\n",
       "      <td>{\"young-adult\": 25726, \"fantasy, paranormal\": ...</td>\n",
       "    </tr>\n",
       "    <tr>\n",
       "      <th>28</th>\n",
       "      <td>5</td>\n",
       "      <td>1605</td>\n",
       "      <td>574</td>\n",
       "      <td>31.707317</td>\n",
       "      <td>13335037</td>\n",
       "      <td>Divergent (Divergent, #1)</td>\n",
       "      <td>Paperback features over fifty pages of bonus m...</td>\n",
       "      <td>{\"young-adult\": 21358, \"fiction\": 12911, \"fant...</td>\n",
       "    </tr>\n",
       "    <tr>\n",
       "      <th>29</th>\n",
       "      <td>5</td>\n",
       "      <td>1000</td>\n",
       "      <td>574</td>\n",
       "      <td>30.836237</td>\n",
       "      <td>41865</td>\n",
       "      <td>Twilight (Twilight, #1)</td>\n",
       "      <td>About three things I was absolutely positive.\\...</td>\n",
       "      <td>{\"young-adult\": 19627, \"fantasy, paranormal\": ...</td>\n",
       "    </tr>\n",
       "  </tbody>\n",
       "</table>\n",
       "</div>"
      ],
      "text/plain": [
       "    comm_id  book_id  comm_size    percent    inv_id  \\\n",
       "25        5      536        574  53.484321   2767052   \n",
       "26        5     1473        574  36.585366  11870085   \n",
       "27        5     1387        574  31.881533   6148028   \n",
       "28        5     1605        574  31.707317  13335037   \n",
       "29        5     1000        574  30.836237     41865   \n",
       "\n",
       "                                      title  \\\n",
       "25  The Hunger Games (The Hunger Games, #1)   \n",
       "26                   The Fault in Our Stars   \n",
       "27     Catching Fire (The Hunger Games, #2)   \n",
       "28                Divergent (Divergent, #1)   \n",
       "29                  Twilight (Twilight, #1)   \n",
       "\n",
       "                                          description  \\\n",
       "25  Winning will make you famous.\\nLosing means ce...   \n",
       "26  There is an alternate cover edition \u0001.\\n\"I fel...   \n",
       "27  Sparks are igniting.\\nFlames are spreading.\\nA...   \n",
       "28  Paperback features over fifty pages of bonus m...   \n",
       "29  About three things I was absolutely positive.\\...   \n",
       "\n",
       "                                               genres  \n",
       "25  {\"young-adult\": 30173, \"fiction\": 26304, \"fant...  \n",
       "26  {\"young-adult\": 20159, \"fiction\": 13376, \"roma...  \n",
       "27  {\"young-adult\": 25726, \"fantasy, paranormal\": ...  \n",
       "28  {\"young-adult\": 21358, \"fiction\": 12911, \"fant...  \n",
       "29  {\"young-adult\": 19627, \"fantasy, paranormal\": ...  "
      ]
     },
     "metadata": {},
     "output_type": "display_data"
    }
   ],
   "source": [
    "ex10_final = load_df_from_file('ex10-final.df')\n",
    "ex10_final_groups = ex10_final.groupby('comm_id')\n",
    "for comm_id in ex10_final_groups.groups.keys():\n",
    "    display(ex10_final_groups.get_group(comm_id))"
   ]
  },
  {
   "cell_type": "markdown",
   "metadata": {
    "deletable": false,
    "editable": false,
    "nbgrader": {
     "grade": false,
     "locked": true,
     "solution": false
    }
   },
   "source": [
    "> Scan the titles, descriptions, and genres. Do the community labels appear to identify distinct communities?"
   ]
  },
  {
   "cell_type": "markdown",
   "metadata": {
    "deletable": false,
    "editable": false,
    "nbgrader": {
     "grade": false,
     "locked": true,
     "solution": false
    },
    "tags": [
     "fin"
    ]
   },
   "source": [
    "# Fin! #\n",
    "\n",
    "If you have made it this far, that's it — congratulations on completing the exam. **Don't forget to submit!**"
   ]
  },
  {
   "cell_type": "code",
   "execution_count": 59,
   "metadata": {
    "ExecuteTime": {
     "end_time": "2023-03-30T22:24:41.967853Z",
     "start_time": "2023-03-30T22:24:41.946674Z"
    },
    "collapsed": true,
    "deletable": false,
    "editable": false,
    "nbgrader": {
     "grade": false,
     "locked": true,
     "solution": false
    }
   },
   "outputs": [],
   "source": [
    "# Close database connection\n",
    "try:\n",
    "    grdbconn.close()\n",
    "except:\n",
    "    print(\"Goodreads database-connection may already be closed.\")"
   ]
  },
  {
   "cell_type": "markdown",
   "metadata": {
    "deletable": false,
    "editable": false,
    "nbgrader": {
     "grade": false,
     "locked": true,
     "solution": false
    }
   },
   "source": [
    "**Postscript.** Had you gotten everything right, then we could have performed one final analysis on the previous result.\n",
    "\n",
    "Suppose you calculate the normalized genre vectors for each community, and then plot the components for each community as shown below.\n",
    "\n",
    "![Genre vectors uncovered](resource/asnlib/public/demo-comm-vecs.png)"
   ]
  },
  {
   "cell_type": "markdown",
   "metadata": {
    "deletable": false,
    "editable": false,
    "nbgrader": {
     "grade": false,
     "locked": true,
     "solution": false
    }
   },
   "source": [
    "Darker bars correspond to more highly weighted components. You can see that the community genre-vectors are distinct from one another, albeit with some (expected) overlaps. Thus, there is, arguably, at least some additional evidence to suspect this initial grouping may be a meaningful one for helping users find other users and appropriate book recommendations. The analysis in this notebook operated on just a small fraction of the complete dataset, and it is possible that with more data more distinct communities could emerge."
   ]
  },
  {
   "cell_type": "markdown",
   "metadata": {
    "deletable": false,
    "editable": false,
    "nbgrader": {
     "grade": false,
     "locked": true,
     "solution": false
    }
   },
   "source": [
    "**Want to explore this dataset on your own?** Refer to the [Goodreads Dataset](https://sites.google.com/eng.ucsd.edu/ucsdbookgraph/home). It was originally collected in 2017 by researchers at the University of California, San Diego. It is quite extensive, and what we did in this exam barely scratches the surface of what is possible!"
   ]
  }
 ],
 "metadata": {
  "interpreter": {
   "hash": "f2b38b6e01547e8f771d473ea2b8718fd0728eea782e4c924ed8783f739d4a6c"
  },
  "kernelspec": {
   "display_name": "Python 3.8",
   "language": "python",
   "name": "python38"
  },
  "language_info": {
   "codemirror_mode": {
    "name": "ipython",
    "version": 3
   },
   "file_extension": ".py",
   "mimetype": "text/x-python",
   "name": "python",
   "nbconvert_exporter": "python",
   "pygments_lexer": "ipython3",
   "version": "3.8.7"
  },
  "toc": {
   "base_numbering": 1,
   "nav_menu": [],
   "number_sections": true,
   "sideBar": true,
   "skip_h1_title": false,
   "title_cell": "Table of Contents",
   "title_sidebar": "Contents",
   "toc_cell": false,
   "toc_position": {
    "height": "calc(100% - 180px)",
    "left": "10px",
    "top": "150px",
    "width": "165px"
   },
   "toc_section_display": true,
   "toc_window_display": true
  }
 },
 "nbformat": 4,
 "nbformat_minor": 5
}
